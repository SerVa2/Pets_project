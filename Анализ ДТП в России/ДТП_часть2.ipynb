{
 "cells": [
  {
   "cell_type": "markdown",
   "id": "27178888",
   "metadata": {
    "toc": true
   },
   "source": [
    "<h1>Table of Contents<span class=\"tocSkip\"></span></h1>\n",
    "<div class=\"toc\"><ul class=\"toc-item\"><li><span><a href=\"#Анализ--ДТП-по-регионам-РФ(часть2)\" data-toc-modified-id=\"Анализ--ДТП-по-регионам-РФ(часть2)-1\"><span class=\"toc-item-num\">1&nbsp;&nbsp;</span>Анализ  ДТП по регионам РФ(часть2)</a></span><ul class=\"toc-item\"><li><span><a href=\"#Техническое-задание\" data-toc-modified-id=\"Техническое-задание-1.1\"><span class=\"toc-item-num\">1.1&nbsp;&nbsp;</span>Техническое задание</a></span></li><li><span><a href=\"#Предобработка-данных(продолжение)\" data-toc-modified-id=\"Предобработка-данных(продолжение)-1.2\"><span class=\"toc-item-num\">1.2&nbsp;&nbsp;</span>Предобработка данных(продолжение)</a></span><ul class=\"toc-item\"><li><span><a href=\"#Транспортные-средства\" data-toc-modified-id=\"Транспортные-средства-1.2.1\"><span class=\"toc-item-num\">1.2.1&nbsp;&nbsp;</span>Транспортные средства</a></span></li><li><span><a href=\"#Основной-датафрейм\" data-toc-modified-id=\"Основной-датафрейм-1.2.2\"><span class=\"toc-item-num\">1.2.2&nbsp;&nbsp;</span>Основной датафрейм</a></span></li><li><span><a href=\"#Пешеходы-и-водители-df_foot_part.pickle\" data-toc-modified-id=\"Пешеходы-и-водители-df_foot_part.pickle-1.2.3\"><span class=\"toc-item-num\">1.2.3&nbsp;&nbsp;</span>Пешеходы и водители <code>df_foot_part.pickle</code></a></span><ul class=\"toc-item\"><li><span><a href=\"#role\" data-toc-modified-id=\"role-1.2.3.1\"><span class=\"toc-item-num\">1.2.3.1&nbsp;&nbsp;</span><code>role</code></a></span></li><li><span><a href=\"#gender\" data-toc-modified-id=\"gender-1.2.3.2\"><span class=\"toc-item-num\">1.2.3.2&nbsp;&nbsp;</span><code>gender</code></a></span></li><li><span><a href=\"#health_status\" data-toc-modified-id=\"health_status-1.2.3.3\"><span class=\"toc-item-num\">1.2.3.3&nbsp;&nbsp;</span><code>health_status</code></a></span></li><li><span><a href=\"#violations-(нарушения)\" data-toc-modified-id=\"violations-(нарушения)-1.2.3.4\"><span class=\"toc-item-num\">1.2.3.4&nbsp;&nbsp;</span><code>violations</code> (нарушения)</a></span></li><li><span><a href=\"#years_of_driving_experience\" data-toc-modified-id=\"years_of_driving_experience-1.2.3.5\"><span class=\"toc-item-num\">1.2.3.5&nbsp;&nbsp;</span><code>years_of_driving_experience</code></a></span></li></ul></li></ul></li><li><span><a href=\"#Исследовательский-анализ-данных\" data-toc-modified-id=\"Исследовательский-анализ-данных-1.3\"><span class=\"toc-item-num\">1.3&nbsp;&nbsp;</span>Исследовательский анализ данных</a></span><ul class=\"toc-item\"><li><span><a href=\"#Старые-автомобили-чаще-попадают-в-ДТП?\" data-toc-modified-id=\"Старые-автомобили-чаще-попадают-в-ДТП?-1.3.1\"><span class=\"toc-item-num\">1.3.1&nbsp;&nbsp;</span>Старые автомобили чаще попадают в ДТП?</a></span></li><li><span><a href=\"#Наблюдается-ли-сезонность-в-ДТП?\" data-toc-modified-id=\"Наблюдается-ли-сезонность-в-ДТП?-1.3.2\"><span class=\"toc-item-num\">1.3.2&nbsp;&nbsp;</span>Наблюдается ли сезонность в ДТП?</a></span></li><li><span><a href=\"#В-последнее-время-участились-случаи-ДТП-с-участием-персональных-электрических-средств-передвижения-малой-мощности(электросамокатов-и-т.п.)?\" data-toc-modified-id=\"В-последнее-время-участились-случаи-ДТП-с-участием-персональных-электрических-средств-передвижения-малой-мощности(электросамокатов-и-т.п.)?-1.3.3\"><span class=\"toc-item-num\">1.3.3&nbsp;&nbsp;</span>В последнее время участились случаи ДТП с участием персональных электрических средств передвижения малой мощности(электросамокатов и т.п.)?</a></span></li><li><span><a href=\"#Выгрузка-датасетов-об-автомобилях-.\" data-toc-modified-id=\"Выгрузка-датасетов-об-автомобилях-.-1.3.4\"><span class=\"toc-item-num\">1.3.4&nbsp;&nbsp;</span>Выгрузка датасетов об автомобилях .</a></span></li><li><span><a href=\"#Построения-дашборда\" data-toc-modified-id=\"Построения-дашборда-1.3.5\"><span class=\"toc-item-num\">1.3.5&nbsp;&nbsp;</span>Построения дашборда</a></span></li></ul></li><li><span><a href=\"#Выводы\" data-toc-modified-id=\"Выводы-1.4\"><span class=\"toc-item-num\">1.4&nbsp;&nbsp;</span>Выводы</a></span></li></ul></li></ul></div>"
   ]
  },
  {
   "cell_type": "markdown",
   "id": "038e26ad",
   "metadata": {},
   "source": [
    "# Анализ  ДТП по регионам РФ(часть2)      \n",
    "\n",
    "**Выполнил:Колыванова С.**   https://t.me/SerVa1\n",
    "\n",
    "## Техническое задание\n",
    "\n",
    "\n",
    "**Заказчик**- проект «Карта ДТП» https://dtp-stat.ru/ — некоммерческий проект, посвященный проблеме дорожно-транспортных происшествий в России. Это платформа сбора данных о ДТП, бесплатный и открытый сервис аналитики ДТП.\n",
    "\n",
    "**Цель проекта** - провести глубокий анализ данных, сформулировать и проверить гипотезы, опираясь на доступные признаки.\n",
    "\n",
    "**Задачи**\n",
    "- Провести исследовательский анализ данных о ДТП.\n",
    "\n",
    "- Сформулировать и проверить не менее трех гипотез, основываясь на имеющихся признаках.\n",
    "\n",
    "- Провести анализ ДТП по всем датасетам, представленным на сайте.\n",
    "\n",
    "- Построить дашборд используя любой удобный инструмент, с учетом того, что дашборд может быть           опубликован\n",
    "\n",
    "\n",
    "Файлы находятся [тут](https://dtp-stat.ru/opendata) в формате geojson.\n",
    "Ниже представлена структура файлов. \n",
    "\n"
   ]
  },
  {
   "cell_type": "markdown",
   "id": "6b4f42c8",
   "metadata": {},
   "source": [
    "    \"id\"  # идентификатор\n",
    "    \"tags\"  # показатели с официального сайта ГИБДД\n",
    "    \"light\"  # время суток\n",
    "    \"point\"  # координаты\n",
    "    \"nearby\"  # объекты рядом\n",
    "    \"region\" # город/район\n",
    "    \"address\" # адрес\n",
    "    \"weather\"  # погода\n",
    "    \"category\"  # тип ДТП\n",
    "    \"datetime\"  # дата и время\n",
    "    \"severity\" # тяжесть ДТП/вред здоровью\n",
    "    \"vehicles\": [  # участники – транспортные средства\n",
    "        {\n",
    "            \"year\":\n",
    "            2010,  # год производства транспортного средства\n",
    "            \"brand\":\n",
    "            \"ВАЗ\",  # марка транспортного средства\n",
    "            \"color\":\n",
    "            \"Иные цвета\",  # цвет транспортного средства\n",
    "            \"model\":\n",
    "            \"Priora\",  # модель транспортного средства\n",
    "            \"category\":\n",
    "            \"С-класс (малый средний, компактный) до 4,3 м\",  # категория транспортного средства\n",
    "            \"participants\": [  # участники внутри транспортных средств\n",
    "                {\n",
    "                    \"role\": \"Водитель\",  # роль участника\n",
    "                    \"gender\": \"Женский\",  # пол участника\n",
    "                    \"violations\": [],  # нарушения правил участником\n",
    "                    \"health_status\":\n",
    "                    \"Раненый, находящийся...\",  # состояние здоровья участника\n",
    "                    \"years_of_driving_experience\" # стаж вождения участника (только у водителей)\n",
    "                }\n",
    "            ]\n",
    "        },\n",
    "    ],\n",
    "    \"dead_count\" # кол-во погибших в ДТП\n",
    "    \"participants\" # участники без транспортных средств (описание, как у участников внутри транспортных средств)\n",
    "    \"injured_count\" # кол-во раненых в ДТП\n",
    "    \"parent_region\" # родительский регион (основной)\n",
    "    \"road_conditions\" # состояние дорожного покрытия\n",
    "    \"participants_count\" # кол-во участников ДТП\n",
    "    \"participant_categories\" # категории участников\n"
   ]
  },
  {
   "cell_type": "markdown",
   "id": "f8da2aab",
   "metadata": {},
   "source": [
    "**План работы**\n",
    "\n",
    "- Получение данных\n",
    "\n",
    "- Предобработка данных\n",
    "\n",
    "- Исследовательский анализ даеннных\n",
    "\n",
    "- Проверка гипотез\n",
    "   \n",
    "    **1.В аварии чаще попадают старые автомобили.**\n",
    "    \n",
    "    **2.В последнее время участились случаи ДТП с участием персональных электрических средств передвижения малой мощности(электросамокатов и т.п.)**\n",
    "    \n",
    "    **3.ДТП имеют сезонный характер**\n",
    "    \n",
    "    **4.Мотоцикл -свмый опасный вид транспорта**\n",
    "    \n",
    "    \n",
    "- Построение дашборда"
   ]
  },
  {
   "cell_type": "markdown",
   "id": "12f67087",
   "metadata": {},
   "source": [
    "## Предобработка данных(продолжение)"
   ]
  },
  {
   "cell_type": "markdown",
   "id": "8fef6570",
   "metadata": {},
   "source": [
    "У нас есть 3 датафрейма выгруженных ранее.\n",
    "\n",
    "**data_vehicles.pickle**  - Транспортные средства\n",
    "\n",
    "**data_base.pickle**      - Общий датафрейм без json структур(без данных о машинах и участниках ДТП)\n",
    "\n",
    "**df_foot_part.pickle**  - Датафрейм с данными о пассажирах и пешеходах"
   ]
  },
  {
   "cell_type": "markdown",
   "id": "87121387",
   "metadata": {},
   "source": [
    "### Транспортные средства"
   ]
  },
  {
   "cell_type": "markdown",
   "id": "d7ab024a",
   "metadata": {},
   "source": [
    "\n",
    " `id` - идентификатор\n",
    " \n",
    " `year` - год выпуска\n",
    " \n",
    " `brand` - а/м компания\n",
    " \n",
    " `color` - цвет а/м\n",
    " \n",
    " `model` - модель машины\n",
    " \n",
    " `category` - категория транспортного средства"
   ]
  },
  {
   "cell_type": "markdown",
   "id": "db19e4fd",
   "metadata": {},
   "source": [
    "Выгрузим датафрейм с транспортными средствами."
   ]
  },
  {
   "cell_type": "code",
   "execution_count": 2,
   "id": "8ed71947",
   "metadata": {},
   "outputs": [
    {
     "data": {
      "text/plain": [
       "'with open(\"data_vehicles.pickle\", \\'rb\\') as file:\\n    df_veh = pd.read_pickle(file).reset_index(drop = True)\\n\\ndf_veh'"
      ]
     },
     "execution_count": 2,
     "metadata": {},
     "output_type": "execute_result"
    }
   ],
   "source": [
    "\n",
    "'''with open(\"data_vehicles.pickle\", 'rb') as file:\n",
    "    df_veh = pd.read_pickle(file).reset_index(drop = True)\n",
    "\n",
    "df_veh'''"
   ]
  },
  {
   "cell_type": "markdown",
   "id": "9ee4990e",
   "metadata": {},
   "source": [
    "В ноутбуке #1 Проведена предобоаботка"
   ]
  },
  {
   "cell_type": "code",
   "execution_count": 57,
   "id": "3008709b",
   "metadata": {},
   "outputs": [],
   "source": [
    "'''df_veh.to_csv('veh.csv', index=False)'''"
   ]
  },
  {
   "cell_type": "markdown",
   "id": "9b98b0cf",
   "metadata": {},
   "source": [
    "На всякий случай сохранила в csv.однако файл занимает 314 Мб.Для выгрузки а Даталенс это много.Видимо придется разделить."
   ]
  },
  {
   "cell_type": "markdown",
   "id": "6eac6f9c",
   "metadata": {},
   "source": [
    "Потом подробнее посмотрим этот датафрейм в рамках EDA"
   ]
  },
  {
   "cell_type": "markdown",
   "id": "fb8a41fd",
   "metadata": {},
   "source": [
    "### Основной датафрейм"
   ]
  },
  {
   "cell_type": "markdown",
   "id": "22dd8928",
   "metadata": {},
   "source": [
    "\n",
    "* 'coordinates' - координаты  , \n",
    "* 'id' - идентификатор, \n",
    "* 'tags' - показатели с официального сайта ГИБДД, \n",
    "* 'light' - время суток, \n",
    "* 'lat' - широта, \n",
    "* 'long' - долгота, \n",
    "* 'nearby' - объекты рядом, \n",
    "* 'region' - город/район и т.д.,\n",
    "* 'scheme' - схема ДТП (нет в описании), \n",
    "* 'address' - адрес ДТП, \n",
    "* 'weather' - погодные условия, \n",
    "* 'category' - тип ДТП \n",
    "* 'datetime' - дата и время ДТП, \n",
    "* 'severity' - тяжесть состояния,\n",
    "* 'dead_count' - погибшие, \n",
    "* 'injured_count' - количество пострадавших,\n",
    "* 'parent_region' - центральный регион, \n",
    "* 'road_conditions' - условия дороги, \n",
    "* 'participants_count' - количество участников ДТП,\n",
    "* 'participant_categories' - категории участников"
   ]
  },
  {
   "cell_type": "markdown",
   "id": "4f43ede2",
   "metadata": {},
   "source": [
    "* 'coordinates' - координаты  , V\n",
    "* 'id' - идентификатор, V\n",
    "* 'tags' - показатели с официального сайта ГИБДД, V\n",
    "* 'light' - время суток, V\n",
    "* ~~'lat' - широта, ~~\n",
    "* ~~'long' - долгота,~~\n",
    "* ~~'nearby' - объекты рядом,~~\n",
    "* 'region' - город/район и т.д.,V\n",
    "* ~~'scheme' - схема ДТП (нет в описании),~~\n",
    "* 'address' - адрес ДТП,???????\n",
    "* 'weather' - погодные условия, V\n",
    "* 'category' - тип ДТП V\n",
    "* 'datetime' - дата и время ДТП, \n",
    "* 'severity' - тяжесть состояния,\n",
    "* 'dead_count' - погибшие, \n",
    "* 'injured_count' - количество пострадавших,\n",
    "* 'parent_region' - центральный регион, V\n",
    "* 'road_conditions' - условия дороги, V\n",
    "* 'participants_count' - количество участников ДТП,\n",
    "* 'participant_categories' - категории участников"
   ]
  },
  {
   "cell_type": "code",
   "execution_count": 1,
   "id": "53c9a570",
   "metadata": {},
   "outputs": [
    {
     "data": {
      "text/plain": [
       "'with open(\"data_base.pickle\", \\'rb\\') as file:\\n    df_base = pd.read_pickle(file)'"
      ]
     },
     "execution_count": 1,
     "metadata": {},
     "output_type": "execute_result"
    }
   ],
   "source": [
    "'''with open(\"data_base.pickle\", 'rb') as file:\n",
    "    df_base = pd.read_pickle(file)'''\n",
    "\n"
   ]
  },
  {
   "cell_type": "code",
   "execution_count": 2,
   "id": "9f9348ff",
   "metadata": {},
   "outputs": [
    {
     "data": {
      "text/plain": [
       "\"df_base1[['region','parent_region']]= df_base1[['region','parent_region']].astype('category')\""
      ]
     },
     "execution_count": 2,
     "metadata": {},
     "output_type": "execute_result"
    }
   ],
   "source": [
    "'''df_base1[['region','parent_region']]= df_base1[['region','parent_region']].astype('category')'''"
   ]
  },
  {
   "cell_type": "code",
   "execution_count": 3,
   "id": "eddb6fed",
   "metadata": {},
   "outputs": [
    {
     "data": {
      "text/plain": [
       "\"df_base1.to_csv('base_coor.csv', index=False)\""
      ]
     },
     "execution_count": 3,
     "metadata": {},
     "output_type": "execute_result"
    }
   ],
   "source": [
    "'''df_base1.to_csv('base_coor.csv', index=False)'''"
   ]
  },
  {
   "cell_type": "code",
   "execution_count": 4,
   "id": "b46f215a",
   "metadata": {},
   "outputs": [
    {
     "data": {
      "text/plain": [
       "\"df_base11 = df_base[['id','address']].reset_index(drop = True)\""
      ]
     },
     "execution_count": 4,
     "metadata": {},
     "output_type": "execute_result"
    }
   ],
   "source": [
    "'''df_base11 = df_base[['id','address']].reset_index(drop = True)'''"
   ]
  },
  {
   "cell_type": "code",
   "execution_count": 5,
   "id": "6f4865c7",
   "metadata": {},
   "outputs": [
    {
     "data": {
      "text/plain": [
       "\"df_base11.to_csv('base_coor2.csv', index=False)\""
      ]
     },
     "execution_count": 5,
     "metadata": {},
     "output_type": "execute_result"
    }
   ],
   "source": [
    "'''df_base11.to_csv('base_coor2.csv', index=False)'''"
   ]
  },
  {
   "cell_type": "code",
   "execution_count": 6,
   "id": "ad465823",
   "metadata": {},
   "outputs": [
    {
     "data": {
      "text/plain": [
       "\"df_base2 = df_base[['id','tags','light','weather','category','road_conditions']].reset_index(drop = True)\""
      ]
     },
     "execution_count": 6,
     "metadata": {},
     "output_type": "execute_result"
    }
   ],
   "source": [
    "'''df_base2 = df_base[['id','tags','light','weather','category','road_conditions']].reset_index(drop = True)'''"
   ]
  },
  {
   "cell_type": "code",
   "execution_count": 7,
   "id": "27493fbe",
   "metadata": {},
   "outputs": [
    {
     "data": {
      "text/plain": [
       "\"df_base2.to_csv('base_21.csv', index=False)\""
      ]
     },
     "execution_count": 7,
     "metadata": {},
     "output_type": "execute_result"
    }
   ],
   "source": [
    "'''df_base2.to_csv('base_21.csv', index=False)'''"
   ]
  },
  {
   "cell_type": "code",
   "execution_count": 8,
   "id": "bda725fe",
   "metadata": {},
   "outputs": [
    {
     "data": {
      "text/plain": [
       "\"pd.read_csv('base_21.csv')\""
      ]
     },
     "execution_count": 8,
     "metadata": {},
     "output_type": "execute_result"
    }
   ],
   "source": [
    "'''pd.read_csv('base_21.csv')'''"
   ]
  },
  {
   "cell_type": "markdown",
   "id": "2ac9d889",
   "metadata": {},
   "source": [
    "* 'datetime' - дата и время ДТП, \n",
    "* 'severity' - тяжесть состояния,\n",
    "* 'dead_count' - погибшие, \n",
    "* 'injured_count' - количество пострадавших,\n",
    "* 'participants_count' - количество участников ДТП,\n",
    "* 'participant_categories' - категории участников"
   ]
  },
  {
   "cell_type": "code",
   "execution_count": 9,
   "id": "f5fcae46",
   "metadata": {},
   "outputs": [
    {
     "data": {
      "text/plain": [
       "\"df_base3 = df_base[['id','datetime','severity','dead_count','injured_count','participants_count','participant_categories']].reset_index(drop = True)\""
      ]
     },
     "execution_count": 9,
     "metadata": {},
     "output_type": "execute_result"
    }
   ],
   "source": [
    "'''df_base3 = df_base[['id','datetime','severity','dead_count','injured_count','participants_count','participant_categories']].reset_index(drop = True)'''"
   ]
  },
  {
   "cell_type": "code",
   "execution_count": 10,
   "id": "fdcd4e7e",
   "metadata": {},
   "outputs": [
    {
     "data": {
      "text/plain": [
       "\"df_base31.to_csv('base_31.csv', index=False)\""
      ]
     },
     "execution_count": 10,
     "metadata": {},
     "output_type": "execute_result"
    }
   ],
   "source": [
    "'''df_base31.to_csv('base_31.csv', index=False)'''"
   ]
  },
  {
   "cell_type": "markdown",
   "id": "2d5b49bb",
   "metadata": {},
   "source": [
    "### Пешеходы и водители `df_foot_part.pickle`"
   ]
  },
  {
   "cell_type": "markdown",
   "id": "b973cc15",
   "metadata": {},
   "source": [
    "Загрузим еще раз библиотеки"
   ]
  },
  {
   "cell_type": "code",
   "execution_count": 11,
   "id": "717744cc",
   "metadata": {},
   "outputs": [],
   "source": [
    "# Загрузка библиотек\n",
    "\n",
    "import os\n",
    "import pandas as pd\n",
    "# from pandas_geojson import read_geojson\n",
    "import re\n",
    "import requests\n",
    "import matplotlib.pyplot as plt\n",
    "import datetime as dt\n",
    "import dill as pickle\n",
    "import json\n",
    "import seaborn as sns\n",
    "import numpy as np\n",
    "#Снятие ограничений\n",
    "import warnings\n",
    "warnings.filterwarnings(\"ignore\")\n",
    "pd.set_option(\"display.max_columns\", None)"
   ]
  },
  {
   "cell_type": "markdown",
   "id": "b2eec606",
   "metadata": {},
   "source": [
    "* id - идентификатор\n",
    "* role - роль в транспортном средстве/или пешеход\n",
    "* gender - половая пренадлежность\n",
    "* violations - нарушение\n",
    "* health_status - вред здоровью\n",
    "* years_of_driving_experience - стаж вождения"
   ]
  },
  {
   "cell_type": "code",
   "execution_count": 12,
   "id": "a57aa93f",
   "metadata": {},
   "outputs": [],
   "source": [
    "with open(\"df_foot_part.pickle\", 'rb') as file:\n",
    "    df_fp = pd.read_pickle(file).reset_index(drop = True)"
   ]
  },
  {
   "cell_type": "code",
   "execution_count": 13,
   "id": "f92ba881",
   "metadata": {},
   "outputs": [],
   "source": [
    "# Создадим функцию для исследования данных\n",
    "def inform(data):\n",
    "    display(data.head())\n",
    "    print('Колонки')\n",
    "    print(data.columns)\n",
    "    \n",
    "    print(50*'-')\n",
    "    print('Содержимое колонок')\n",
    "    print(20*'*')\n",
    "    \n",
    "    for col in data:\n",
    "        print(col)\n",
    "# Не все колонки могут быть прочитаны\n",
    "# unique и nunique\n",
    "        try:\n",
    "            print(data[col].unique())\n",
    "            print(data[col].nunique())\n",
    "            \n",
    "            \n",
    "        except TypeError:\n",
    "            print('Списковое исключение')\n",
    "            \n",
    "            print(data[col][:5])\n",
    "            \n",
    "           \n",
    "    \n",
    "        print(20*'*')\n",
    "    print('Общая информация')\n",
    "    print(data.info())\n",
    "        \n",
    "    print(50*\"-\")\n",
    "    print('Пропуски')\n",
    "    print(data.isna().sum())\n",
    "    print(50*\"-\")"
   ]
  },
  {
   "cell_type": "code",
   "execution_count": 14,
   "id": "6f737dec",
   "metadata": {},
   "outputs": [
    {
     "data": {
      "text/html": [
       "<div>\n",
       "<style scoped>\n",
       "    .dataframe tbody tr th:only-of-type {\n",
       "        vertical-align: middle;\n",
       "    }\n",
       "\n",
       "    .dataframe tbody tr th {\n",
       "        vertical-align: top;\n",
       "    }\n",
       "\n",
       "    .dataframe thead th {\n",
       "        text-align: right;\n",
       "    }\n",
       "</style>\n",
       "<table border=\"1\" class=\"dataframe\">\n",
       "  <thead>\n",
       "    <tr style=\"text-align: right;\">\n",
       "      <th></th>\n",
       "      <th>id</th>\n",
       "      <th>role</th>\n",
       "      <th>gender</th>\n",
       "      <th>violations</th>\n",
       "      <th>health_status</th>\n",
       "      <th>years_of_driving_experience</th>\n",
       "    </tr>\n",
       "  </thead>\n",
       "  <tbody>\n",
       "    <tr>\n",
       "      <th>0</th>\n",
       "      <td>2705425</td>\n",
       "      <td>Пассажир</td>\n",
       "      <td>Женский</td>\n",
       "      <td>[]</td>\n",
       "      <td>Раненый, находящийся (находившийся) на амбулат...</td>\n",
       "      <td>NaN</td>\n",
       "    </tr>\n",
       "    <tr>\n",
       "      <th>1</th>\n",
       "      <td>2705425</td>\n",
       "      <td>Водитель</td>\n",
       "      <td>Мужской</td>\n",
       "      <td>[Неправильный выбор дистанции]</td>\n",
       "      <td>Не пострадал</td>\n",
       "      <td>40.0</td>\n",
       "    </tr>\n",
       "    <tr>\n",
       "      <th>2</th>\n",
       "      <td>2705425</td>\n",
       "      <td>Водитель</td>\n",
       "      <td>Мужской</td>\n",
       "      <td>[Отсутствие у водителя документов, предусмотре...</td>\n",
       "      <td>Не пострадал</td>\n",
       "      <td>17.0</td>\n",
       "    </tr>\n",
       "    <tr>\n",
       "      <th>3</th>\n",
       "      <td>2705910</td>\n",
       "      <td>Водитель</td>\n",
       "      <td>Мужской</td>\n",
       "      <td>[Несоблюдение бокового интервала, Оставление м...</td>\n",
       "      <td>Не пострадал</td>\n",
       "      <td>37.0</td>\n",
       "    </tr>\n",
       "    <tr>\n",
       "      <th>4</th>\n",
       "      <td>2705936</td>\n",
       "      <td>Водитель</td>\n",
       "      <td>Мужской</td>\n",
       "      <td>[Выезд на полосу встречного движения, Отказ во...</td>\n",
       "      <td>Раненый, находящийся (находившийся) на амбулат...</td>\n",
       "      <td>9.0</td>\n",
       "    </tr>\n",
       "  </tbody>\n",
       "</table>\n",
       "</div>"
      ],
      "text/plain": [
       "        id      role   gender  \\\n",
       "0  2705425  Пассажир  Женский   \n",
       "1  2705425  Водитель  Мужской   \n",
       "2  2705425  Водитель  Мужской   \n",
       "3  2705910  Водитель  Мужской   \n",
       "4  2705936  Водитель  Мужской   \n",
       "\n",
       "                                          violations  \\\n",
       "0                                                 []   \n",
       "1                     [Неправильный выбор дистанции]   \n",
       "2  [Отсутствие у водителя документов, предусмотре...   \n",
       "3  [Несоблюдение бокового интервала, Оставление м...   \n",
       "4  [Выезд на полосу встречного движения, Отказ во...   \n",
       "\n",
       "                                       health_status  \\\n",
       "0  Раненый, находящийся (находившийся) на амбулат...   \n",
       "1                                       Не пострадал   \n",
       "2                                       Не пострадал   \n",
       "3                                       Не пострадал   \n",
       "4  Раненый, находящийся (находившийся) на амбулат...   \n",
       "\n",
       "   years_of_driving_experience  \n",
       "0                          NaN  \n",
       "1                         40.0  \n",
       "2                         17.0  \n",
       "3                         37.0  \n",
       "4                          9.0  "
      ]
     },
     "metadata": {},
     "output_type": "display_data"
    },
    {
     "name": "stdout",
     "output_type": "stream",
     "text": [
      "Колонки\n",
      "Index(['id', 'role', 'gender', 'violations', 'health_status',\n",
      "       'years_of_driving_experience'],\n",
      "      dtype='object')\n",
      "--------------------------------------------------\n",
      "Содержимое колонок\n",
      "********************\n",
      "id\n",
      "[2705425 2705910 2705936 ... 2294769 2295329 2297456]\n",
      "1409816\n",
      "********************\n",
      "role\n",
      "['Пассажир' 'Водитель' 'Велосипедист' 'Пешеход'\n",
      " 'Пешеход, перед ДТП находившийся в (на) ТС в качестве водителя или пешеход, перед ДТП находившийся в (на) ТС в качестве пассажира']\n",
      "5\n",
      "********************\n",
      "gender\n",
      "['Женский' 'Мужской' None]\n",
      "2\n",
      "********************\n",
      "violations\n",
      "Списковое исключение\n",
      "0                                                   []\n",
      "1                       [Неправильный выбор дистанции]\n",
      "2    [Отсутствие у водителя документов, предусмотре...\n",
      "3    [Несоблюдение бокового интервала, Оставление м...\n",
      "4    [Выезд на полосу встречного движения, Отказ во...\n",
      "Name: violations, dtype: object\n",
      "********************\n",
      "health_status\n",
      "['Раненый, находящийся (находившийся) на амбулаторном лечении, либо в условиях дневного стационара'\n",
      " 'Не пострадал'\n",
      " 'Раненый, находящийся (находившийся) на стационарном лечении'\n",
      " 'Раненый, находящийся (находившийся)  на амбулаторном лечении, либо которому по характеру полученных травм обозначена необходимость амбулаторного лечения (вне зависимости от его фактического прохождения)'\n",
      " 'Получил травмы с оказанием разовой медицинской помощи, к категории раненый не относится'\n",
      " 'Скончался в течение 8 суток'\n",
      " 'Скончался на месте ДТП до приезда скорой медицинской помощи' None\n",
      " 'Скончался в течение 17 суток' 'Скончался в течение 6 суток'\n",
      " 'Получил телесные повреждения с показанием к лечению в медицинских организациях, фактически лечение не проходил, к категории раненый не относится'\n",
      " 'Скончался в течение 1 суток' 'Скончался в течение 7 суток'\n",
      " 'Скончался в течение 2 суток'\n",
      " 'Скончался на месте ДТП по прибытию скорой медицинской помощи, но до транспортировки в мед. организацию'\n",
      " 'Скончался в течение 12 суток'\n",
      " 'Скончался на месте ДТП по прибытию скорой медицинской помощи, но до транспортировки в медицинское учреждение'\n",
      " 'Скончался в течение 3 суток' 'Скончался в течение 5 суток'\n",
      " 'Скончался в течение 21 суток' 'Скончался в течение 10 суток'\n",
      " 'Скончался в течение 15 суток' 'Скончался в течение 9 суток'\n",
      " 'Скончался при транспортировке' 'Скончался в течение 20 суток'\n",
      " 'Скончался в течение 13 суток' 'Скончался в течение 4 суток'\n",
      " 'Получил телесные повреждения с показанием к лечению в медицинских организациях (кроме разовой медицинской помощи)'\n",
      " 'Скончался в течение 28 суток' 'Скончался в течение 26 суток'\n",
      " 'Скончался в течение 14 суток' 'Скончался в течение 16 суток'\n",
      " 'Скончался в течение 18 суток' 'Скончался в течение 11 суток'\n",
      " 'Скончался в течение 19 суток' 'Скончался в течение 24 суток'\n",
      " 'Скончался в течение 27 суток' 'Скончался в течение 23 суток'\n",
      " 'Скончался в течение 25 суток' 'Скончался в течение 29 суток'\n",
      " 'Скончался в течение 30 суток' 'Скончался в течение 22 суток']\n",
      "41\n",
      "********************\n",
      "years_of_driving_experience\n",
      "[nan 40. 17. 37.  9. 13. 15. 24.  3. 21.  2. 51. 23. 29.  5.  6.  7. 22.\n",
      " 18. 16. 39. 11. 27. 12. 19. 30. 26.  1. 33.  8. 32. 10. 35.  4. 28. 43.\n",
      " 14. 25. 45. 36. 34. 20. 31. 42. 38. 41. 44. 46. 47. 49. 50. 48. 54. 59.\n",
      " 53. 60. 55. 57. 58. 56. 52. 61. 63. 62. 66. 64. 65. 68. 70. 67. 69. 74.\n",
      " 71. 73.]\n",
      "73\n",
      "********************\n",
      "Общая информация\n",
      "<class 'pandas.core.frame.DataFrame'>\n",
      "RangeIndex: 3478171 entries, 0 to 3478170\n",
      "Data columns (total 6 columns):\n",
      " #   Column                       Dtype  \n",
      "---  ------                       -----  \n",
      " 0   id                           int32  \n",
      " 1   role                         object \n",
      " 2   gender                       object \n",
      " 3   violations                   object \n",
      " 4   health_status                object \n",
      " 5   years_of_driving_experience  float64\n",
      "dtypes: float64(1), int32(1), object(4)\n",
      "memory usage: 145.9+ MB\n",
      "None\n",
      "--------------------------------------------------\n",
      "Пропуски\n",
      "id                                   0\n",
      "role                                 0\n",
      "gender                           92617\n",
      "violations                           0\n",
      "health_status                     6482\n",
      "years_of_driving_experience    1539564\n",
      "dtype: int64\n",
      "--------------------------------------------------\n"
     ]
    }
   ],
   "source": [
    "inform(df_fp)"
   ]
  },
  {
   "cell_type": "markdown",
   "id": "8a89300e",
   "metadata": {},
   "source": [
    "Значительная доля пропусков есть в столбце со стажем вождения.Также есть пропуски в столбцах `gender` и `health_status`"
   ]
  },
  {
   "cell_type": "raw",
   "id": "df4aa6c9",
   "metadata": {},
   "source": [
    "print ('Количество дубликатов -', df_fp.duplicated().sum()) # проверка на дубликаты"
   ]
  },
  {
   "cell_type": "markdown",
   "id": "12551e8d",
   "metadata": {},
   "source": [
    "#### `role`"
   ]
  },
  {
   "cell_type": "code",
   "execution_count": 15,
   "id": "c6fffa6c",
   "metadata": {},
   "outputs": [
    {
     "data": {
      "text/plain": [
       "role\n",
       "Водитель                                                                                                                            2178961\n",
       "Пассажир                                                                                                                             811144\n",
       "Пешеход                                                                                                                              432922\n",
       "Велосипедист                                                                                                                          47809\n",
       "Пешеход, перед ДТП находившийся в (на) ТС в качестве водителя или пешеход, перед ДТП находившийся в (на) ТС в качестве пассажира       7335\n",
       "Name: count, dtype: int64"
      ]
     },
     "execution_count": 15,
     "metadata": {},
     "output_type": "execute_result"
    }
   ],
   "source": [
    "df_fp['role'].value_counts(dropna=False)"
   ]
  },
  {
   "cell_type": "markdown",
   "id": "abff241c",
   "metadata": {},
   "source": [
    "Переименуем категорию \"Пешеход, перед ДТП находившийся в ...\" н аболее короткое название"
   ]
  },
  {
   "cell_type": "code",
   "execution_count": 16,
   "id": "588381ff",
   "metadata": {},
   "outputs": [],
   "source": [
    "df_fp['role'] = df_fp['role'].replace('Пешеход, перед ДТП находившийся в (на) ТС в качестве водителя или пешеход, перед ДТП находившийся в (на) ТС в качестве пассажира', 'Пешеход,бывший до ДТП в ТС')"
   ]
  },
  {
   "cell_type": "code",
   "execution_count": 17,
   "id": "88be671e",
   "metadata": {},
   "outputs": [
    {
     "data": {
      "text/plain": [
       "array(['Пассажир', 'Водитель', 'Велосипедист', 'Пешеход',\n",
       "       'Пешеход,бывший до ДТП в ТС'], dtype=object)"
      ]
     },
     "execution_count": 17,
     "metadata": {},
     "output_type": "execute_result"
    }
   ],
   "source": [
    "df_fp['role'].unique()"
   ]
  },
  {
   "cell_type": "markdown",
   "id": "70e64c26",
   "metadata": {},
   "source": [
    "#### `gender`"
   ]
  },
  {
   "cell_type": "markdown",
   "id": "533e8e51",
   "metadata": {},
   "source": [
    "В графе с указанием пола есть пропуски.Заменим их на \" не указано\""
   ]
  },
  {
   "cell_type": "code",
   "execution_count": 18,
   "id": "cd81daab",
   "metadata": {},
   "outputs": [],
   "source": [
    "df_fp['gender'].replace({None: 'не указано'}, inplace=True)"
   ]
  },
  {
   "cell_type": "code",
   "execution_count": 19,
   "id": "fde0c9d2",
   "metadata": {},
   "outputs": [
    {
     "data": {
      "text/html": [
       "<div>\n",
       "<style scoped>\n",
       "    .dataframe tbody tr th:only-of-type {\n",
       "        vertical-align: middle;\n",
       "    }\n",
       "\n",
       "    .dataframe tbody tr th {\n",
       "        vertical-align: top;\n",
       "    }\n",
       "\n",
       "    .dataframe thead th {\n",
       "        text-align: right;\n",
       "    }\n",
       "</style>\n",
       "<table border=\"1\" class=\"dataframe\">\n",
       "  <thead>\n",
       "    <tr style=\"text-align: right;\">\n",
       "      <th></th>\n",
       "      <th>gender</th>\n",
       "      <th>count</th>\n",
       "    </tr>\n",
       "  </thead>\n",
       "  <tbody>\n",
       "    <tr>\n",
       "      <th>0</th>\n",
       "      <td>Мужской</td>\n",
       "      <td>2366217</td>\n",
       "    </tr>\n",
       "    <tr>\n",
       "      <th>1</th>\n",
       "      <td>Женский</td>\n",
       "      <td>1019337</td>\n",
       "    </tr>\n",
       "    <tr>\n",
       "      <th>2</th>\n",
       "      <td>не указано</td>\n",
       "      <td>92617</td>\n",
       "    </tr>\n",
       "  </tbody>\n",
       "</table>\n",
       "</div>"
      ],
      "text/plain": [
       "       gender    count\n",
       "0     Мужской  2366217\n",
       "1     Женский  1019337\n",
       "2  не указано    92617"
      ]
     },
     "execution_count": 19,
     "metadata": {},
     "output_type": "execute_result"
    }
   ],
   "source": [
    "df4 =df_fp['gender'].value_counts(dropna=False).reset_index()\n",
    "df4"
   ]
  },
  {
   "cell_type": "code",
   "execution_count": 20,
   "id": "3efd2f43",
   "metadata": {},
   "outputs": [
    {
     "data": {
      "text/plain": [
       "<matplotlib.legend.Legend at 0x1dbb50d3d50>"
      ]
     },
     "execution_count": 20,
     "metadata": {},
     "output_type": "execute_result"
    },
    {
     "data": {
      "image/png": "[encoded data removed]",
      "text/plain": [
       "<Figure size 600x600 with 1 Axes>"
      ]
     },
     "metadata": {},
     "output_type": "display_data"
    }
   ],
   "source": [
    "colors = sns.color_palette('pastel')[ 0:3 ]\n",
    "df4.plot(kind='pie',figsize=(6,6), y= 'count', labels=df4.gender,autopct='%1.1f%%',fontsize = 15,colors=colors)\n",
    "\n",
    "plt.title(\"Распределение по полу\",fontsize= 18)\n",
    "plt.legend(bbox_to_anchor=(1, 1), loc='upper left')"
   ]
  },
  {
   "cell_type": "markdown",
   "id": "6e9a6d0a",
   "metadata": {},
   "source": [
    "#### `health_status`"
   ]
  },
  {
   "cell_type": "code",
   "execution_count": 21,
   "id": "16669bc2",
   "metadata": {},
   "outputs": [],
   "source": [
    "pd.set_option(\"display.max_colwidth\", None)"
   ]
  },
  {
   "cell_type": "code",
   "execution_count": 22,
   "id": "3250245b",
   "metadata": {},
   "outputs": [
    {
     "data": {
      "text/html": [
       "<div>\n",
       "<style scoped>\n",
       "    .dataframe tbody tr th:only-of-type {\n",
       "        vertical-align: middle;\n",
       "    }\n",
       "\n",
       "    .dataframe tbody tr th {\n",
       "        vertical-align: top;\n",
       "    }\n",
       "\n",
       "    .dataframe thead th {\n",
       "        text-align: right;\n",
       "    }\n",
       "</style>\n",
       "<table border=\"1\" class=\"dataframe\">\n",
       "  <thead>\n",
       "    <tr style=\"text-align: right;\">\n",
       "      <th></th>\n",
       "      <th>health_status</th>\n",
       "      <th>count</th>\n",
       "    </tr>\n",
       "  </thead>\n",
       "  <tbody>\n",
       "    <tr>\n",
       "      <th>0</th>\n",
       "      <td>Не пострадал</td>\n",
       "      <td>1460558</td>\n",
       "    </tr>\n",
       "    <tr>\n",
       "      <th>1</th>\n",
       "      <td>Раненый, находящийся (находившийся)  на амбулаторном лечении, либо которому по характеру полученных травм обозначена необходимость амбулаторного лечения (вне зависимости от его фактического прохождения)</td>\n",
       "      <td>683015</td>\n",
       "    </tr>\n",
       "    <tr>\n",
       "      <th>2</th>\n",
       "      <td>Раненый, находящийся (находившийся) на стационарном лечении</td>\n",
       "      <td>632390</td>\n",
       "    </tr>\n",
       "    <tr>\n",
       "      <th>3</th>\n",
       "      <td>Раненый, находящийся (находившийся) на амбулаторном лечении, либо в условиях дневного стационара</td>\n",
       "      <td>408302</td>\n",
       "    </tr>\n",
       "    <tr>\n",
       "      <th>4</th>\n",
       "      <td>Скончался на месте ДТП до приезда скорой медицинской помощи</td>\n",
       "      <td>100739</td>\n",
       "    </tr>\n",
       "    <tr>\n",
       "      <th>5</th>\n",
       "      <td>Получил травмы с оказанием разовой медицинской помощи, к категории раненый не относится</td>\n",
       "      <td>63031</td>\n",
       "    </tr>\n",
       "    <tr>\n",
       "      <th>6</th>\n",
       "      <td>Получил телесные повреждения с показанием к лечению в медицинских организациях (кроме разовой медицинской помощи)</td>\n",
       "      <td>61805</td>\n",
       "    </tr>\n",
       "    <tr>\n",
       "      <th>7</th>\n",
       "      <td>Скончался в течение 1 суток</td>\n",
       "      <td>20929</td>\n",
       "    </tr>\n",
       "    <tr>\n",
       "      <th>8</th>\n",
       "      <td>Скончался при транспортировке</td>\n",
       "      <td>6743</td>\n",
       "    </tr>\n",
       "    <tr>\n",
       "      <th>9</th>\n",
       "      <td>None</td>\n",
       "      <td>6482</td>\n",
       "    </tr>\n",
       "    <tr>\n",
       "      <th>10</th>\n",
       "      <td>Скончался на месте ДТП по прибытию скорой медицинской помощи, но до транспортировки в мед. организацию</td>\n",
       "      <td>5542</td>\n",
       "    </tr>\n",
       "    <tr>\n",
       "      <th>11</th>\n",
       "      <td>Получил телесные повреждения с показанием к лечению в медицинских организациях, фактически лечение не проходил, к категории раненый не относится</td>\n",
       "      <td>3838</td>\n",
       "    </tr>\n",
       "    <tr>\n",
       "      <th>12</th>\n",
       "      <td>Скончался в течение 2 суток</td>\n",
       "      <td>3117</td>\n",
       "    </tr>\n",
       "    <tr>\n",
       "      <th>13</th>\n",
       "      <td>Скончался в течение 3 суток</td>\n",
       "      <td>2350</td>\n",
       "    </tr>\n",
       "    <tr>\n",
       "      <th>14</th>\n",
       "      <td>Скончался на месте ДТП по прибытию скорой медицинской помощи, но до транспортировки в медицинское учреждение</td>\n",
       "      <td>1815</td>\n",
       "    </tr>\n",
       "    <tr>\n",
       "      <th>15</th>\n",
       "      <td>Скончался в течение 5 суток</td>\n",
       "      <td>1814</td>\n",
       "    </tr>\n",
       "    <tr>\n",
       "      <th>16</th>\n",
       "      <td>Скончался в течение 4 суток</td>\n",
       "      <td>1726</td>\n",
       "    </tr>\n",
       "    <tr>\n",
       "      <th>17</th>\n",
       "      <td>Скончался в течение 7 суток</td>\n",
       "      <td>1579</td>\n",
       "    </tr>\n",
       "    <tr>\n",
       "      <th>18</th>\n",
       "      <td>Скончался в течение 6 суток</td>\n",
       "      <td>1467</td>\n",
       "    </tr>\n",
       "    <tr>\n",
       "      <th>19</th>\n",
       "      <td>Скончался в течение 8 суток</td>\n",
       "      <td>1354</td>\n",
       "    </tr>\n",
       "    <tr>\n",
       "      <th>20</th>\n",
       "      <td>Скончался в течение 10 суток</td>\n",
       "      <td>1212</td>\n",
       "    </tr>\n",
       "    <tr>\n",
       "      <th>21</th>\n",
       "      <td>Скончался в течение 9 суток</td>\n",
       "      <td>1127</td>\n",
       "    </tr>\n",
       "    <tr>\n",
       "      <th>22</th>\n",
       "      <td>Скончался в течение 11 суток</td>\n",
       "      <td>790</td>\n",
       "    </tr>\n",
       "    <tr>\n",
       "      <th>23</th>\n",
       "      <td>Скончался в течение 12 суток</td>\n",
       "      <td>747</td>\n",
       "    </tr>\n",
       "    <tr>\n",
       "      <th>24</th>\n",
       "      <td>Скончался в течение 13 суток</td>\n",
       "      <td>617</td>\n",
       "    </tr>\n",
       "    <tr>\n",
       "      <th>25</th>\n",
       "      <td>Скончался в течение 14 суток</td>\n",
       "      <td>592</td>\n",
       "    </tr>\n",
       "    <tr>\n",
       "      <th>26</th>\n",
       "      <td>Скончался в течение 15 суток</td>\n",
       "      <td>549</td>\n",
       "    </tr>\n",
       "    <tr>\n",
       "      <th>27</th>\n",
       "      <td>Скончался в течение 16 суток</td>\n",
       "      <td>440</td>\n",
       "    </tr>\n",
       "    <tr>\n",
       "      <th>28</th>\n",
       "      <td>Скончался в течение 17 суток</td>\n",
       "      <td>408</td>\n",
       "    </tr>\n",
       "    <tr>\n",
       "      <th>29</th>\n",
       "      <td>Скончался в течение 18 суток</td>\n",
       "      <td>353</td>\n",
       "    </tr>\n",
       "    <tr>\n",
       "      <th>30</th>\n",
       "      <td>Скончался в течение 20 суток</td>\n",
       "      <td>335</td>\n",
       "    </tr>\n",
       "    <tr>\n",
       "      <th>31</th>\n",
       "      <td>Скончался в течение 19 суток</td>\n",
       "      <td>311</td>\n",
       "    </tr>\n",
       "    <tr>\n",
       "      <th>32</th>\n",
       "      <td>Скончался в течение 21 суток</td>\n",
       "      <td>255</td>\n",
       "    </tr>\n",
       "    <tr>\n",
       "      <th>33</th>\n",
       "      <td>Скончался в течение 30 суток</td>\n",
       "      <td>245</td>\n",
       "    </tr>\n",
       "    <tr>\n",
       "      <th>34</th>\n",
       "      <td>Скончался в течение 22 суток</td>\n",
       "      <td>235</td>\n",
       "    </tr>\n",
       "    <tr>\n",
       "      <th>35</th>\n",
       "      <td>Скончался в течение 23 суток</td>\n",
       "      <td>231</td>\n",
       "    </tr>\n",
       "    <tr>\n",
       "      <th>36</th>\n",
       "      <td>Скончался в течение 24 суток</td>\n",
       "      <td>224</td>\n",
       "    </tr>\n",
       "    <tr>\n",
       "      <th>37</th>\n",
       "      <td>Скончался в течение 25 суток</td>\n",
       "      <td>200</td>\n",
       "    </tr>\n",
       "    <tr>\n",
       "      <th>38</th>\n",
       "      <td>Скончался в течение 26 суток</td>\n",
       "      <td>194</td>\n",
       "    </tr>\n",
       "    <tr>\n",
       "      <th>39</th>\n",
       "      <td>Скончался в течение 28 суток</td>\n",
       "      <td>193</td>\n",
       "    </tr>\n",
       "    <tr>\n",
       "      <th>40</th>\n",
       "      <td>Скончался в течение 29 суток</td>\n",
       "      <td>163</td>\n",
       "    </tr>\n",
       "    <tr>\n",
       "      <th>41</th>\n",
       "      <td>Скончался в течение 27 суток</td>\n",
       "      <td>154</td>\n",
       "    </tr>\n",
       "  </tbody>\n",
       "</table>\n",
       "</div>"
      ],
      "text/plain": [
       "                                                                                                                                                                                                 health_status  \\\n",
       "0                                                                                                                                                                                                 Не пострадал   \n",
       "1   Раненый, находящийся (находившийся)  на амбулаторном лечении, либо которому по характеру полученных травм обозначена необходимость амбулаторного лечения (вне зависимости от его фактического прохождения)   \n",
       "2                                                                                                                                                  Раненый, находящийся (находившийся) на стационарном лечении   \n",
       "3                                                                                                             Раненый, находящийся (находившийся) на амбулаторном лечении, либо в условиях дневного стационара   \n",
       "4                                                                                                                                                  Скончался на месте ДТП до приезда скорой медицинской помощи   \n",
       "5                                                                                                                      Получил травмы с оказанием разовой медицинской помощи, к категории раненый не относится   \n",
       "6                                                                                            Получил телесные повреждения с показанием к лечению в медицинских организациях (кроме разовой медицинской помощи)   \n",
       "7                                                                                                                                                                                  Скончался в течение 1 суток   \n",
       "8                                                                                                                                                                                Скончался при транспортировке   \n",
       "9                                                                                                                                                                                                         None   \n",
       "10                                                                                                      Скончался на месте ДТП по прибытию скорой медицинской помощи, но до транспортировки в мед. организацию   \n",
       "11                                                            Получил телесные повреждения с показанием к лечению в медицинских организациях, фактически лечение не проходил, к категории раненый не относится   \n",
       "12                                                                                                                                                                                 Скончался в течение 2 суток   \n",
       "13                                                                                                                                                                                 Скончался в течение 3 суток   \n",
       "14                                                                                                Скончался на месте ДТП по прибытию скорой медицинской помощи, но до транспортировки в медицинское учреждение   \n",
       "15                                                                                                                                                                                 Скончался в течение 5 суток   \n",
       "16                                                                                                                                                                                 Скончался в течение 4 суток   \n",
       "17                                                                                                                                                                                 Скончался в течение 7 суток   \n",
       "18                                                                                                                                                                                 Скончался в течение 6 суток   \n",
       "19                                                                                                                                                                                 Скончался в течение 8 суток   \n",
       "20                                                                                                                                                                                Скончался в течение 10 суток   \n",
       "21                                                                                                                                                                                 Скончался в течение 9 суток   \n",
       "22                                                                                                                                                                                Скончался в течение 11 суток   \n",
       "23                                                                                                                                                                                Скончался в течение 12 суток   \n",
       "24                                                                                                                                                                                Скончался в течение 13 суток   \n",
       "25                                                                                                                                                                                Скончался в течение 14 суток   \n",
       "26                                                                                                                                                                                Скончался в течение 15 суток   \n",
       "27                                                                                                                                                                                Скончался в течение 16 суток   \n",
       "28                                                                                                                                                                                Скончался в течение 17 суток   \n",
       "29                                                                                                                                                                                Скончался в течение 18 суток   \n",
       "30                                                                                                                                                                                Скончался в течение 20 суток   \n",
       "31                                                                                                                                                                                Скончался в течение 19 суток   \n",
       "32                                                                                                                                                                                Скончался в течение 21 суток   \n",
       "33                                                                                                                                                                                Скончался в течение 30 суток   \n",
       "34                                                                                                                                                                                Скончался в течение 22 суток   \n",
       "35                                                                                                                                                                                Скончался в течение 23 суток   \n",
       "36                                                                                                                                                                                Скончался в течение 24 суток   \n",
       "37                                                                                                                                                                                Скончался в течение 25 суток   \n",
       "38                                                                                                                                                                                Скончался в течение 26 суток   \n",
       "39                                                                                                                                                                                Скончался в течение 28 суток   \n",
       "40                                                                                                                                                                                Скончался в течение 29 суток   \n",
       "41                                                                                                                                                                                Скончался в течение 27 суток   \n",
       "\n",
       "      count  \n",
       "0   1460558  \n",
       "1    683015  \n",
       "2    632390  \n",
       "3    408302  \n",
       "4    100739  \n",
       "5     63031  \n",
       "6     61805  \n",
       "7     20929  \n",
       "8      6743  \n",
       "9      6482  \n",
       "10     5542  \n",
       "11     3838  \n",
       "12     3117  \n",
       "13     2350  \n",
       "14     1815  \n",
       "15     1814  \n",
       "16     1726  \n",
       "17     1579  \n",
       "18     1467  \n",
       "19     1354  \n",
       "20     1212  \n",
       "21     1127  \n",
       "22      790  \n",
       "23      747  \n",
       "24      617  \n",
       "25      592  \n",
       "26      549  \n",
       "27      440  \n",
       "28      408  \n",
       "29      353  \n",
       "30      335  \n",
       "31      311  \n",
       "32      255  \n",
       "33      245  \n",
       "34      235  \n",
       "35      231  \n",
       "36      224  \n",
       "37      200  \n",
       "38      194  \n",
       "39      193  \n",
       "40      163  \n",
       "41      154  "
      ]
     },
     "execution_count": 22,
     "metadata": {},
     "output_type": "execute_result"
    }
   ],
   "source": [
    "df_fp['health_status'].value_counts(dropna=False).reset_index()"
   ]
  },
  {
   "cell_type": "code",
   "execution_count": 23,
   "id": "a91b880b",
   "metadata": {},
   "outputs": [],
   "source": [
    "df_fp['health_status'].replace({None: 'не указано'}, inplace=True)"
   ]
  },
  {
   "cell_type": "code",
   "execution_count": 24,
   "id": "2cb8fb69",
   "metadata": {},
   "outputs": [],
   "source": [
    "def categorize_health(row):\n",
    "    if 'Не пострадал' in row :\n",
    "        return 'Не пострадал' \n",
    "    elif 'вне зависимости от' in row or 'на амбулаторном' in row:\n",
    "        return 'Раненый,рекомендовано амбулаторное лечение'\n",
    "    elif 'на стационарном лечении' in row:\n",
    "        return 'Раненый,на стационарном лечении'\n",
    "    elif 'раненый не относится' in row:\n",
    "        return 'Оказание разовой мед.помощи'\n",
    "    elif 'повреждения с показанием к лечению в медицинских ' in row:\n",
    "        return 'ТП с показанием к лечению в мед.учереждении' \n",
    "    elif 'Скончался на месте ДТП до приезда скорой медицинской помощи' in row or 'Скончался на месте ДТП по прибытию скорой медицинской помощи' in row:\n",
    "        return 'Скончался на месте ДТП'\n",
    "    elif 'Скончался при транспортировке' in row:\n",
    "        return 'Скончался при транспортировке'\n",
    "    elif '11' in row or '12'in row or '13'in row or '14'in row or '15'in row or '16' in row or '17'in row or '18'in row or '19'in row or '20'in row:\n",
    "        return 'Cкончался в течение 11-20 суток'\n",
    "\n",
    "    elif '21' in row or '22'in row or '23'in row or '24'in row or '25'in row or '26' in row or '27'in row or '28'in row or '29'in row or '30'in row:\n",
    "        return 'Cкончался в течение 21-30 суток'\n",
    "   \n",
    "    elif '1' in row:\n",
    "        return 'Cкончался в течение 1 суток' \n",
    "    elif '2' in row or '3'in row or '4'in row or '5'in row or '6' in row or '7'in row or '8'in row or '9'in row or '10'in row:\n",
    "        return 'Cкончался в течение 2-10 суток' \n",
    "    else:\n",
    "        return 'Не указано'\n",
    "\n"
   ]
  },
  {
   "cell_type": "code",
   "execution_count": 25,
   "id": "b3d10fb3",
   "metadata": {
    "scrolled": true
   },
   "outputs": [],
   "source": [
    "df_fp['health_status_group'] = df_fp['health_status'].apply(categorize_health)\n",
    "\n"
   ]
  },
  {
   "cell_type": "code",
   "execution_count": 26,
   "id": "ee99f56e",
   "metadata": {},
   "outputs": [
    {
     "data": {
      "text/html": [
       "<div>\n",
       "<style scoped>\n",
       "    .dataframe tbody tr th:only-of-type {\n",
       "        vertical-align: middle;\n",
       "    }\n",
       "\n",
       "    .dataframe tbody tr th {\n",
       "        vertical-align: top;\n",
       "    }\n",
       "\n",
       "    .dataframe thead th {\n",
       "        text-align: right;\n",
       "    }\n",
       "</style>\n",
       "<table border=\"1\" class=\"dataframe\">\n",
       "  <thead>\n",
       "    <tr style=\"text-align: right;\">\n",
       "      <th></th>\n",
       "      <th>health_status_group</th>\n",
       "      <th>count</th>\n",
       "    </tr>\n",
       "  </thead>\n",
       "  <tbody>\n",
       "    <tr>\n",
       "      <th>0</th>\n",
       "      <td>Не пострадал</td>\n",
       "      <td>1460558</td>\n",
       "    </tr>\n",
       "    <tr>\n",
       "      <th>1</th>\n",
       "      <td>Раненый,рекомендовано амбулаторное лечение</td>\n",
       "      <td>1091317</td>\n",
       "    </tr>\n",
       "    <tr>\n",
       "      <th>2</th>\n",
       "      <td>Раненый,на стационарном лечении</td>\n",
       "      <td>632390</td>\n",
       "    </tr>\n",
       "    <tr>\n",
       "      <th>3</th>\n",
       "      <td>Скончался на месте ДТП</td>\n",
       "      <td>108096</td>\n",
       "    </tr>\n",
       "    <tr>\n",
       "      <th>4</th>\n",
       "      <td>Оказание разовой мед.помощи</td>\n",
       "      <td>66869</td>\n",
       "    </tr>\n",
       "    <tr>\n",
       "      <th>5</th>\n",
       "      <td>ТП с показанием к лечению в мед.учереждении</td>\n",
       "      <td>61805</td>\n",
       "    </tr>\n",
       "    <tr>\n",
       "      <th>6</th>\n",
       "      <td>Cкончался в течение 1 суток</td>\n",
       "      <td>22141</td>\n",
       "    </tr>\n",
       "    <tr>\n",
       "      <th>7</th>\n",
       "      <td>Cкончался в течение 2-10 суток</td>\n",
       "      <td>14534</td>\n",
       "    </tr>\n",
       "    <tr>\n",
       "      <th>8</th>\n",
       "      <td>Скончался при транспортировке</td>\n",
       "      <td>6743</td>\n",
       "    </tr>\n",
       "    <tr>\n",
       "      <th>9</th>\n",
       "      <td>Не указано</td>\n",
       "      <td>6482</td>\n",
       "    </tr>\n",
       "    <tr>\n",
       "      <th>10</th>\n",
       "      <td>Cкончался в течение 11-20 суток</td>\n",
       "      <td>5142</td>\n",
       "    </tr>\n",
       "    <tr>\n",
       "      <th>11</th>\n",
       "      <td>Cкончался в течение 21-30 суток</td>\n",
       "      <td>2094</td>\n",
       "    </tr>\n",
       "  </tbody>\n",
       "</table>\n",
       "</div>"
      ],
      "text/plain": [
       "                            health_status_group    count\n",
       "0                                  Не пострадал  1460558\n",
       "1    Раненый,рекомендовано амбулаторное лечение  1091317\n",
       "2               Раненый,на стационарном лечении   632390\n",
       "3                        Скончался на месте ДТП   108096\n",
       "4                   Оказание разовой мед.помощи    66869\n",
       "5   ТП с показанием к лечению в мед.учереждении    61805\n",
       "6                   Cкончался в течение 1 суток    22141\n",
       "7                Cкончался в течение 2-10 суток    14534\n",
       "8                 Скончался при транспортировке     6743\n",
       "9                                    Не указано     6482\n",
       "10              Cкончался в течение 11-20 суток     5142\n",
       "11              Cкончался в течение 21-30 суток     2094"
      ]
     },
     "execution_count": 26,
     "metadata": {},
     "output_type": "execute_result"
    }
   ],
   "source": [
    "df_fp['health_status_group'].value_counts(dropna=False).reset_index() "
   ]
  },
  {
   "cell_type": "code",
   "execution_count": 27,
   "id": "5772126b",
   "metadata": {},
   "outputs": [],
   "source": [
    "pd.reset_option(\"display.max_colwidth\")"
   ]
  },
  {
   "cell_type": "markdown",
   "id": "c60c8801",
   "metadata": {},
   "source": [
    "#### `violations` (нарушения)"
   ]
  },
  {
   "cell_type": "code",
   "execution_count": 28,
   "id": "cedcf736",
   "metadata": {},
   "outputs": [],
   "source": [
    "df_fp1 = df_fp[['id','violations']]"
   ]
  },
  {
   "cell_type": "markdown",
   "id": "b19f4284",
   "metadata": {},
   "source": [
    "Стобец имеепт списки в своих значениях.Посмотрим на них."
   ]
  },
  {
   "cell_type": "code",
   "execution_count": 29,
   "id": "7b98d392",
   "metadata": {},
   "outputs": [
    {
     "data": {
      "text/plain": [
       "array([nan, 'Неправильный выбор дистанции',\n",
       "       'Отсутствие у водителя документов, предусмотренных законодательными и иными НПА',\n",
       "       'Несоблюдение бокового интервала', 'Оставление места ДТП',\n",
       "       'Несоблюдение требований ОСАГО',\n",
       "       'Выезд на полосу встречного движения',\n",
       "       'Отказ водителя от прохождения медицинского освидетельствования на состояние опьянения',\n",
       "       'Нарушение правил расположения ТС на проезжей части',\n",
       "       'Несоблюдение условий, разрешающих движение транспорта задним ходом',\n",
       "       'Выезд на полосу встречного движения в местах, где это запрещено',\n",
       "       'Нарушение водителем правил применения ремней безопасности (ставится в случае, когда не пристегнут водитель)',\n",
       "       'Другие нарушения ПДД водителем',\n",
       "       'Нарушение водителем правил применения ремней безопасности (ставится в случае, когда не пристегнут пассажир)',\n",
       "       'Нарушение правил применения ремней безопасности пассажиром',\n",
       "       'Управление ТС в состоянии алкогольного опьянения',\n",
       "       'Эксплуатация ТС с техническими неисправностями, при которых запрещается их эксплуатация',\n",
       "       'Несоблюдение очередности проезда',\n",
       "       'Несоответствие скорости конкретным условиям движения',\n",
       "       'Нарушение правил проезда пешеходного перехода',\n",
       "       'Управление ТС лицом, не имеющим права на управление ТС',\n",
       "       'Эксплуатация незарегистрированного ТС',\n",
       "       'Несоблюдение очередности проезда перекрестков',\n",
       "       'Нарушение правил применения мотошлема',\n",
       "       'Другие нарушения ПДД водителями (не применяется с 12.2020)',\n",
       "       'Управление ТС лицом, лишенным права управления',\n",
       "       'Управление ТС в состоянии наркотического опьянения',\n",
       "       'Управление транспортным средством при наличии неисправностей или условий, при которых эксплуатация транспортного средства запрещена',\n",
       "       'Нарушение правил перевозки детей (не использование детских сидений либо удерживающих устройств)',\n",
       "       'Нарушение правил перестроения',\n",
       "       'Нарушение правил погрузки, выгрузки и крепления грузов',\n",
       "       'Нарушение\\xa0правил\\xa0движения тяжеловесного и(или) крупногабаритного ТС(превышение допустимых габаритов ТС, превышением допустимой массы ТС или допустимой нагрузки на ось ТС)',\n",
       "       'Нарушение правил движения тяжеловесного и(или) крупногабаритного ТС(превышение допустимых габаритов ТС, превышением допустимой массы ТС или допустимой нагрузки на ось ТС)',\n",
       "       'Нарушение правил обгона', 'Нарушение правил перевозки людей',\n",
       "       'Пересечение велосипедистом проезжей части по пешеходному переходу',\n",
       "       'Нарушение требований сигналов светофора',\n",
       "       'Непредоставление преимущества в движении пешеходу',\n",
       "       'Невыполнение требований обеспечения безопасности при начале движения',\n",
       "       'Управление ТС лицом, находящимся в состоянии алкогольного опьянения и не имеющим права управления ТС либо лишенным права управления ТС',\n",
       "       'Управление ТС лицом, не имеющим соответствующей категории на управление ТС данного вида',\n",
       "       'Употребление водителем алкогольных напитков, наркотических, психотропных или иных одурманивающих веществ после дорожно-транспортного происшествия, к которому он причастен, до проведения освидетельствования с целью установления состояния опьянения или до принятия решения об освобождении от проведения такого освидетельствовани',\n",
       "       'Нарушение правил применения мотошлема пассажиром',\n",
       "       'Эксплуатация технически неисправного ТС (проставляется в случае ДТП по причине технеисправности)',\n",
       "       'Управление ТС лицом, находящимся в состоянии алкогольного опьянения и не имеющим права управления ТС либо лишенным права управления ТС (не применяется с 12.2020)',\n",
       "       'Неповиновение или сопротивление находящемуся при исполнении служебных обязанностей сотруднику правоохранительных органов или военнослужащему при остановке или задержании ТС',\n",
       "       'Светопропускание стекол менее нормативного',\n",
       "       'Отказ водителя, не имеющего права управления ТС либо лишенного права управления ТС от прохождении медицинского освидетельствования на состояние опьянения',\n",
       "       'Нарушение правил перевозки крупногабаритных и тяжеловесных грузов',\n",
       "       'Нарушение режима труда и отдыха водителя',\n",
       "       'Выезд на полосу встречного движения с разворотом, поворотом налево или объездом препятствия',\n",
       "       'Нарушение правил пользования внешними световыми приборами',\n",
       "       'Отказ водителя, не имеющего права управления ТС либо лишенного права управления ТС, от прохождения медицинского освидетельствования на состояние опьянения (не применяется с 12.2020)',\n",
       "       'Нарушение правил остановки и стоянки',\n",
       "       'Нарушение требований линий разметки',\n",
       "       'Управление мопедом лицом моложе 16 лет',\n",
       "       'Превышение установленной скорости движения', 'Иные нарушения',\n",
       "       'Управление в состоянии переутомления, сон за рулём',\n",
       "       'Нарушение требований дорожных знаков',\n",
       "       'Управление ТС лицом, находящимся в состоянии наркотического опьянения и не имеющим права управления ТС либо лишенным права управления ТС',\n",
       "       'Оставление движущегося транспортного средства (выход или выпрыгивание на ходу и т.д.)',\n",
       "       'Неподача или неправильная подача сигналов поворота',\n",
       "       'Управление велосипедом, не оснащённым светоотражающими элементами',\n",
       "       'Управление при движении по автодороге велосипедом, гужевой повозкой лицом моложе 14 лет',\n",
       "       'Разворот в местах, где разворот запрещён',\n",
       "       'Неподача или неправильная подача сигналов',\n",
       "       'Непредоставление преимущества в движении ТС, имеющему нанесенные на наружные поверхности специальные цветографические схемы, надписи и обозначения, с одновременно включённым проблесковым маячком синего цвета и специальным звуковым сигналом',\n",
       "       'Управление ТС в состоянии нетрудоспособности (болезни)',\n",
       "       'Нарушение правил проезда ж/д переездов',\n",
       "       'Нарушение требований сигналов регулировщика',\n",
       "       'Управление ТС лицом, находящимся в состоянии наркотического опьянения и не имеющим права управления ТС либо лишенным права управления ТС (не применяется с 12.2020)',\n",
       "       'Движение во встречном направлении по дороге с односторонним движением',\n",
       "       'Нарушение правил при круговом движении',\n",
       "       'Нарушение правил буксировки',\n",
       "       'Стоянка на проезжей части или обочине без освещения',\n",
       "       'Ослепление светом фар',\n",
       "       'Управление ТС без очков (контактных линз) в случае, когда их использование водителем обязательно',\n",
       "       'Нарушение правил учебной езды',\n",
       "       'Нарушение правил перевозки опасных грузов',\n",
       "       'Передача управления ТС лицу, находящемуся в состоянии опьянения',\n",
       "       'Управление велосипедом с неисправной тормозной системой',\n",
       "       'Пользование мобильной связью во время управления автомобилем',\n",
       "       'Создание помех для водителя в управлении транспортным средством',\n",
       "       'Нарушение правил пользования общественным транспортом',\n",
       "       'Пешеход в состоянии алкогольного опьянения', 'Опасное вождение',\n",
       "       'Нарушение правил проезда остановок трамвая',\n",
       "       'Переход через проезжую часть вне пешеходного перехода в зоне его видимости либо при наличии в непосредственной близости подземного (надземного) пешеходного перехода',\n",
       "       'Неожиданный выход из-за сооружений (деревьев)',\n",
       "       'Переход через проезжую часть в неустановленном месте (при наличии в зоне видимости перекрёстка)',\n",
       "       'Нахождение на проезжей части без цели её перехода',\n",
       "       'Неподчинение сигналам регулирования',\n",
       "       'Переход проезжей части в запрещённом месте (оборудованном пешеходными  ограждениями)',\n",
       "       'Ходьба вдоль проезжей части попутного направления вне населенного пункта при удовлетворительном состоянии обочины',\n",
       "       'Движение вдоль проезжей части попутного направления вне населенного пункта при удовлетворительном состоянии обочины',\n",
       "       'Отсутствие световозвращающих элементов',\n",
       "       'Неожиданный выход из-за стоящего ТС',\n",
       "       'Движение вдоль проезжей части при наличии и удовлетворительном состоянии тротуара',\n",
       "       'Неожиданный выход из-за ТС',\n",
       "       'Пешеход в возрасте до 7 лет без взрослого',\n",
       "       'Ходьба вдоль проезжей части при наличии и удовлетворительном состоянии тротуара',\n",
       "       'Передвижение по проезжей части на скейтборде (роликовых коньках и т.д.)',\n",
       "       'Игра на проезжей части',\n",
       "       'Пешеход в состоянии наркотического опьянения',\n",
       "       'Ожидание маршрутного ТС на проезжей части, вне посадочных площадок, тротуаров и обочин (при их наличии)',\n",
       "       'Незаконное нанесение специальных цветографических схем автомобилей оперативных служб',\n",
       "       'Переход проезжей части перед приближающимся ТС с включёнными проблесковым маячком синего (сине-красного) цвета и звуковым сигналом',\n",
       "       'Нарушение правил движения в жилых зонах',\n",
       "       'Неожиданный выход из-за сооружений (деревьев) ',\n",
       "       'Выезд на трамвайные пути встречного направления',\n",
       "       'Пользование во время движения незаконно установленными устройствами для подачи специальных световых и звуковых сигналов'],\n",
       "      dtype=object)"
      ]
     },
     "execution_count": 29,
     "metadata": {},
     "output_type": "execute_result"
    }
   ],
   "source": [
    "list_vio =df_fp1.explode('violations')['violations'].unique()\n",
    "list_vio"
   ]
  },
  {
   "cell_type": "markdown",
   "id": "eccf2519",
   "metadata": {},
   "source": [
    "Посмотрим пример какие связаны с мооциклами."
   ]
  },
  {
   "cell_type": "code",
   "execution_count": 30,
   "id": "282b2b3c",
   "metadata": {},
   "outputs": [
    {
     "name": "stdout",
     "output_type": "stream",
     "text": [
      "Нарушение правил применения мотошлема\n",
      "Нарушение правил применения мотошлема пассажиром\n"
     ]
    }
   ],
   "source": [
    "for name_violation in list_vio:\n",
    "    try:\n",
    "        if 'мото' in name_violation:\n",
    "            print(name_violation)\n",
    "    except:\n",
    "        pass"
   ]
  },
  {
   "cell_type": "code",
   "execution_count": 31,
   "id": "ac2d2dfd",
   "metadata": {},
   "outputs": [],
   "source": [
    "df_fp.violations = df_fp.violations.astype(str)"
   ]
  },
  {
   "cell_type": "code",
   "execution_count": 32,
   "id": "f3287598",
   "metadata": {},
   "outputs": [
    {
     "data": {
      "text/plain": [
       "0                                                         []\n",
       "1                           ['Неправильный выбор дистанции']\n",
       "2          ['Отсутствие у водителя документов, предусмотр...\n",
       "3          ['Несоблюдение бокового интервала', 'Оставлени...\n",
       "4          ['Выезд на полосу встречного движения', 'Отказ...\n",
       "                                 ...                        \n",
       "3478166                                                   []\n",
       "3478167                                                   []\n",
       "3478168    ['Иные нарушения', 'Движение вдоль проезжей ча...\n",
       "3478169                                                   []\n",
       "3478170    ['Переход через проезжую часть вне пешеходного...\n",
       "Name: violations, Length: 3478171, dtype: object"
      ]
     },
     "execution_count": 32,
     "metadata": {},
     "output_type": "execute_result"
    }
   ],
   "source": [
    "df_fp.violations"
   ]
  },
  {
   "cell_type": "code",
   "execution_count": 33,
   "id": "63146dd2",
   "metadata": {},
   "outputs": [
    {
     "name": "stdout",
     "output_type": "stream",
     "text": [
      "Количество дубликатов - 140164\n"
     ]
    }
   ],
   "source": [
    "print ('Количество дубликатов -', df_fp.duplicated().sum()) # проверка на дубликаты"
   ]
  },
  {
   "cell_type": "code",
   "execution_count": 34,
   "id": "2e8f0b0e",
   "metadata": {},
   "outputs": [
    {
     "data": {
      "text/plain": [
       "4.029819120451525"
      ]
     },
     "execution_count": 34,
     "metadata": {},
     "output_type": "execute_result"
    }
   ],
   "source": [
    "df_fp.duplicated().sum()*100/len(df_fp)"
   ]
  },
  {
   "cell_type": "markdown",
   "id": "b67579df",
   "metadata": {},
   "source": [
    "Дубликатов 4%. Не факт , что они действительно таковыми являются .Среди пассажиров и пешеходов это  теоретически могут быть и не дубликаты."
   ]
  },
  {
   "cell_type": "code",
   "execution_count": 35,
   "id": "df7ba520",
   "metadata": {},
   "outputs": [
    {
     "data": {
      "text/html": [
       "<div>\n",
       "<style scoped>\n",
       "    .dataframe tbody tr th:only-of-type {\n",
       "        vertical-align: middle;\n",
       "    }\n",
       "\n",
       "    .dataframe tbody tr th {\n",
       "        vertical-align: top;\n",
       "    }\n",
       "\n",
       "    .dataframe thead th {\n",
       "        text-align: right;\n",
       "    }\n",
       "</style>\n",
       "<table border=\"1\" class=\"dataframe\">\n",
       "  <thead>\n",
       "    <tr style=\"text-align: right;\">\n",
       "      <th></th>\n",
       "      <th>id</th>\n",
       "      <th>role</th>\n",
       "      <th>gender</th>\n",
       "      <th>violations</th>\n",
       "      <th>health_status</th>\n",
       "      <th>years_of_driving_experience</th>\n",
       "      <th>health_status_group</th>\n",
       "    </tr>\n",
       "  </thead>\n",
       "  <tbody>\n",
       "    <tr>\n",
       "      <th>38</th>\n",
       "      <td>2197007</td>\n",
       "      <td>Пассажир</td>\n",
       "      <td>Мужской</td>\n",
       "      <td>[]</td>\n",
       "      <td>Получил травмы с оказанием разовой медицинской...</td>\n",
       "      <td>NaN</td>\n",
       "      <td>Оказание разовой мед.помощи</td>\n",
       "    </tr>\n",
       "    <tr>\n",
       "      <th>39</th>\n",
       "      <td>2197007</td>\n",
       "      <td>Пассажир</td>\n",
       "      <td>Мужской</td>\n",
       "      <td>[]</td>\n",
       "      <td>Получил травмы с оказанием разовой медицинской...</td>\n",
       "      <td>NaN</td>\n",
       "      <td>Оказание разовой мед.помощи</td>\n",
       "    </tr>\n",
       "    <tr>\n",
       "      <th>41</th>\n",
       "      <td>2197007</td>\n",
       "      <td>Пассажир</td>\n",
       "      <td>Мужской</td>\n",
       "      <td>[]</td>\n",
       "      <td>Получил травмы с оказанием разовой медицинской...</td>\n",
       "      <td>NaN</td>\n",
       "      <td>Оказание разовой мед.помощи</td>\n",
       "    </tr>\n",
       "    <tr>\n",
       "      <th>42</th>\n",
       "      <td>2197007</td>\n",
       "      <td>Пассажир</td>\n",
       "      <td>Мужской</td>\n",
       "      <td>[]</td>\n",
       "      <td>Получил травмы с оказанием разовой медицинской...</td>\n",
       "      <td>NaN</td>\n",
       "      <td>Оказание разовой мед.помощи</td>\n",
       "    </tr>\n",
       "    <tr>\n",
       "      <th>203</th>\n",
       "      <td>2538168</td>\n",
       "      <td>Пассажир</td>\n",
       "      <td>Женский</td>\n",
       "      <td>[]</td>\n",
       "      <td>Раненый, находящийся (находившийся) на стацион...</td>\n",
       "      <td>NaN</td>\n",
       "      <td>Раненый,на стационарном лечении</td>\n",
       "    </tr>\n",
       "    <tr>\n",
       "      <th>205</th>\n",
       "      <td>2538168</td>\n",
       "      <td>Пассажир</td>\n",
       "      <td>Женский</td>\n",
       "      <td>[]</td>\n",
       "      <td>Раненый, находящийся (находившийся) на стацион...</td>\n",
       "      <td>NaN</td>\n",
       "      <td>Раненый,на стационарном лечении</td>\n",
       "    </tr>\n",
       "    <tr>\n",
       "      <th>222</th>\n",
       "      <td>2564515</td>\n",
       "      <td>Пассажир</td>\n",
       "      <td>Мужской</td>\n",
       "      <td>[]</td>\n",
       "      <td>Получил травмы с оказанием разовой медицинской...</td>\n",
       "      <td>NaN</td>\n",
       "      <td>Оказание разовой мед.помощи</td>\n",
       "    </tr>\n",
       "    <tr>\n",
       "      <th>223</th>\n",
       "      <td>2564515</td>\n",
       "      <td>Пассажир</td>\n",
       "      <td>Мужской</td>\n",
       "      <td>[]</td>\n",
       "      <td>Получил травмы с оказанием разовой медицинской...</td>\n",
       "      <td>NaN</td>\n",
       "      <td>Оказание разовой мед.помощи</td>\n",
       "    </tr>\n",
       "    <tr>\n",
       "      <th>238</th>\n",
       "      <td>2769466</td>\n",
       "      <td>Пассажир</td>\n",
       "      <td>Женский</td>\n",
       "      <td>[]</td>\n",
       "      <td>Раненый, находящийся (находившийся) на амбулат...</td>\n",
       "      <td>NaN</td>\n",
       "      <td>Раненый,рекомендовано амбулаторное лечение</td>\n",
       "    </tr>\n",
       "    <tr>\n",
       "      <th>239</th>\n",
       "      <td>2769466</td>\n",
       "      <td>Пассажир</td>\n",
       "      <td>Женский</td>\n",
       "      <td>[]</td>\n",
       "      <td>Раненый, находящийся (находившийся) на амбулат...</td>\n",
       "      <td>NaN</td>\n",
       "      <td>Раненый,рекомендовано амбулаторное лечение</td>\n",
       "    </tr>\n",
       "  </tbody>\n",
       "</table>\n",
       "</div>"
      ],
      "text/plain": [
       "          id      role   gender violations  \\\n",
       "38   2197007  Пассажир  Мужской         []   \n",
       "39   2197007  Пассажир  Мужской         []   \n",
       "41   2197007  Пассажир  Мужской         []   \n",
       "42   2197007  Пассажир  Мужской         []   \n",
       "203  2538168  Пассажир  Женский         []   \n",
       "205  2538168  Пассажир  Женский         []   \n",
       "222  2564515  Пассажир  Мужской         []   \n",
       "223  2564515  Пассажир  Мужской         []   \n",
       "238  2769466  Пассажир  Женский         []   \n",
       "239  2769466  Пассажир  Женский         []   \n",
       "\n",
       "                                         health_status  \\\n",
       "38   Получил травмы с оказанием разовой медицинской...   \n",
       "39   Получил травмы с оказанием разовой медицинской...   \n",
       "41   Получил травмы с оказанием разовой медицинской...   \n",
       "42   Получил травмы с оказанием разовой медицинской...   \n",
       "203  Раненый, находящийся (находившийся) на стацион...   \n",
       "205  Раненый, находящийся (находившийся) на стацион...   \n",
       "222  Получил травмы с оказанием разовой медицинской...   \n",
       "223  Получил травмы с оказанием разовой медицинской...   \n",
       "238  Раненый, находящийся (находившийся) на амбулат...   \n",
       "239  Раненый, находящийся (находившийся) на амбулат...   \n",
       "\n",
       "     years_of_driving_experience                         health_status_group  \n",
       "38                           NaN                 Оказание разовой мед.помощи  \n",
       "39                           NaN                 Оказание разовой мед.помощи  \n",
       "41                           NaN                 Оказание разовой мед.помощи  \n",
       "42                           NaN                 Оказание разовой мед.помощи  \n",
       "203                          NaN             Раненый,на стационарном лечении  \n",
       "205                          NaN             Раненый,на стационарном лечении  \n",
       "222                          NaN                 Оказание разовой мед.помощи  \n",
       "223                          NaN                 Оказание разовой мед.помощи  \n",
       "238                          NaN  Раненый,рекомендовано амбулаторное лечение  \n",
       "239                          NaN  Раненый,рекомендовано амбулаторное лечение  "
      ]
     },
     "execution_count": 35,
     "metadata": {},
     "output_type": "execute_result"
    }
   ],
   "source": [
    "df_fp1_dup=df_fp[df_fp.duplicated(keep=False)]\n",
    "df_fp1_dup.head(10)"
   ]
  },
  {
   "cell_type": "code",
   "execution_count": 36,
   "id": "b7be9733",
   "metadata": {},
   "outputs": [
    {
     "data": {
      "text/html": [
       "<div>\n",
       "<style scoped>\n",
       "    .dataframe tbody tr th:only-of-type {\n",
       "        vertical-align: middle;\n",
       "    }\n",
       "\n",
       "    .dataframe tbody tr th {\n",
       "        vertical-align: top;\n",
       "    }\n",
       "\n",
       "    .dataframe thead th {\n",
       "        text-align: right;\n",
       "    }\n",
       "</style>\n",
       "<table border=\"1\" class=\"dataframe\">\n",
       "  <thead>\n",
       "    <tr style=\"text-align: right;\">\n",
       "      <th></th>\n",
       "      <th>id</th>\n",
       "      <th>role</th>\n",
       "      <th>gender</th>\n",
       "      <th>violations</th>\n",
       "      <th>health_status</th>\n",
       "      <th>years_of_driving_experience</th>\n",
       "      <th>health_status_group</th>\n",
       "    </tr>\n",
       "  </thead>\n",
       "  <tbody>\n",
       "    <tr>\n",
       "      <th>38</th>\n",
       "      <td>2197007</td>\n",
       "      <td>Пассажир</td>\n",
       "      <td>Мужской</td>\n",
       "      <td>[]</td>\n",
       "      <td>Получил травмы с оказанием разовой медицинской...</td>\n",
       "      <td>NaN</td>\n",
       "      <td>Оказание разовой мед.помощи</td>\n",
       "    </tr>\n",
       "    <tr>\n",
       "      <th>39</th>\n",
       "      <td>2197007</td>\n",
       "      <td>Пассажир</td>\n",
       "      <td>Мужской</td>\n",
       "      <td>[]</td>\n",
       "      <td>Получил травмы с оказанием разовой медицинской...</td>\n",
       "      <td>NaN</td>\n",
       "      <td>Оказание разовой мед.помощи</td>\n",
       "    </tr>\n",
       "    <tr>\n",
       "      <th>41</th>\n",
       "      <td>2197007</td>\n",
       "      <td>Пассажир</td>\n",
       "      <td>Мужской</td>\n",
       "      <td>[]</td>\n",
       "      <td>Получил травмы с оказанием разовой медицинской...</td>\n",
       "      <td>NaN</td>\n",
       "      <td>Оказание разовой мед.помощи</td>\n",
       "    </tr>\n",
       "    <tr>\n",
       "      <th>42</th>\n",
       "      <td>2197007</td>\n",
       "      <td>Пассажир</td>\n",
       "      <td>Мужской</td>\n",
       "      <td>[]</td>\n",
       "      <td>Получил травмы с оказанием разовой медицинской...</td>\n",
       "      <td>NaN</td>\n",
       "      <td>Оказание разовой мед.помощи</td>\n",
       "    </tr>\n",
       "    <tr>\n",
       "      <th>203</th>\n",
       "      <td>2538168</td>\n",
       "      <td>Пассажир</td>\n",
       "      <td>Женский</td>\n",
       "      <td>[]</td>\n",
       "      <td>Раненый, находящийся (находившийся) на стацион...</td>\n",
       "      <td>NaN</td>\n",
       "      <td>Раненый,на стационарном лечении</td>\n",
       "    </tr>\n",
       "  </tbody>\n",
       "</table>\n",
       "</div>"
      ],
      "text/plain": [
       "          id      role   gender violations  \\\n",
       "38   2197007  Пассажир  Мужской         []   \n",
       "39   2197007  Пассажир  Мужской         []   \n",
       "41   2197007  Пассажир  Мужской         []   \n",
       "42   2197007  Пассажир  Мужской         []   \n",
       "203  2538168  Пассажир  Женский         []   \n",
       "\n",
       "                                         health_status  \\\n",
       "38   Получил травмы с оказанием разовой медицинской...   \n",
       "39   Получил травмы с оказанием разовой медицинской...   \n",
       "41   Получил травмы с оказанием разовой медицинской...   \n",
       "42   Получил травмы с оказанием разовой медицинской...   \n",
       "203  Раненый, находящийся (находившийся) на стацион...   \n",
       "\n",
       "     years_of_driving_experience              health_status_group  \n",
       "38                           NaN      Оказание разовой мед.помощи  \n",
       "39                           NaN      Оказание разовой мед.помощи  \n",
       "41                           NaN      Оказание разовой мед.помощи  \n",
       "42                           NaN      Оказание разовой мед.помощи  \n",
       "203                          NaN  Раненый,на стационарном лечении  "
      ]
     },
     "metadata": {},
     "output_type": "display_data"
    },
    {
     "name": "stdout",
     "output_type": "stream",
     "text": [
      "Колонки\n",
      "Index(['id', 'role', 'gender', 'violations', 'health_status',\n",
      "       'years_of_driving_experience', 'health_status_group'],\n",
      "      dtype='object')\n",
      "--------------------------------------------------\n",
      "Содержимое колонок\n",
      "********************\n",
      "id\n",
      "[2197007 2538168 2564515 ... 2297939 2294184 2291545]\n",
      "93311\n",
      "********************\n",
      "role\n",
      "['Пассажир' 'Водитель' 'Велосипедист' 'Пешеход'\n",
      " 'Пешеход,бывший до ДТП в ТС']\n",
      "5\n",
      "********************\n",
      "gender\n",
      "['Мужской' 'Женский' 'не указано']\n",
      "3\n",
      "********************\n",
      "violations\n",
      "['[]'\n",
      " \"['Нарушение правил расположения ТС на проезжей части', 'Оставление места ДТП']\"\n",
      " \"['Нарушение правил применения ремней безопасности пассажиром']\" ...\n",
      " \"['Эксплуатация незарегистрированного ТС', 'Оставление места ДТП', 'Употребление водителем алкогольных напитков, наркотических, психотропных или иных одурманивающих веществ после дорожно-транспортного происшествия, к которому он причастен, до проведения освидетельствования с целью установления состояния опьянения или до принятия решения об освобождении от проведения такого освидетельствовани']\"\n",
      " \"['Нарушение правил проезда пешеходного перехода', 'Управление ТС лицом, не имеющим права на управление ТС', 'Оставление места ДТП', 'Отказ водителя от прохождения медицинского освидетельствования на состояние опьянения']\"\n",
      " \"['Нарушение правил расположения ТС на проезжей части', 'Выезд на полосу встречного движения', 'Управление ТС лицом, не имеющим права на управление ТС', 'Несоблюдение требований ОСАГО']\"]\n",
      "1037\n",
      "********************\n",
      "health_status\n",
      "['Получил травмы с оказанием разовой медицинской помощи, к категории раненый не относится'\n",
      " 'Раненый, находящийся (находившийся) на стационарном лечении'\n",
      " 'Раненый, находящийся (находившийся) на амбулаторном лечении, либо в условиях дневного стационара'\n",
      " 'Не пострадал'\n",
      " 'Раненый, находящийся (находившийся)  на амбулаторном лечении, либо которому по характеру полученных травм обозначена необходимость амбулаторного лечения (вне зависимости от его фактического прохождения)'\n",
      " 'Скончался на месте ДТП до приезда скорой медицинской помощи'\n",
      " 'Получил телесные повреждения с показанием к лечению в медицинских организациях (кроме разовой медицинской помощи)'\n",
      " 'Получил телесные повреждения с показанием к лечению в медицинских организациях, фактически лечение не проходил, к категории раненый не относится'\n",
      " 'Скончался в течение 13 суток' 'Скончался в течение 1 суток'\n",
      " 'Скончался при транспортировке' 'Скончался в течение 6 суток'\n",
      " 'Скончался на месте ДТП по прибытию скорой медицинской помощи, но до транспортировки в мед. организацию'\n",
      " 'Скончался в течение 14 суток' 'Скончался в течение 7 суток'\n",
      " 'Скончался в течение 3 суток' 'Скончался в течение 12 суток'\n",
      " 'Скончался в течение 4 суток'\n",
      " 'Скончался на месте ДТП по прибытию скорой медицинской помощи, но до транспортировки в медицинское учреждение'\n",
      " 'Скончался в течение 11 суток' 'Скончался в течение 8 суток'\n",
      " 'Скончался в течение 9 суток' 'Скончался в течение 2 суток'\n",
      " 'Скончался в течение 10 суток' 'Скончался в течение 22 суток'\n",
      " 'Скончался в течение 5 суток' 'не указано' 'Скончался в течение 26 суток'\n",
      " 'Скончался в течение 15 суток' 'Скончался в течение 28 суток'\n",
      " 'Скончался в течение 29 суток' 'Скончался в течение 24 суток'\n",
      " 'Скончался в течение 23 суток' 'Скончался в течение 21 суток'\n",
      " 'Скончался в течение 30 суток' 'Скончался в течение 18 суток']\n",
      "36\n",
      "********************\n",
      "years_of_driving_experience\n",
      "[nan 20.  6. 19.  7. 13.  9. 28. 14.  3. 30. 24. 29. 37. 27. 15. 17. 23.\n",
      " 26.  1. 49. 46.  8. 12. 34. 11. 54. 21.  4. 40. 16. 10.  5. 31. 18. 25.\n",
      " 32. 22. 42. 43. 36.  2. 35. 38. 45. 50. 44. 39. 41. 47. 33. 51. 48. 52.\n",
      " 65. 62. 57. 60. 56. 67. 58. 55. 53.]\n",
      "62\n",
      "********************\n",
      "health_status_group\n",
      "['Оказание разовой мед.помощи' 'Раненый,на стационарном лечении'\n",
      " 'Раненый,рекомендовано амбулаторное лечение' 'Не пострадал'\n",
      " 'Скончался на месте ДТП' 'ТП с показанием к лечению в мед.учереждении'\n",
      " 'Cкончался в течение 11-20 суток' 'Cкончался в течение 1 суток'\n",
      " 'Скончался при транспортировке' 'Cкончался в течение 2-10 суток'\n",
      " 'Cкончался в течение 21-30 суток' 'Не указано']\n",
      "12\n",
      "********************\n",
      "Общая информация\n",
      "<class 'pandas.core.frame.DataFrame'>\n",
      "Index: 247359 entries, 38 to 3478154\n",
      "Data columns (total 7 columns):\n",
      " #   Column                       Non-Null Count   Dtype  \n",
      "---  ------                       --------------   -----  \n",
      " 0   id                           247359 non-null  int32  \n",
      " 1   role                         247359 non-null  object \n",
      " 2   gender                       247359 non-null  object \n",
      " 3   violations                   247359 non-null  object \n",
      " 4   health_status                247359 non-null  object \n",
      " 5   years_of_driving_experience  14543 non-null   float64\n",
      " 6   health_status_group          247359 non-null  object \n",
      "dtypes: float64(1), int32(1), object(5)\n",
      "memory usage: 14.2+ MB\n",
      "None\n",
      "--------------------------------------------------\n",
      "Пропуски\n",
      "id                                  0\n",
      "role                                0\n",
      "gender                              0\n",
      "violations                          0\n",
      "health_status                       0\n",
      "years_of_driving_experience    232816\n",
      "health_status_group                 0\n",
      "dtype: int64\n",
      "--------------------------------------------------\n"
     ]
    }
   ],
   "source": [
    "inform(df_fp1_dup)"
   ]
  },
  {
   "cell_type": "code",
   "execution_count": 37,
   "id": "68438d16",
   "metadata": {},
   "outputs": [
    {
     "data": {
      "text/html": [
       "<div>\n",
       "<style scoped>\n",
       "    .dataframe tbody tr th:only-of-type {\n",
       "        vertical-align: middle;\n",
       "    }\n",
       "\n",
       "    .dataframe tbody tr th {\n",
       "        vertical-align: top;\n",
       "    }\n",
       "\n",
       "    .dataframe thead th {\n",
       "        text-align: right;\n",
       "    }\n",
       "</style>\n",
       "<table border=\"1\" class=\"dataframe\">\n",
       "  <thead>\n",
       "    <tr style=\"text-align: right;\">\n",
       "      <th></th>\n",
       "      <th>id</th>\n",
       "      <th>role</th>\n",
       "      <th>gender</th>\n",
       "      <th>violations</th>\n",
       "      <th>health_status</th>\n",
       "      <th>years_of_driving_experience</th>\n",
       "      <th>health_status_group</th>\n",
       "    </tr>\n",
       "  </thead>\n",
       "  <tbody>\n",
       "    <tr>\n",
       "      <th>0</th>\n",
       "      <td>2799495</td>\n",
       "      <td>Водитель</td>\n",
       "      <td>Мужской</td>\n",
       "      <td>[]</td>\n",
       "      <td>Не пострадал</td>\n",
       "      <td>20.0</td>\n",
       "      <td>Не пострадал</td>\n",
       "    </tr>\n",
       "    <tr>\n",
       "      <th>1</th>\n",
       "      <td>2799495</td>\n",
       "      <td>Водитель</td>\n",
       "      <td>Мужской</td>\n",
       "      <td>[]</td>\n",
       "      <td>Не пострадал</td>\n",
       "      <td>20.0</td>\n",
       "      <td>Не пострадал</td>\n",
       "    </tr>\n",
       "    <tr>\n",
       "      <th>2</th>\n",
       "      <td>2773326</td>\n",
       "      <td>Водитель</td>\n",
       "      <td>не указано</td>\n",
       "      <td>['Нарушение правил расположения ТС на проезжей...</td>\n",
       "      <td>Не пострадал</td>\n",
       "      <td>NaN</td>\n",
       "      <td>Не пострадал</td>\n",
       "    </tr>\n",
       "    <tr>\n",
       "      <th>3</th>\n",
       "      <td>2773326</td>\n",
       "      <td>Водитель</td>\n",
       "      <td>не указано</td>\n",
       "      <td>['Нарушение правил расположения ТС на проезжей...</td>\n",
       "      <td>Не пострадал</td>\n",
       "      <td>NaN</td>\n",
       "      <td>Не пострадал</td>\n",
       "    </tr>\n",
       "    <tr>\n",
       "      <th>4</th>\n",
       "      <td>2198178</td>\n",
       "      <td>Водитель</td>\n",
       "      <td>Мужской</td>\n",
       "      <td>[]</td>\n",
       "      <td>Не пострадал</td>\n",
       "      <td>6.0</td>\n",
       "      <td>Не пострадал</td>\n",
       "    </tr>\n",
       "    <tr>\n",
       "      <th>...</th>\n",
       "      <td>...</td>\n",
       "      <td>...</td>\n",
       "      <td>...</td>\n",
       "      <td>...</td>\n",
       "      <td>...</td>\n",
       "      <td>...</td>\n",
       "      <td>...</td>\n",
       "    </tr>\n",
       "    <tr>\n",
       "      <th>16652</th>\n",
       "      <td>2539108</td>\n",
       "      <td>Водитель</td>\n",
       "      <td>Мужской</td>\n",
       "      <td>['Непредоставление преимущества в движении пеш...</td>\n",
       "      <td>Не пострадал</td>\n",
       "      <td>5.0</td>\n",
       "      <td>Не пострадал</td>\n",
       "    </tr>\n",
       "    <tr>\n",
       "      <th>16653</th>\n",
       "      <td>2565338</td>\n",
       "      <td>Водитель</td>\n",
       "      <td>Мужской</td>\n",
       "      <td>[]</td>\n",
       "      <td>Раненый, находящийся (находившийся) на амбулат...</td>\n",
       "      <td>5.0</td>\n",
       "      <td>Раненый,рекомендовано амбулаторное лечение</td>\n",
       "    </tr>\n",
       "    <tr>\n",
       "      <th>16654</th>\n",
       "      <td>2565338</td>\n",
       "      <td>Водитель</td>\n",
       "      <td>Мужской</td>\n",
       "      <td>[]</td>\n",
       "      <td>Раненый, находящийся (находившийся) на амбулат...</td>\n",
       "      <td>5.0</td>\n",
       "      <td>Раненый,рекомендовано амбулаторное лечение</td>\n",
       "    </tr>\n",
       "    <tr>\n",
       "      <th>16655</th>\n",
       "      <td>2565338</td>\n",
       "      <td>Водитель</td>\n",
       "      <td>Мужской</td>\n",
       "      <td>['Нарушение правил обгона', 'Несоблюдение треб...</td>\n",
       "      <td>Не пострадал</td>\n",
       "      <td>6.0</td>\n",
       "      <td>Не пострадал</td>\n",
       "    </tr>\n",
       "    <tr>\n",
       "      <th>16656</th>\n",
       "      <td>2565338</td>\n",
       "      <td>Водитель</td>\n",
       "      <td>Мужской</td>\n",
       "      <td>['Нарушение правил обгона', 'Несоблюдение треб...</td>\n",
       "      <td>Не пострадал</td>\n",
       "      <td>6.0</td>\n",
       "      <td>Не пострадал</td>\n",
       "    </tr>\n",
       "  </tbody>\n",
       "</table>\n",
       "<p>16657 rows × 7 columns</p>\n",
       "</div>"
      ],
      "text/plain": [
       "            id      role      gender  \\\n",
       "0      2799495  Водитель     Мужской   \n",
       "1      2799495  Водитель     Мужской   \n",
       "2      2773326  Водитель  не указано   \n",
       "3      2773326  Водитель  не указано   \n",
       "4      2198178  Водитель     Мужской   \n",
       "...        ...       ...         ...   \n",
       "16652  2539108  Водитель     Мужской   \n",
       "16653  2565338  Водитель     Мужской   \n",
       "16654  2565338  Водитель     Мужской   \n",
       "16655  2565338  Водитель     Мужской   \n",
       "16656  2565338  Водитель     Мужской   \n",
       "\n",
       "                                              violations  \\\n",
       "0                                                     []   \n",
       "1                                                     []   \n",
       "2      ['Нарушение правил расположения ТС на проезжей...   \n",
       "3      ['Нарушение правил расположения ТС на проезжей...   \n",
       "4                                                     []   \n",
       "...                                                  ...   \n",
       "16652  ['Непредоставление преимущества в движении пеш...   \n",
       "16653                                                 []   \n",
       "16654                                                 []   \n",
       "16655  ['Нарушение правил обгона', 'Несоблюдение треб...   \n",
       "16656  ['Нарушение правил обгона', 'Несоблюдение треб...   \n",
       "\n",
       "                                           health_status  \\\n",
       "0                                           Не пострадал   \n",
       "1                                           Не пострадал   \n",
       "2                                           Не пострадал   \n",
       "3                                           Не пострадал   \n",
       "4                                           Не пострадал   \n",
       "...                                                  ...   \n",
       "16652                                       Не пострадал   \n",
       "16653  Раненый, находящийся (находившийся) на амбулат...   \n",
       "16654  Раненый, находящийся (находившийся) на амбулат...   \n",
       "16655                                       Не пострадал   \n",
       "16656                                       Не пострадал   \n",
       "\n",
       "       years_of_driving_experience                         health_status_group  \n",
       "0                             20.0                                Не пострадал  \n",
       "1                             20.0                                Не пострадал  \n",
       "2                              NaN                                Не пострадал  \n",
       "3                              NaN                                Не пострадал  \n",
       "4                              6.0                                Не пострадал  \n",
       "...                            ...                                         ...  \n",
       "16652                          5.0                                Не пострадал  \n",
       "16653                          5.0  Раненый,рекомендовано амбулаторное лечение  \n",
       "16654                          5.0  Раненый,рекомендовано амбулаторное лечение  \n",
       "16655                          6.0                                Не пострадал  \n",
       "16656                          6.0                                Не пострадал  \n",
       "\n",
       "[16657 rows x 7 columns]"
      ]
     },
     "execution_count": 37,
     "metadata": {},
     "output_type": "execute_result"
    }
   ],
   "source": [
    "df_fp1_dup[df_fp1_dup['role'] == 'Водитель'].reset_index(drop = True)"
   ]
  },
  {
   "cell_type": "markdown",
   "id": "a697279c",
   "metadata": {},
   "source": [
    "Если смотреть по водителям это все- таки дубликаты.Удалим их."
   ]
  },
  {
   "cell_type": "code",
   "execution_count": 38,
   "id": "f1d811fb",
   "metadata": {},
   "outputs": [],
   "source": [
    "df_fp =df_fp.drop_duplicates()"
   ]
  },
  {
   "cell_type": "markdown",
   "id": "176e09f7",
   "metadata": {},
   "source": [
    "В столбце `violations`много интересной информации.Но пока оставим здесь все как есть.Но это самый тяжелый столбец.Возможно возникнут сложности с выгрузкой."
   ]
  },
  {
   "cell_type": "markdown",
   "id": "b236918e",
   "metadata": {},
   "source": [
    "#### `years_of_driving_experience`"
   ]
  },
  {
   "cell_type": "code",
   "execution_count": 39,
   "id": "1b30fc02",
   "metadata": {},
   "outputs": [
    {
     "data": {
      "text/html": [
       "<div>\n",
       "<style scoped>\n",
       "    .dataframe tbody tr th:only-of-type {\n",
       "        vertical-align: middle;\n",
       "    }\n",
       "\n",
       "    .dataframe tbody tr th {\n",
       "        vertical-align: top;\n",
       "    }\n",
       "\n",
       "    .dataframe thead th {\n",
       "        text-align: right;\n",
       "    }\n",
       "</style>\n",
       "<table border=\"1\" class=\"dataframe\">\n",
       "  <thead>\n",
       "    <tr style=\"text-align: right;\">\n",
       "      <th></th>\n",
       "      <th>years_of_driving_experience</th>\n",
       "      <th>proportion</th>\n",
       "    </tr>\n",
       "  </thead>\n",
       "  <tbody>\n",
       "    <tr>\n",
       "      <th>0</th>\n",
       "      <td>NaN</td>\n",
       "      <td>0.42</td>\n",
       "    </tr>\n",
       "    <tr>\n",
       "      <th>1</th>\n",
       "      <td>5.0</td>\n",
       "      <td>0.03</td>\n",
       "    </tr>\n",
       "    <tr>\n",
       "      <th>2</th>\n",
       "      <td>7.0</td>\n",
       "      <td>0.03</td>\n",
       "    </tr>\n",
       "    <tr>\n",
       "      <th>3</th>\n",
       "      <td>8.0</td>\n",
       "      <td>0.03</td>\n",
       "    </tr>\n",
       "    <tr>\n",
       "      <th>4</th>\n",
       "      <td>1.0</td>\n",
       "      <td>0.03</td>\n",
       "    </tr>\n",
       "    <tr>\n",
       "      <th>...</th>\n",
       "      <td>...</td>\n",
       "      <td>...</td>\n",
       "    </tr>\n",
       "    <tr>\n",
       "      <th>69</th>\n",
       "      <td>69.0</td>\n",
       "      <td>0.00</td>\n",
       "    </tr>\n",
       "    <tr>\n",
       "      <th>70</th>\n",
       "      <td>70.0</td>\n",
       "      <td>0.00</td>\n",
       "    </tr>\n",
       "    <tr>\n",
       "      <th>71</th>\n",
       "      <td>74.0</td>\n",
       "      <td>0.00</td>\n",
       "    </tr>\n",
       "    <tr>\n",
       "      <th>72</th>\n",
       "      <td>71.0</td>\n",
       "      <td>0.00</td>\n",
       "    </tr>\n",
       "    <tr>\n",
       "      <th>73</th>\n",
       "      <td>73.0</td>\n",
       "      <td>0.00</td>\n",
       "    </tr>\n",
       "  </tbody>\n",
       "</table>\n",
       "<p>74 rows × 2 columns</p>\n",
       "</div>"
      ],
      "text/plain": [
       "    years_of_driving_experience  proportion\n",
       "0                           NaN        0.42\n",
       "1                           5.0        0.03\n",
       "2                           7.0        0.03\n",
       "3                           8.0        0.03\n",
       "4                           1.0        0.03\n",
       "..                          ...         ...\n",
       "69                         69.0        0.00\n",
       "70                         70.0        0.00\n",
       "71                         74.0        0.00\n",
       "72                         71.0        0.00\n",
       "73                         73.0        0.00\n",
       "\n",
       "[74 rows x 2 columns]"
      ]
     },
     "execution_count": 39,
     "metadata": {},
     "output_type": "execute_result"
    }
   ],
   "source": [
    "df_fp.years_of_driving_experience.value_counts(dropna=False,normalize=True).reset_index().round(2)"
   ]
  },
  {
   "cell_type": "markdown",
   "id": "dec7d7fd",
   "metadata": {},
   "source": [
    "Этот признак только у водителей.Так что ничего странного, что у нас 42% пропусков."
   ]
  },
  {
   "cell_type": "code",
   "execution_count": 40,
   "id": "2f4acaff",
   "metadata": {},
   "outputs": [
    {
     "data": {
      "text/plain": [
       "count    1.931303e+06\n",
       "mean     1.475393e+01\n",
       "std      1.082550e+01\n",
       "min      1.000000e+00\n",
       "25%      6.000000e+00\n",
       "50%      1.200000e+01\n",
       "75%      2.100000e+01\n",
       "max      7.400000e+01\n",
       "Name: years_of_driving_experience, dtype: float64"
      ]
     },
     "execution_count": 40,
     "metadata": {},
     "output_type": "execute_result"
    }
   ],
   "source": [
    "df_fp.years_of_driving_experience.describe()"
   ]
  },
  {
   "cell_type": "markdown",
   "id": "89a3b5e0",
   "metadata": {},
   "source": [
    "стаж вождения от 1 до 74 лет."
   ]
  },
  {
   "cell_type": "code",
   "execution_count": 41,
   "id": "b5ef7498",
   "metadata": {
    "scrolled": false
   },
   "outputs": [
    {
     "data": {
      "image/png": "[encoded data removed]",
      "text/plain": [
       "<Figure size 1200x600 with 1 Axes>"
      ]
     },
     "metadata": {},
     "output_type": "display_data"
    }
   ],
   "source": [
    "driving_year = df_fp.groupby('years_of_driving_experience').size()\n",
    "\n",
    "plt.figure(figsize=(12, 6))\n",
    "driving_year.plot(kind='bar')\n",
    "plt.title('Распределение водителей по стажу вождения ', fontsize=16)\n",
    "plt.xlabel('Стаж', fontsize=12)\n",
    "plt.ylabel('Количество водителей', fontsize=12)\n",
    "plt.xticks(fontsize=7)\n",
    "plt.yticks(fontsize=10)\n",
    "plt.show()"
   ]
  },
  {
   "cell_type": "code",
   "execution_count": 42,
   "id": "dadae99c",
   "metadata": {},
   "outputs": [
    {
     "data": {
      "text/plain": [
       "46.0"
      ]
     },
     "execution_count": 42,
     "metadata": {},
     "output_type": "execute_result"
    }
   ],
   "source": [
    "df_fp['years_of_driving_experience'].quantile(0.99)"
   ]
  },
  {
   "cell_type": "markdown",
   "id": "e4a4f9f5",
   "metadata": {},
   "source": [
    "в 1% данных указан стаж свыш 46 лет.Это не критично.Но если учитывать этот параметр в рассмотрении гипотез можно будет отфильтровать."
   ]
  },
  {
   "cell_type": "markdown",
   "id": "157b1533",
   "metadata": {},
   "source": [
    "Добавим колонку с id внутри  ДТП"
   ]
  },
  {
   "cell_type": "code",
   "execution_count": 43,
   "id": "b01df4de",
   "metadata": {},
   "outputs": [],
   "source": [
    "df_fp['participants_id'] = df_fp.groupby('id').cumcount() + 1"
   ]
  },
  {
   "cell_type": "code",
   "execution_count": 44,
   "id": "3a41628e",
   "metadata": {},
   "outputs": [],
   "source": [
    "df_fp['participants_id'] = df_fp['participants_id'].astype('int8')"
   ]
  },
  {
   "cell_type": "code",
   "execution_count": 45,
   "id": "6bb9e9ca",
   "metadata": {},
   "outputs": [],
   "source": [
    "del df_fp1"
   ]
  },
  {
   "cell_type": "code",
   "execution_count": 46,
   "id": "89dc00df",
   "metadata": {
    "scrolled": true
   },
   "outputs": [
    {
     "data": {
      "text/html": [
       "<div>\n",
       "<style scoped>\n",
       "    .dataframe tbody tr th:only-of-type {\n",
       "        vertical-align: middle;\n",
       "    }\n",
       "\n",
       "    .dataframe tbody tr th {\n",
       "        vertical-align: top;\n",
       "    }\n",
       "\n",
       "    .dataframe thead th {\n",
       "        text-align: right;\n",
       "    }\n",
       "</style>\n",
       "<table border=\"1\" class=\"dataframe\">\n",
       "  <thead>\n",
       "    <tr style=\"text-align: right;\">\n",
       "      <th></th>\n",
       "      <th>id</th>\n",
       "      <th>role</th>\n",
       "      <th>gender</th>\n",
       "      <th>violations</th>\n",
       "      <th>health_status</th>\n",
       "      <th>years_of_driving_experience</th>\n",
       "      <th>health_status_group</th>\n",
       "      <th>participants_id</th>\n",
       "    </tr>\n",
       "  </thead>\n",
       "  <tbody>\n",
       "    <tr>\n",
       "      <th>0</th>\n",
       "      <td>2705425</td>\n",
       "      <td>Пассажир</td>\n",
       "      <td>Женский</td>\n",
       "      <td>[]</td>\n",
       "      <td>Раненый, находящийся (находившийся) на амбулат...</td>\n",
       "      <td>NaN</td>\n",
       "      <td>Раненый,рекомендовано амбулаторное лечение</td>\n",
       "      <td>1</td>\n",
       "    </tr>\n",
       "    <tr>\n",
       "      <th>1</th>\n",
       "      <td>2705425</td>\n",
       "      <td>Водитель</td>\n",
       "      <td>Мужской</td>\n",
       "      <td>['Неправильный выбор дистанции']</td>\n",
       "      <td>Не пострадал</td>\n",
       "      <td>40.0</td>\n",
       "      <td>Не пострадал</td>\n",
       "      <td>2</td>\n",
       "    </tr>\n",
       "    <tr>\n",
       "      <th>2</th>\n",
       "      <td>2705425</td>\n",
       "      <td>Водитель</td>\n",
       "      <td>Мужской</td>\n",
       "      <td>['Отсутствие у водителя документов, предусмотр...</td>\n",
       "      <td>Не пострадал</td>\n",
       "      <td>17.0</td>\n",
       "      <td>Не пострадал</td>\n",
       "      <td>3</td>\n",
       "    </tr>\n",
       "    <tr>\n",
       "      <th>3</th>\n",
       "      <td>2705910</td>\n",
       "      <td>Водитель</td>\n",
       "      <td>Мужской</td>\n",
       "      <td>['Несоблюдение бокового интервала', 'Оставлени...</td>\n",
       "      <td>Не пострадал</td>\n",
       "      <td>37.0</td>\n",
       "      <td>Не пострадал</td>\n",
       "      <td>1</td>\n",
       "    </tr>\n",
       "    <tr>\n",
       "      <th>4</th>\n",
       "      <td>2705936</td>\n",
       "      <td>Водитель</td>\n",
       "      <td>Мужской</td>\n",
       "      <td>['Выезд на полосу встречного движения', 'Отказ...</td>\n",
       "      <td>Раненый, находящийся (находившийся) на амбулат...</td>\n",
       "      <td>9.0</td>\n",
       "      <td>Раненый,рекомендовано амбулаторное лечение</td>\n",
       "      <td>1</td>\n",
       "    </tr>\n",
       "  </tbody>\n",
       "</table>\n",
       "</div>"
      ],
      "text/plain": [
       "        id      role   gender  \\\n",
       "0  2705425  Пассажир  Женский   \n",
       "1  2705425  Водитель  Мужской   \n",
       "2  2705425  Водитель  Мужской   \n",
       "3  2705910  Водитель  Мужской   \n",
       "4  2705936  Водитель  Мужской   \n",
       "\n",
       "                                          violations  \\\n",
       "0                                                 []   \n",
       "1                   ['Неправильный выбор дистанции']   \n",
       "2  ['Отсутствие у водителя документов, предусмотр...   \n",
       "3  ['Несоблюдение бокового интервала', 'Оставлени...   \n",
       "4  ['Выезд на полосу встречного движения', 'Отказ...   \n",
       "\n",
       "                                       health_status  \\\n",
       "0  Раненый, находящийся (находившийся) на амбулат...   \n",
       "1                                       Не пострадал   \n",
       "2                                       Не пострадал   \n",
       "3                                       Не пострадал   \n",
       "4  Раненый, находящийся (находившийся) на амбулат...   \n",
       "\n",
       "   years_of_driving_experience                         health_status_group  \\\n",
       "0                          NaN  Раненый,рекомендовано амбулаторное лечение   \n",
       "1                         40.0                                Не пострадал   \n",
       "2                         17.0                                Не пострадал   \n",
       "3                         37.0                                Не пострадал   \n",
       "4                          9.0  Раненый,рекомендовано амбулаторное лечение   \n",
       "\n",
       "   participants_id  \n",
       "0                1  \n",
       "1                2  \n",
       "2                3  \n",
       "3                1  \n",
       "4                1  "
      ]
     },
     "execution_count": 46,
     "metadata": {},
     "output_type": "execute_result"
    }
   ],
   "source": [
    "df_fp.head()"
   ]
  },
  {
   "cell_type": "code",
   "execution_count": 47,
   "id": "4191dda8",
   "metadata": {},
   "outputs": [
    {
     "data": {
      "text/plain": [
       "array([ 1,  2,  3,  4,  5,  6,  7,  8,  9, 10, 11, 12, 13, 14, 15, 16, 17,\n",
       "       18, 19, 20, 21, 22, 23, 24, 25, 26, 27, 28, 29, 30, 31, 32],\n",
       "      dtype=int8)"
      ]
     },
     "execution_count": 47,
     "metadata": {},
     "output_type": "execute_result"
    }
   ],
   "source": [
    "df_fp['participants_id'].unique()"
   ]
  },
  {
   "cell_type": "markdown",
   "id": "9a1e3449",
   "metadata": {},
   "source": [
    "Выгрузим данные для дальнейшей работы в Даталенс."
   ]
  },
  {
   "cell_type": "code",
   "execution_count": 48,
   "id": "2de6a02c",
   "metadata": {},
   "outputs": [],
   "source": [
    " df_fp1 = df_fp[['id','participants_id','role','gender','years_of_driving_experience']].reset_index(drop = True)"
   ]
  },
  {
   "cell_type": "code",
   "execution_count": 49,
   "id": "f01ae080",
   "metadata": {},
   "outputs": [
    {
     "name": "stdout",
     "output_type": "stream",
     "text": [
      "<class 'pandas.core.frame.DataFrame'>\n",
      "RangeIndex: 3338007 entries, 0 to 3338006\n",
      "Data columns (total 5 columns):\n",
      " #   Column                       Dtype  \n",
      "---  ------                       -----  \n",
      " 0   id                           int32  \n",
      " 1   participants_id              int8   \n",
      " 2   role                         object \n",
      " 3   gender                       object \n",
      " 4   years_of_driving_experience  float64\n",
      "dtypes: float64(1), int32(1), int8(1), object(2)\n",
      "memory usage: 92.3+ MB\n"
     ]
    }
   ],
   "source": [
    " df_fp1.info()"
   ]
  },
  {
   "cell_type": "code",
   "execution_count": 50,
   "id": "4f203e17",
   "metadata": {},
   "outputs": [],
   "source": [
    " df_fp1.to_csv('part_1.csv', index=False)"
   ]
  },
  {
   "cell_type": "code",
   "execution_count": 51,
   "id": "e573e898",
   "metadata": {},
   "outputs": [],
   "source": [
    "del df_fp1"
   ]
  },
  {
   "cell_type": "code",
   "execution_count": 52,
   "id": "ceacec81",
   "metadata": {},
   "outputs": [
    {
     "name": "stdout",
     "output_type": "stream",
     "text": [
      "<class 'pandas.core.frame.DataFrame'>\n",
      "RangeIndex: 3338007 entries, 0 to 3338006\n",
      "Data columns (total 3 columns):\n",
      " #   Column               Dtype \n",
      "---  ------               ----- \n",
      " 0   id                   int32 \n",
      " 1   participants_id      int8  \n",
      " 2   health_status_group  object\n",
      "dtypes: int32(1), int8(1), object(1)\n",
      "memory usage: 41.4+ MB\n"
     ]
    }
   ],
   "source": [
    "df_fp2 = df_fp[['id','participants_id','health_status_group']].reset_index(drop = True)\n",
    "df_fp2.info()"
   ]
  },
  {
   "cell_type": "code",
   "execution_count": 53,
   "id": "2ceb10ea",
   "metadata": {},
   "outputs": [],
   "source": [
    " df_fp2.to_csv('part_22.csv', index=False)"
   ]
  },
  {
   "cell_type": "code",
   "execution_count": 54,
   "id": "99b7f504",
   "metadata": {},
   "outputs": [],
   "source": [
    "del df_fp2 "
   ]
  },
  {
   "cell_type": "code",
   "execution_count": 55,
   "id": "92e883c7",
   "metadata": {},
   "outputs": [
    {
     "name": "stdout",
     "output_type": "stream",
     "text": [
      "<class 'pandas.core.frame.DataFrame'>\n",
      "RangeIndex: 3338007 entries, 0 to 3338006\n",
      "Data columns (total 3 columns):\n",
      " #   Column           Dtype \n",
      "---  ------           ----- \n",
      " 0   id               int32 \n",
      " 1   participants_id  int8  \n",
      " 2   violations       object\n",
      "dtypes: int32(1), int8(1), object(1)\n",
      "memory usage: 41.4+ MB\n"
     ]
    }
   ],
   "source": [
    "df_fp3 = df_fp[['id','participants_id','violations']].reset_index(drop = True)\n",
    "df_fp3.info()"
   ]
  },
  {
   "cell_type": "code",
   "execution_count": 56,
   "id": "16d0e171",
   "metadata": {},
   "outputs": [],
   "source": [
    "df_fp3.to_csv('part_3.csv', index=False)"
   ]
  },
  {
   "cell_type": "code",
   "execution_count": 57,
   "id": "6c4b6d68",
   "metadata": {},
   "outputs": [],
   "source": [
    "del df_fp3 "
   ]
  },
  {
   "cell_type": "markdown",
   "id": "caadec01",
   "metadata": {},
   "source": [
    "объем файла 284 Мб.Даталенс не потянет."
   ]
  },
  {
   "cell_type": "markdown",
   "id": "7c786e20",
   "metadata": {},
   "source": [
    "Посмотрим вариант разделить по признаку Водитель"
   ]
  },
  {
   "cell_type": "code",
   "execution_count": 58,
   "id": "5ca1ab1a",
   "metadata": {},
   "outputs": [],
   "source": [
    "df_fp_1role = df_fp[df_fp['role'] == 'Водитель'].reset_index(drop = True)"
   ]
  },
  {
   "cell_type": "code",
   "execution_count": 59,
   "id": "e513f6f5",
   "metadata": {},
   "outputs": [],
   "source": [
    "df_fp31 = df_fp_1role[['id','participants_id','violations']].reset_index(drop = True)"
   ]
  },
  {
   "cell_type": "code",
   "execution_count": 60,
   "id": "357bd2b0",
   "metadata": {
    "scrolled": true
   },
   "outputs": [
    {
     "name": "stdout",
     "output_type": "stream",
     "text": [
      "<class 'pandas.core.frame.DataFrame'>\n",
      "RangeIndex: 2170596 entries, 0 to 2170595\n",
      "Data columns (total 3 columns):\n",
      " #   Column           Dtype \n",
      "---  ------           ----- \n",
      " 0   id               int32 \n",
      " 1   participants_id  int8  \n",
      " 2   violations       object\n",
      "dtypes: int32(1), int8(1), object(1)\n",
      "memory usage: 26.9+ MB\n"
     ]
    }
   ],
   "source": [
    "df_fp31.info()"
   ]
  },
  {
   "cell_type": "code",
   "execution_count": 61,
   "id": "2ae58e50",
   "metadata": {},
   "outputs": [
    {
     "data": {
      "text/plain": [
       "Index                   132\n",
       "id                  8682384\n",
       "participants_id     2170596\n",
       "violations         17364768\n",
       "dtype: int64"
      ]
     },
     "execution_count": 61,
     "metadata": {},
     "output_type": "execute_result"
    }
   ],
   "source": [
    "df_fp31.memory_usage()"
   ]
  },
  {
   "cell_type": "code",
   "execution_count": 62,
   "id": "42fe940b",
   "metadata": {},
   "outputs": [],
   "source": [
    "df_fp31.to_csv('part_31.csv', index=False)\n"
   ]
  },
  {
   "cell_type": "code",
   "execution_count": 63,
   "id": "3b86c201",
   "metadata": {},
   "outputs": [],
   "source": [
    "del df_fp31"
   ]
  },
  {
   "cell_type": "markdown",
   "id": "a7750f68",
   "metadata": {},
   "source": [
    "Тоже тяжелый.Разобьем по-другому."
   ]
  },
  {
   "cell_type": "code",
   "execution_count": 64,
   "id": "070110a2",
   "metadata": {},
   "outputs": [
    {
     "data": {
      "text/plain": [
       "0                                                 не указано\n",
       "1                               Неправильный выбор дистанции\n",
       "2          Отсутствие у водителя документов, предусмотрен...\n",
       "3          Несоблюдение бокового интервала, Оставление ме...\n",
       "4          Выезд на полосу встречного движения, Отказ вод...\n",
       "                                 ...                        \n",
       "3478166                                           не указано\n",
       "3478167                                           не указано\n",
       "3478168    Иные нарушения, Движение вдоль проезжей части ...\n",
       "3478169                                           не указано\n",
       "3478170    Переход через проезжую часть вне пешеходного п...\n",
       "Name: violations, Length: 3338007, dtype: object"
      ]
     },
     "execution_count": 64,
     "metadata": {},
     "output_type": "execute_result"
    }
   ],
   "source": [
    "import ast\n",
    "\n",
    "# Преобразовать строковое представление списка в тип списка\n",
    "df_fp['violations'] = df_fp['violations'].apply(lambda x: ast.literal_eval(x) if len(x) > 0 else [])\n",
    "\n",
    "\n",
    "# Объединить элементы в каждой строке списка в одну строку\n",
    "df_fp['violations'] = df_fp['violations'].apply(lambda x: 'не указано' if len(x) == 0 else ', '.join(x))\n",
    "\n",
    "# Вывести DataFrame без списковых обозначений []\n",
    "df_fp['violations']"
   ]
  },
  {
   "cell_type": "code",
   "execution_count": 65,
   "id": "657eb0eb",
   "metadata": {},
   "outputs": [
    {
     "data": {
      "text/html": [
       "<div>\n",
       "<style scoped>\n",
       "    .dataframe tbody tr th:only-of-type {\n",
       "        vertical-align: middle;\n",
       "    }\n",
       "\n",
       "    .dataframe tbody tr th {\n",
       "        vertical-align: top;\n",
       "    }\n",
       "\n",
       "    .dataframe thead th {\n",
       "        text-align: right;\n",
       "    }\n",
       "</style>\n",
       "<table border=\"1\" class=\"dataframe\">\n",
       "  <thead>\n",
       "    <tr style=\"text-align: right;\">\n",
       "      <th></th>\n",
       "      <th>violations</th>\n",
       "      <th>count</th>\n",
       "    </tr>\n",
       "  </thead>\n",
       "  <tbody>\n",
       "    <tr>\n",
       "      <th>0</th>\n",
       "      <td>не указано</td>\n",
       "      <td>1653183</td>\n",
       "    </tr>\n",
       "    <tr>\n",
       "      <th>1</th>\n",
       "      <td>Несоблюдение очередности проезда</td>\n",
       "      <td>130717</td>\n",
       "    </tr>\n",
       "    <tr>\n",
       "      <th>2</th>\n",
       "      <td>Другие нарушения ПДД водителем</td>\n",
       "      <td>86464</td>\n",
       "    </tr>\n",
       "    <tr>\n",
       "      <th>3</th>\n",
       "      <td>Неправильный выбор дистанции</td>\n",
       "      <td>86140</td>\n",
       "    </tr>\n",
       "    <tr>\n",
       "      <th>4</th>\n",
       "      <td>Нарушение правил проезда пешеходного перехода</td>\n",
       "      <td>78980</td>\n",
       "    </tr>\n",
       "    <tr>\n",
       "      <th>5</th>\n",
       "      <td>Несоответствие скорости конкретным условиям дв...</td>\n",
       "      <td>68461</td>\n",
       "    </tr>\n",
       "    <tr>\n",
       "      <th>6</th>\n",
       "      <td>Несоблюдение требований ОСАГО</td>\n",
       "      <td>61871</td>\n",
       "    </tr>\n",
       "    <tr>\n",
       "      <th>7</th>\n",
       "      <td>Нарушение правил расположения ТС на проезжей ч...</td>\n",
       "      <td>53021</td>\n",
       "    </tr>\n",
       "    <tr>\n",
       "      <th>8</th>\n",
       "      <td>Переход через проезжую часть вне пешеходного п...</td>\n",
       "      <td>50736</td>\n",
       "    </tr>\n",
       "    <tr>\n",
       "      <th>9</th>\n",
       "      <td>Несоблюдение очередности проезда перекрестков</td>\n",
       "      <td>41738</td>\n",
       "    </tr>\n",
       "    <tr>\n",
       "      <th>10</th>\n",
       "      <td>Выезд на полосу встречного движения</td>\n",
       "      <td>40742</td>\n",
       "    </tr>\n",
       "    <tr>\n",
       "      <th>11</th>\n",
       "      <td>Нарушение правил применения ремней безопасност...</td>\n",
       "      <td>34622</td>\n",
       "    </tr>\n",
       "    <tr>\n",
       "      <th>12</th>\n",
       "      <td>Иные нарушения</td>\n",
       "      <td>26477</td>\n",
       "    </tr>\n",
       "    <tr>\n",
       "      <th>13</th>\n",
       "      <td>Переход через проезжую часть в неустановленном...</td>\n",
       "      <td>25017</td>\n",
       "    </tr>\n",
       "    <tr>\n",
       "      <th>14</th>\n",
       "      <td>Нарушение правил перестроения</td>\n",
       "      <td>24215</td>\n",
       "    </tr>\n",
       "  </tbody>\n",
       "</table>\n",
       "</div>"
      ],
      "text/plain": [
       "                                           violations    count\n",
       "0                                          не указано  1653183\n",
       "1                    Несоблюдение очередности проезда   130717\n",
       "2                      Другие нарушения ПДД водителем    86464\n",
       "3                        Неправильный выбор дистанции    86140\n",
       "4       Нарушение правил проезда пешеходного перехода    78980\n",
       "5   Несоответствие скорости конкретным условиям дв...    68461\n",
       "6                       Несоблюдение требований ОСАГО    61871\n",
       "7   Нарушение правил расположения ТС на проезжей ч...    53021\n",
       "8   Переход через проезжую часть вне пешеходного п...    50736\n",
       "9       Несоблюдение очередности проезда перекрестков    41738\n",
       "10                Выезд на полосу встречного движения    40742\n",
       "11  Нарушение правил применения ремней безопасност...    34622\n",
       "12                                     Иные нарушения    26477\n",
       "13  Переход через проезжую часть в неустановленном...    25017\n",
       "14                      Нарушение правил перестроения    24215"
      ]
     },
     "execution_count": 65,
     "metadata": {},
     "output_type": "execute_result"
    }
   ],
   "source": [
    "df_fp['violations'].value_counts(dropna=False).reset_index().head(15)"
   ]
  },
  {
   "cell_type": "code",
   "execution_count": 66,
   "id": "a3e8e048",
   "metadata": {},
   "outputs": [],
   "source": [
    "df_fp_1health = df_fp[df_fp['health_status_group'] == 'Не пострадал'].reset_index(drop = True)"
   ]
  },
  {
   "cell_type": "code",
   "execution_count": 67,
   "id": "fe994faf",
   "metadata": {},
   "outputs": [
    {
     "name": "stdout",
     "output_type": "stream",
     "text": [
      "<class 'pandas.core.frame.DataFrame'>\n",
      "RangeIndex: 1445661 entries, 0 to 1445660\n",
      "Data columns (total 3 columns):\n",
      " #   Column           Non-Null Count    Dtype \n",
      "---  ------           --------------    ----- \n",
      " 0   id               1445661 non-null  int32 \n",
      " 1   participants_id  1445661 non-null  int8  \n",
      " 2   violations       1445661 non-null  object\n",
      "dtypes: int32(1), int8(1), object(1)\n",
      "memory usage: 17.9+ MB\n"
     ]
    }
   ],
   "source": [
    "df_fp31 = df_fp_1health[['id','participants_id','violations']].reset_index(drop = True)\n",
    "df_fp31.info()"
   ]
  },
  {
   "cell_type": "code",
   "execution_count": 68,
   "id": "3a3e407e",
   "metadata": {},
   "outputs": [],
   "source": [
    "df_fp_2health = df_fp[df_fp['health_status_group'] != 'Не пострадал'].reset_index(drop = True)"
   ]
  },
  {
   "cell_type": "code",
   "execution_count": 69,
   "id": "9fa76779",
   "metadata": {},
   "outputs": [
    {
     "name": "stdout",
     "output_type": "stream",
     "text": [
      "<class 'pandas.core.frame.DataFrame'>\n",
      "RangeIndex: 1892346 entries, 0 to 1892345\n",
      "Data columns (total 3 columns):\n",
      " #   Column           Dtype \n",
      "---  ------           ----- \n",
      " 0   id               int32 \n",
      " 1   participants_id  int8  \n",
      " 2   violations       object\n",
      "dtypes: int32(1), int8(1), object(1)\n",
      "memory usage: 23.5+ MB\n"
     ]
    }
   ],
   "source": [
    "df_fp32 = df_fp_2health[['id','participants_id','violations']].reset_index(drop = True)\n",
    "df_fp32.info()"
   ]
  },
  {
   "cell_type": "code",
   "execution_count": 70,
   "id": "31e7c30a",
   "metadata": {},
   "outputs": [],
   "source": [
    "df_fp31.to_csv('part_31n.csv', index=False)"
   ]
  },
  {
   "cell_type": "code",
   "execution_count": 71,
   "id": "653ea393",
   "metadata": {},
   "outputs": [],
   "source": [
    "df_fp32.to_csv('part_32p.csv', index=False)"
   ]
  },
  {
   "cell_type": "markdown",
   "id": "86d36ab1",
   "metadata": {},
   "source": [
    "Оставим такие файлы для даталенс.Однако там есть проблема с объединением данных по сотлбцов violations(не сильно важно,но..)"
   ]
  },
  {
   "cell_type": "code",
   "execution_count": 72,
   "id": "44354ea6",
   "metadata": {},
   "outputs": [],
   "source": [
    "del df_fp31\n",
    "del df_fp32"
   ]
  },
  {
   "cell_type": "markdown",
   "id": "7247987e",
   "metadata": {},
   "source": [
    "Попробуем укрупнить категории для этого столбца"
   ]
  },
  {
   "cell_type": "code",
   "execution_count": 73,
   "id": "72f0ec14",
   "metadata": {},
   "outputs": [
    {
     "data": {
      "text/plain": [
       "array([nan, 'Неправильный выбор дистанции',\n",
       "       'Отсутствие у водителя документов, предусмотренных законодательными и иными НПА',\n",
       "       'Несоблюдение бокового интервала', 'Оставление места ДТП',\n",
       "       'Несоблюдение требований ОСАГО',\n",
       "       'Выезд на полосу встречного движения',\n",
       "       'Отказ водителя от прохождения медицинского освидетельствования на состояние опьянения',\n",
       "       'Нарушение правил расположения ТС на проезжей части',\n",
       "       'Несоблюдение условий, разрешающих движение транспорта задним ходом',\n",
       "       'Выезд на полосу встречного движения в местах, где это запрещено',\n",
       "       'Нарушение водителем правил применения ремней безопасности (ставится в случае, когда не пристегнут водитель)',\n",
       "       'Другие нарушения ПДД водителем',\n",
       "       'Нарушение водителем правил применения ремней безопасности (ставится в случае, когда не пристегнут пассажир)',\n",
       "       'Нарушение правил применения ремней безопасности пассажиром',\n",
       "       'Управление ТС в состоянии алкогольного опьянения',\n",
       "       'Эксплуатация ТС с техническими неисправностями, при которых запрещается их эксплуатация',\n",
       "       'Несоблюдение очередности проезда',\n",
       "       'Несоответствие скорости конкретным условиям движения',\n",
       "       'Нарушение правил проезда пешеходного перехода',\n",
       "       'Управление ТС лицом, не имеющим права на управление ТС',\n",
       "       'Эксплуатация незарегистрированного ТС',\n",
       "       'Несоблюдение очередности проезда перекрестков',\n",
       "       'Нарушение правил применения мотошлема',\n",
       "       'Другие нарушения ПДД водителями (не применяется с 12.2020)',\n",
       "       'Управление ТС лицом, лишенным права управления',\n",
       "       'Управление ТС в состоянии наркотического опьянения',\n",
       "       'Управление транспортным средством при наличии неисправностей или условий, при которых эксплуатация транспортного средства запрещена',\n",
       "       'Нарушение правил перевозки детей (не использование детских сидений либо удерживающих устройств)',\n",
       "       'Нарушение правил перестроения',\n",
       "       'Нарушение правил погрузки, выгрузки и крепления грузов',\n",
       "       'Нарушение\\xa0правил\\xa0движения тяжеловесного и(или) крупногабаритного ТС(превышение допустимых габаритов ТС, превышением допустимой массы ТС или допустимой нагрузки на ось ТС)',\n",
       "       'Нарушение правил движения тяжеловесного и(или) крупногабаритного ТС(превышение допустимых габаритов ТС, превышением допустимой массы ТС или допустимой нагрузки на ось ТС)',\n",
       "       'Нарушение правил обгона', 'Нарушение правил перевозки людей',\n",
       "       'Пересечение велосипедистом проезжей части по пешеходному переходу',\n",
       "       'Нарушение требований сигналов светофора',\n",
       "       'Непредоставление преимущества в движении пешеходу',\n",
       "       'Невыполнение требований обеспечения безопасности при начале движения',\n",
       "       'Управление ТС лицом, находящимся в состоянии алкогольного опьянения и не имеющим права управления ТС либо лишенным права управления ТС',\n",
       "       'Управление ТС лицом, не имеющим соответствующей категории на управление ТС данного вида',\n",
       "       'Употребление водителем алкогольных напитков, наркотических, психотропных или иных одурманивающих веществ после дорожно-транспортного происшествия, к которому он причастен, до проведения освидетельствования с целью установления состояния опьянения или до принятия решения об освобождении от проведения такого освидетельствовани',\n",
       "       'Нарушение правил применения мотошлема пассажиром',\n",
       "       'Эксплуатация технически неисправного ТС (проставляется в случае ДТП по причине технеисправности)',\n",
       "       'Управление ТС лицом, находящимся в состоянии алкогольного опьянения и не имеющим права управления ТС либо лишенным права управления ТС (не применяется с 12.2020)',\n",
       "       'Неповиновение или сопротивление находящемуся при исполнении служебных обязанностей сотруднику правоохранительных органов или военнослужащему при остановке или задержании ТС',\n",
       "       'Светопропускание стекол менее нормативного',\n",
       "       'Отказ водителя, не имеющего права управления ТС либо лишенного права управления ТС от прохождении медицинского освидетельствования на состояние опьянения',\n",
       "       'Нарушение правил перевозки крупногабаритных и тяжеловесных грузов',\n",
       "       'Нарушение режима труда и отдыха водителя',\n",
       "       'Выезд на полосу встречного движения с разворотом, поворотом налево или объездом препятствия',\n",
       "       'Нарушение правил пользования внешними световыми приборами',\n",
       "       'Отказ водителя, не имеющего права управления ТС либо лишенного права управления ТС, от прохождения медицинского освидетельствования на состояние опьянения (не применяется с 12.2020)',\n",
       "       'Нарушение правил остановки и стоянки',\n",
       "       'Нарушение требований линий разметки',\n",
       "       'Управление мопедом лицом моложе 16 лет',\n",
       "       'Превышение установленной скорости движения', 'Иные нарушения',\n",
       "       'Управление в состоянии переутомления, сон за рулём',\n",
       "       'Нарушение требований дорожных знаков',\n",
       "       'Управление ТС лицом, находящимся в состоянии наркотического опьянения и не имеющим права управления ТС либо лишенным права управления ТС',\n",
       "       'Оставление движущегося транспортного средства (выход или выпрыгивание на ходу и т.д.)',\n",
       "       'Неподача или неправильная подача сигналов поворота',\n",
       "       'Управление велосипедом, не оснащённым светоотражающими элементами',\n",
       "       'Управление при движении по автодороге велосипедом, гужевой повозкой лицом моложе 14 лет',\n",
       "       'Разворот в местах, где разворот запрещён',\n",
       "       'Неподача или неправильная подача сигналов',\n",
       "       'Непредоставление преимущества в движении ТС, имеющему нанесенные на наружные поверхности специальные цветографические схемы, надписи и обозначения, с одновременно включённым проблесковым маячком синего цвета и специальным звуковым сигналом',\n",
       "       'Управление ТС в состоянии нетрудоспособности (болезни)',\n",
       "       'Нарушение правил проезда ж/д переездов',\n",
       "       'Нарушение требований сигналов регулировщика',\n",
       "       'Управление ТС лицом, находящимся в состоянии наркотического опьянения и не имеющим права управления ТС либо лишенным права управления ТС (не применяется с 12.2020)',\n",
       "       'Движение во встречном направлении по дороге с односторонним движением',\n",
       "       'Нарушение правил при круговом движении',\n",
       "       'Нарушение правил буксировки',\n",
       "       'Стоянка на проезжей части или обочине без освещения',\n",
       "       'Ослепление светом фар',\n",
       "       'Управление ТС без очков (контактных линз) в случае, когда их использование водителем обязательно',\n",
       "       'Нарушение правил учебной езды',\n",
       "       'Нарушение правил перевозки опасных грузов',\n",
       "       'Передача управления ТС лицу, находящемуся в состоянии опьянения',\n",
       "       'Управление велосипедом с неисправной тормозной системой',\n",
       "       'Пользование мобильной связью во время управления автомобилем',\n",
       "       'Создание помех для водителя в управлении транспортным средством',\n",
       "       'Нарушение правил пользования общественным транспортом',\n",
       "       'Пешеход в состоянии алкогольного опьянения', 'Опасное вождение',\n",
       "       'Нарушение правил проезда остановок трамвая',\n",
       "       'Переход через проезжую часть вне пешеходного перехода в зоне его видимости либо при наличии в непосредственной близости подземного (надземного) пешеходного перехода',\n",
       "       'Неожиданный выход из-за сооружений (деревьев)',\n",
       "       'Переход через проезжую часть в неустановленном месте (при наличии в зоне видимости перекрёстка)',\n",
       "       'Нахождение на проезжей части без цели её перехода',\n",
       "       'Неподчинение сигналам регулирования',\n",
       "       'Переход проезжей части в запрещённом месте (оборудованном пешеходными  ограждениями)',\n",
       "       'Ходьба вдоль проезжей части попутного направления вне населенного пункта при удовлетворительном состоянии обочины',\n",
       "       'Движение вдоль проезжей части попутного направления вне населенного пункта при удовлетворительном состоянии обочины',\n",
       "       'Отсутствие световозвращающих элементов',\n",
       "       'Неожиданный выход из-за стоящего ТС',\n",
       "       'Движение вдоль проезжей части при наличии и удовлетворительном состоянии тротуара',\n",
       "       'Неожиданный выход из-за ТС',\n",
       "       'Пешеход в возрасте до 7 лет без взрослого',\n",
       "       'Ходьба вдоль проезжей части при наличии и удовлетворительном состоянии тротуара',\n",
       "       'Передвижение по проезжей части на скейтборде (роликовых коньках и т.д.)',\n",
       "       'Игра на проезжей части',\n",
       "       'Пешеход в состоянии наркотического опьянения',\n",
       "       'Ожидание маршрутного ТС на проезжей части, вне посадочных площадок, тротуаров и обочин (при их наличии)',\n",
       "       'Незаконное нанесение специальных цветографических схем автомобилей оперативных служб',\n",
       "       'Переход проезжей части перед приближающимся ТС с включёнными проблесковым маячком синего (сине-красного) цвета и звуковым сигналом',\n",
       "       'Нарушение правил движения в жилых зонах',\n",
       "       'Неожиданный выход из-за сооружений (деревьев) ',\n",
       "       'Выезд на трамвайные пути встречного направления',\n",
       "       'Пользование во время движения незаконно установленными устройствами для подачи специальных световых и звуковых сигналов'],\n",
       "      dtype=object)"
      ]
     },
     "execution_count": 73,
     "metadata": {},
     "output_type": "execute_result"
    }
   ],
   "source": [
    "list_vio"
   ]
  },
  {
   "cell_type": "code",
   "execution_count": 75,
   "id": "4c9444a1",
   "metadata": {},
   "outputs": [
    {
     "data": {
      "text/plain": [
       "112"
      ]
     },
     "execution_count": 75,
     "metadata": {},
     "output_type": "execute_result"
    }
   ],
   "source": [
    "len(list_vio)"
   ]
  },
  {
   "cell_type": "code",
   "execution_count": 76,
   "id": "fd60301e",
   "metadata": {},
   "outputs": [],
   "source": [
    "def categorize_violations(row):\n",
    "    if 'не указано' in row :\n",
    "        return 'не указано' \n",
    "    elif 'опьянения' in row:\n",
    "        return 'Опьяненение'\n",
    "    elif 'на стационарном лечении' in row:\n",
    "        return 'Раненый,на стационарном лечении'\n",
    "    \n",
    "    elif 'дистанцией' in row or 'бокового интервала' in row or 'ТС на проезжей части' in row or 'разрешающих движение' in row or 'проезда' in row:\n",
    "        return 'Нарушения, связанные с дистанцией'\n",
    "        \n",
    "    elif 'Другие нарушения ПДД водителем' in row:\n",
    "        return 'Другие нарушения ПДД водителем' \n",
    "    \n",
    "    elif 'ремней безопасности' in row :\n",
    "        return 'Не пристегнуты РБ'\n",
    "    elif 'ОСАГО' in row or 'докумен'in row:\n",
    "        return 'Проблемы со страховкой и документами'\n",
    "    elif 'скорос' in row:\n",
    "        return 'Превышение скорости'\n",
    "\n",
    "    elif 'вело' in row:\n",
    "        return 'Нарушения с участием велосипедистов'\n",
    "   \n",
    "    elif 'мото' in row:\n",
    "        return 'Нарушения с участием мотоциклов' \n",
    "    elif 'встречн' in row:\n",
    "        return 'Выезд на встречную полосу' \n",
    "    elif 'Пешеход в возрасте до 7 лет без взрослого'in row:\n",
    "         return 'Пешеход в возрасте до 7 лет без взрослого'\n",
    "    elif'пешеходн' in row:\n",
    "        return 'Нарушения на пешеходном переходе'     \n",
    "    elif 'Игра на проезжей части' in row or 'скейтборд'in row:\n",
    "        return 'Игра на проезжей части'\n",
    "    elif 'неожиданн' in row or 'проезж'in row:\n",
    "        return 'Неожиданное появление пешехода на проезжей части'\n",
    "    else:\n",
    "        return 'Порочие нарушения'"
   ]
  },
  {
   "cell_type": "code",
   "execution_count": 77,
   "id": "1b9fd29d",
   "metadata": {},
   "outputs": [],
   "source": [
    "df_fp['violations_group'] = df_fp['violations'].apply(categorize_violations)\n"
   ]
  },
  {
   "cell_type": "code",
   "execution_count": 78,
   "id": "ff770297",
   "metadata": {},
   "outputs": [
    {
     "data": {
      "text/html": [
       "<div>\n",
       "<style scoped>\n",
       "    .dataframe tbody tr th:only-of-type {\n",
       "        vertical-align: middle;\n",
       "    }\n",
       "\n",
       "    .dataframe tbody tr th {\n",
       "        vertical-align: top;\n",
       "    }\n",
       "\n",
       "    .dataframe thead th {\n",
       "        text-align: right;\n",
       "    }\n",
       "</style>\n",
       "<table border=\"1\" class=\"dataframe\">\n",
       "  <thead>\n",
       "    <tr style=\"text-align: right;\">\n",
       "      <th></th>\n",
       "      <th>violations_group</th>\n",
       "      <th>count</th>\n",
       "    </tr>\n",
       "  </thead>\n",
       "  <tbody>\n",
       "    <tr>\n",
       "      <th>0</th>\n",
       "      <td>не указано</td>\n",
       "      <td>1653183</td>\n",
       "    </tr>\n",
       "    <tr>\n",
       "      <th>1</th>\n",
       "      <td>Нарушения, связанные с дистанцией</td>\n",
       "      <td>518237</td>\n",
       "    </tr>\n",
       "    <tr>\n",
       "      <th>2</th>\n",
       "      <td>Порочие нарушения</td>\n",
       "      <td>304945</td>\n",
       "    </tr>\n",
       "    <tr>\n",
       "      <th>3</th>\n",
       "      <td>Опьяненение</td>\n",
       "      <td>192725</td>\n",
       "    </tr>\n",
       "    <tr>\n",
       "      <th>4</th>\n",
       "      <td>Другие нарушения ПДД водителем</td>\n",
       "      <td>166313</td>\n",
       "    </tr>\n",
       "    <tr>\n",
       "      <th>5</th>\n",
       "      <td>Проблемы со страховкой и документами</td>\n",
       "      <td>132352</td>\n",
       "    </tr>\n",
       "    <tr>\n",
       "      <th>6</th>\n",
       "      <td>Превышение скорости</td>\n",
       "      <td>113260</td>\n",
       "    </tr>\n",
       "    <tr>\n",
       "      <th>7</th>\n",
       "      <td>Выезд на встречную полосу</td>\n",
       "      <td>63325</td>\n",
       "    </tr>\n",
       "    <tr>\n",
       "      <th>8</th>\n",
       "      <td>Не пристегнуты РБ</td>\n",
       "      <td>61009</td>\n",
       "    </tr>\n",
       "    <tr>\n",
       "      <th>9</th>\n",
       "      <td>Нарушения на пешеходном переходе</td>\n",
       "      <td>57944</td>\n",
       "    </tr>\n",
       "    <tr>\n",
       "      <th>10</th>\n",
       "      <td>Неожиданное появление пешехода на проезжей части</td>\n",
       "      <td>52561</td>\n",
       "    </tr>\n",
       "    <tr>\n",
       "      <th>11</th>\n",
       "      <td>Нарушения с участием мотоциклов</td>\n",
       "      <td>11733</td>\n",
       "    </tr>\n",
       "    <tr>\n",
       "      <th>12</th>\n",
       "      <td>Нарушения с участием велосипедистов</td>\n",
       "      <td>7694</td>\n",
       "    </tr>\n",
       "    <tr>\n",
       "      <th>13</th>\n",
       "      <td>Игра на проезжей части</td>\n",
       "      <td>1826</td>\n",
       "    </tr>\n",
       "    <tr>\n",
       "      <th>14</th>\n",
       "      <td>Пешеход в возрасте до 7 лет без взрослого</td>\n",
       "      <td>900</td>\n",
       "    </tr>\n",
       "  </tbody>\n",
       "</table>\n",
       "</div>"
      ],
      "text/plain": [
       "                                    violations_group    count\n",
       "0                                         не указано  1653183\n",
       "1                  Нарушения, связанные с дистанцией   518237\n",
       "2                                  Порочие нарушения   304945\n",
       "3                                        Опьяненение   192725\n",
       "4                     Другие нарушения ПДД водителем   166313\n",
       "5               Проблемы со страховкой и документами   132352\n",
       "6                                Превышение скорости   113260\n",
       "7                          Выезд на встречную полосу    63325\n",
       "8                                  Не пристегнуты РБ    61009\n",
       "9                   Нарушения на пешеходном переходе    57944\n",
       "10  Неожиданное появление пешехода на проезжей части    52561\n",
       "11                   Нарушения с участием мотоциклов    11733\n",
       "12               Нарушения с участием велосипедистов     7694\n",
       "13                            Игра на проезжей части     1826\n",
       "14         Пешеход в возрасте до 7 лет без взрослого      900"
      ]
     },
     "execution_count": 78,
     "metadata": {},
     "output_type": "execute_result"
    }
   ],
   "source": [
    "df_fp['violations_group'].value_counts(dropna=False).reset_index()"
   ]
  },
  {
   "cell_type": "code",
   "execution_count": 79,
   "id": "4e7a493c",
   "metadata": {},
   "outputs": [
    {
     "data": {
      "text/plain": [
       "3338007"
      ]
     },
     "execution_count": 79,
     "metadata": {},
     "output_type": "execute_result"
    }
   ],
   "source": [
    "df_fp['violations_group'].count()"
   ]
  },
  {
   "cell_type": "code",
   "execution_count": 80,
   "id": "73e2e00b",
   "metadata": {},
   "outputs": [],
   "source": [
    "df_fp33 = df_fp[['id','participants_id','violations_group']].reset_index(drop = True)"
   ]
  },
  {
   "cell_type": "code",
   "execution_count": 81,
   "id": "ddf4ff5f",
   "metadata": {},
   "outputs": [
    {
     "name": "stdout",
     "output_type": "stream",
     "text": [
      "<class 'pandas.core.frame.DataFrame'>\n",
      "RangeIndex: 3338007 entries, 0 to 3338006\n",
      "Data columns (total 3 columns):\n",
      " #   Column            Dtype \n",
      "---  ------            ----- \n",
      " 0   id                int32 \n",
      " 1   participants_id   int8  \n",
      " 2   violations_group  object\n",
      "dtypes: int32(1), int8(1), object(1)\n",
      "memory usage: 41.4+ MB\n"
     ]
    }
   ],
   "source": [
    "df_fp33.info()"
   ]
  },
  {
   "cell_type": "code",
   "execution_count": 82,
   "id": "ccc472a2",
   "metadata": {},
   "outputs": [
    {
     "data": {
      "text/plain": [
       "Index                    132\n",
       "id                  13352028\n",
       "participants_id      3338007\n",
       "violations_group    26704056\n",
       "dtype: int64"
      ]
     },
     "execution_count": 82,
     "metadata": {},
     "output_type": "execute_result"
    }
   ],
   "source": [
    "df_fp33.memory_usage()"
   ]
  },
  {
   "cell_type": "code",
   "execution_count": 83,
   "id": "93eb90a8",
   "metadata": {},
   "outputs": [],
   "source": [
    " df_fp33.to_csv('part_33.csv', index=False)"
   ]
  },
  {
   "cell_type": "code",
   "execution_count": 84,
   "id": "df535920",
   "metadata": {},
   "outputs": [],
   "source": [
    "del  df_fp33"
   ]
  },
  {
   "cell_type": "code",
   "execution_count": 85,
   "id": "ec0a77a4",
   "metadata": {},
   "outputs": [],
   "source": [
    "del  df_fp"
   ]
  },
  {
   "cell_type": "markdown",
   "id": "f7a7e7aa",
   "metadata": {},
   "source": [
    "## Исследовательский анализ данных"
   ]
  },
  {
   "cell_type": "markdown",
   "id": "2c3888aa",
   "metadata": {},
   "source": [
    "Часть исследовательского анализа мы провели на этапе предобработки.Однако можно посмотреть проверить еще некоторые предположения."
   ]
  },
  {
   "cell_type": "markdown",
   "id": "f006c6e7",
   "metadata": {},
   "source": [
    "### Старые автомобили чаще попадают в ДТП?"
   ]
  },
  {
   "cell_type": "markdown",
   "id": "4f18d397",
   "metadata": {},
   "source": [
    "Выгрузим еще раз обработанный датафрейм с машинами."
   ]
  },
  {
   "cell_type": "code",
   "execution_count": 86,
   "id": "75c46b1f",
   "metadata": {},
   "outputs": [],
   "source": [
    "df_veh =pd.read_csv('veh.csv').reset_index(drop = True)"
   ]
  },
  {
   "cell_type": "code",
   "execution_count": 87,
   "id": "81667790",
   "metadata": {},
   "outputs": [
    {
     "data": {
      "text/html": [
       "<div>\n",
       "<style scoped>\n",
       "    .dataframe tbody tr th:only-of-type {\n",
       "        vertical-align: middle;\n",
       "    }\n",
       "\n",
       "    .dataframe tbody tr th {\n",
       "        vertical-align: top;\n",
       "    }\n",
       "\n",
       "    .dataframe thead th {\n",
       "        text-align: right;\n",
       "    }\n",
       "</style>\n",
       "<table border=\"1\" class=\"dataframe\">\n",
       "  <thead>\n",
       "    <tr style=\"text-align: right;\">\n",
       "      <th></th>\n",
       "      <th>id</th>\n",
       "      <th>year</th>\n",
       "      <th>brand</th>\n",
       "      <th>color</th>\n",
       "      <th>model</th>\n",
       "      <th>category</th>\n",
       "      <th>category_group</th>\n",
       "      <th>transport_id</th>\n",
       "    </tr>\n",
       "  </thead>\n",
       "  <tbody>\n",
       "    <tr>\n",
       "      <th>0</th>\n",
       "      <td>2705425</td>\n",
       "      <td>2005.0</td>\n",
       "      <td>ВАЗ</td>\n",
       "      <td>Иные цвета</td>\n",
       "      <td>ВАЗ 2115 и модификации</td>\n",
       "      <td>С-класс (малый средний, компактный) до 4,3 м</td>\n",
       "      <td>Легковые автомобили</td>\n",
       "      <td>1</td>\n",
       "    </tr>\n",
       "    <tr>\n",
       "      <th>1</th>\n",
       "      <td>2705425</td>\n",
       "      <td>2006.0</td>\n",
       "      <td>КАМАЗ</td>\n",
       "      <td>Желтый</td>\n",
       "      <td>5460</td>\n",
       "      <td>Самосвалы</td>\n",
       "      <td>Грузовые автомобили</td>\n",
       "      <td>2</td>\n",
       "    </tr>\n",
       "    <tr>\n",
       "      <th>2</th>\n",
       "      <td>2705910</td>\n",
       "      <td>1993.0</td>\n",
       "      <td>MERCEDES</td>\n",
       "      <td>Синий</td>\n",
       "      <td>C-класс</td>\n",
       "      <td>С-класс (малый средний, компактный) до 4,3 м</td>\n",
       "      <td>Легковые автомобили</td>\n",
       "      <td>1</td>\n",
       "    </tr>\n",
       "    <tr>\n",
       "      <th>3</th>\n",
       "      <td>2705936</td>\n",
       "      <td>2005.0</td>\n",
       "      <td>TOYOTA</td>\n",
       "      <td>Коричневый</td>\n",
       "      <td>Avensis</td>\n",
       "      <td>С-класс (малый средний, компактный) до 4,3 м</td>\n",
       "      <td>Легковые автомобили</td>\n",
       "      <td>1</td>\n",
       "    </tr>\n",
       "    <tr>\n",
       "      <th>4</th>\n",
       "      <td>2705936</td>\n",
       "      <td>2021.0</td>\n",
       "      <td>ВАЗ</td>\n",
       "      <td>Синий</td>\n",
       "      <td>Granta (Гранта)</td>\n",
       "      <td>В-класс (малый) до 3,9 м</td>\n",
       "      <td>Легковые автомобили</td>\n",
       "      <td>2</td>\n",
       "    </tr>\n",
       "  </tbody>\n",
       "</table>\n",
       "</div>"
      ],
      "text/plain": [
       "        id    year     brand       color                   model  \\\n",
       "0  2705425  2005.0       ВАЗ  Иные цвета  ВАЗ 2115 и модификации   \n",
       "1  2705425  2006.0     КАМАЗ      Желтый                    5460   \n",
       "2  2705910  1993.0  MERCEDES       Синий                 C-класс   \n",
       "3  2705936  2005.0    TOYOTA  Коричневый                 Avensis   \n",
       "4  2705936  2021.0       ВАЗ       Синий         Granta (Гранта)   \n",
       "\n",
       "                                       category       category_group  \\\n",
       "0  С-класс (малый средний, компактный) до 4,3 м  Легковые автомобили   \n",
       "1                                     Самосвалы  Грузовые автомобили   \n",
       "2  С-класс (малый средний, компактный) до 4,3 м  Легковые автомобили   \n",
       "3  С-класс (малый средний, компактный) до 4,3 м  Легковые автомобили   \n",
       "4                      В-класс (малый) до 3,9 м  Легковые автомобили   \n",
       "\n",
       "   transport_id  \n",
       "0             1  \n",
       "1             2  \n",
       "2             1  \n",
       "3             1  \n",
       "4             2  "
      ]
     },
     "execution_count": 87,
     "metadata": {},
     "output_type": "execute_result"
    }
   ],
   "source": [
    "df_veh.head()"
   ]
  },
  {
   "cell_type": "code",
   "execution_count": 88,
   "id": "0f20abee",
   "metadata": {},
   "outputs": [
    {
     "name": "stdout",
     "output_type": "stream",
     "text": [
      "<class 'pandas.core.frame.DataFrame'>\n",
      "RangeIndex: 2232663 entries, 0 to 2232662\n",
      "Data columns (total 8 columns):\n",
      " #   Column          Dtype  \n",
      "---  ------          -----  \n",
      " 0   id              int64  \n",
      " 1   year            float64\n",
      " 2   brand           object \n",
      " 3   color           object \n",
      " 4   model           object \n",
      " 5   category        object \n",
      " 6   category_group  object \n",
      " 7   transport_id    int64  \n",
      "dtypes: float64(1), int64(2), object(5)\n",
      "memory usage: 136.3+ MB\n"
     ]
    }
   ],
   "source": [
    "df_veh.info()"
   ]
  },
  {
   "cell_type": "code",
   "execution_count": 89,
   "id": "67d4ded5",
   "metadata": {},
   "outputs": [
    {
     "name": "stdout",
     "output_type": "stream",
     "text": [
      "<class 'pandas.core.frame.DataFrame'>\n",
      "RangeIndex: 1411646 entries, 0 to 1411645\n",
      "Data columns (total 2 columns):\n",
      " #   Column    Non-Null Count    Dtype \n",
      "---  ------    --------------    ----- \n",
      " 0   id        1411646 non-null  int64 \n",
      " 1   datetime  1411646 non-null  object\n",
      "dtypes: int64(1), object(1)\n",
      "memory usage: 21.5+ MB\n"
     ]
    }
   ],
   "source": [
    "df_base3 = pd.read_csv('base_31.csv',usecols= ['id','datetime']).reset_index(drop = True)\n",
    "df_base3.info()"
   ]
  },
  {
   "cell_type": "markdown",
   "id": "682d788d",
   "metadata": {},
   "source": [
    "Выделим год ДТП"
   ]
  },
  {
   "cell_type": "code",
   "execution_count": 90,
   "id": "1c6568a9",
   "metadata": {},
   "outputs": [],
   "source": [
    "df_base3['datetime'] = pd.to_datetime(df_base3['datetime'])"
   ]
  },
  {
   "cell_type": "code",
   "execution_count": 91,
   "id": "a92fa1dc",
   "metadata": {},
   "outputs": [
    {
     "name": "stdout",
     "output_type": "stream",
     "text": [
      "<class 'pandas.core.frame.DataFrame'>\n",
      "RangeIndex: 1411646 entries, 0 to 1411645\n",
      "Data columns (total 3 columns):\n",
      " #   Column    Non-Null Count    Dtype         \n",
      "---  ------    --------------    -----         \n",
      " 0   id        1411646 non-null  int64         \n",
      " 1   datetime  1411646 non-null  datetime64[ns]\n",
      " 2   year_dtp  1411646 non-null  int32         \n",
      "dtypes: datetime64[ns](1), int32(1), int64(1)\n",
      "memory usage: 26.9 MB\n"
     ]
    }
   ],
   "source": [
    "\n",
    "df_base3['year_dtp'] = df_base3['datetime'].dt.year  \n",
    "df_base3.info()                                     "
   ]
  },
  {
   "cell_type": "code",
   "execution_count": 92,
   "id": "b63007f9",
   "metadata": {},
   "outputs": [],
   "source": [
    "df_year = pd.merge(df_veh, df_base3, on='id')"
   ]
  },
  {
   "cell_type": "code",
   "execution_count": 93,
   "id": "ed184190",
   "metadata": {},
   "outputs": [
    {
     "data": {
      "text/html": [
       "<div>\n",
       "<style scoped>\n",
       "    .dataframe tbody tr th:only-of-type {\n",
       "        vertical-align: middle;\n",
       "    }\n",
       "\n",
       "    .dataframe tbody tr th {\n",
       "        vertical-align: top;\n",
       "    }\n",
       "\n",
       "    .dataframe thead th {\n",
       "        text-align: right;\n",
       "    }\n",
       "</style>\n",
       "<table border=\"1\" class=\"dataframe\">\n",
       "  <thead>\n",
       "    <tr style=\"text-align: right;\">\n",
       "      <th></th>\n",
       "      <th>id</th>\n",
       "      <th>year</th>\n",
       "      <th>brand</th>\n",
       "      <th>color</th>\n",
       "      <th>model</th>\n",
       "      <th>category</th>\n",
       "      <th>category_group</th>\n",
       "      <th>transport_id</th>\n",
       "      <th>datetime</th>\n",
       "      <th>year_dtp</th>\n",
       "    </tr>\n",
       "  </thead>\n",
       "  <tbody>\n",
       "    <tr>\n",
       "      <th>0</th>\n",
       "      <td>2705425</td>\n",
       "      <td>2005.0</td>\n",
       "      <td>ВАЗ</td>\n",
       "      <td>Иные цвета</td>\n",
       "      <td>ВАЗ 2115 и модификации</td>\n",
       "      <td>С-класс (малый средний, компактный) до 4,3 м</td>\n",
       "      <td>Легковые автомобили</td>\n",
       "      <td>1</td>\n",
       "      <td>2022-06-10 16:00:00</td>\n",
       "      <td>2022</td>\n",
       "    </tr>\n",
       "    <tr>\n",
       "      <th>1</th>\n",
       "      <td>2705425</td>\n",
       "      <td>2006.0</td>\n",
       "      <td>КАМАЗ</td>\n",
       "      <td>Желтый</td>\n",
       "      <td>5460</td>\n",
       "      <td>Самосвалы</td>\n",
       "      <td>Грузовые автомобили</td>\n",
       "      <td>2</td>\n",
       "      <td>2022-06-10 16:00:00</td>\n",
       "      <td>2022</td>\n",
       "    </tr>\n",
       "    <tr>\n",
       "      <th>2</th>\n",
       "      <td>2705910</td>\n",
       "      <td>1993.0</td>\n",
       "      <td>MERCEDES</td>\n",
       "      <td>Синий</td>\n",
       "      <td>C-класс</td>\n",
       "      <td>С-класс (малый средний, компактный) до 4,3 м</td>\n",
       "      <td>Легковые автомобили</td>\n",
       "      <td>1</td>\n",
       "      <td>2022-05-23 13:05:00</td>\n",
       "      <td>2022</td>\n",
       "    </tr>\n",
       "  </tbody>\n",
       "</table>\n",
       "</div>"
      ],
      "text/plain": [
       "        id    year     brand       color                   model  \\\n",
       "0  2705425  2005.0       ВАЗ  Иные цвета  ВАЗ 2115 и модификации   \n",
       "1  2705425  2006.0     КАМАЗ      Желтый                    5460   \n",
       "2  2705910  1993.0  MERCEDES       Синий                 C-класс   \n",
       "\n",
       "                                       category       category_group  \\\n",
       "0  С-класс (малый средний, компактный) до 4,3 м  Легковые автомобили   \n",
       "1                                     Самосвалы  Грузовые автомобили   \n",
       "2  С-класс (малый средний, компактный) до 4,3 м  Легковые автомобили   \n",
       "\n",
       "   transport_id            datetime  year_dtp  \n",
       "0             1 2022-06-10 16:00:00      2022  \n",
       "1             2 2022-06-10 16:00:00      2022  \n",
       "2             1 2022-05-23 13:05:00      2022  "
      ]
     },
     "execution_count": 93,
     "metadata": {},
     "output_type": "execute_result"
    }
   ],
   "source": [
    "df_year.head(3)"
   ]
  },
  {
   "cell_type": "code",
   "execution_count": 94,
   "id": "a55d8cff",
   "metadata": {},
   "outputs": [
    {
     "data": {
      "text/plain": [
       "array([2022, 2015, 2016, 2023, 2017, 2020, 2018, 2021, 2019, 2024])"
      ]
     },
     "execution_count": 94,
     "metadata": {},
     "output_type": "execute_result"
    }
   ],
   "source": [
    "df_year.year_dtp.unique()"
   ]
  },
  {
   "cell_type": "code",
   "execution_count": 95,
   "id": "708fe4ec",
   "metadata": {},
   "outputs": [
    {
     "data": {
      "text/plain": [
       "array([2.005e+03, 2.006e+03, 1.993e+03, 2.021e+03, 2.008e+03, 1.984e+03,\n",
       "       1.998e+03, 2.011e+03, 2.001e+03, 2.010e+03, 2.013e+03, 2.019e+03,\n",
       "       2.007e+03, 1.987e+03, 2.003e+03, 1.999e+03, 2.004e+03, 2.012e+03,\n",
       "       2.015e+03, 2.017e+03, 2.018e+03, 2.020e+03, 2.009e+03, 2.016e+03,\n",
       "       2.000e+03,       nan, 1.997e+03, 1.992e+03, 1.988e+03, 2.014e+03,\n",
       "       1.990e+03, 2.002e+03, 1.991e+03, 1.989e+03, 1.995e+03, 1.994e+03,\n",
       "       1.979e+03, 1.986e+03, 1.996e+03, 2.022e+03, 2.023e+03, 1.983e+03,\n",
       "       1.985e+03, 1.981e+03, 1.960e+03, 1.971e+03, 1.973e+03, 1.974e+03,\n",
       "       1.977e+03, 1.975e+03, 1.982e+03, 1.980e+03, 1.972e+03, 1.978e+03,\n",
       "       1.000e+00, 1.976e+03, 1.961e+03, 1.919e+03, 1.970e+03, 1.968e+03,\n",
       "       1.963e+03, 2.024e+03, 1.966e+03, 1.920e+03, 1.959e+03, 1.957e+03,\n",
       "       1.964e+03, 1.962e+03, 1.952e+03, 1.965e+03, 1.900e+03, 1.969e+03,\n",
       "       1.950e+03, 1.958e+03, 1.901e+03, 1.967e+03, 1.956e+03, 1.910e+03,\n",
       "       1.954e+03, 1.934e+03, 1.907e+03, 1.949e+03, 1.911e+03, 1.953e+03,\n",
       "       1.936e+03, 1.955e+03, 1.941e+03, 1.937e+03, 1.942e+03, 1.946e+03,\n",
       "       1.923e+03, 1.951e+03, 1.948e+03, 1.928e+03, 1.909e+03, 1.918e+03])"
      ]
     },
     "execution_count": 95,
     "metadata": {},
     "output_type": "execute_result"
    }
   ],
   "source": [
    "df_year.year.unique()"
   ]
  },
  {
   "cell_type": "markdown",
   "id": "69be1bf1",
   "metadata": {},
   "source": [
    "Понятно, почему у нас такой разброс.Как было выяснено на этапе предобработки были значени года выпуска 0 и 1900"
   ]
  },
  {
   "cell_type": "raw",
   "id": "11b8b2ea",
   "metadata": {},
   "source": [
    "df_year1 = pd.merge(df_veh[(df_veh['year'] >= 1970)], df_base3, on='id')\n",
    "df_year1['car_age'] = df_year1['year_dtp']-df_year1['year']\n"
   ]
  },
  {
   "cell_type": "code",
   "execution_count": 96,
   "id": "8bd55e07",
   "metadata": {},
   "outputs": [
    {
     "data": {
      "text/html": [
       "<div>\n",
       "<style scoped>\n",
       "    .dataframe tbody tr th:only-of-type {\n",
       "        vertical-align: middle;\n",
       "    }\n",
       "\n",
       "    .dataframe tbody tr th {\n",
       "        vertical-align: top;\n",
       "    }\n",
       "\n",
       "    .dataframe thead th {\n",
       "        text-align: right;\n",
       "    }\n",
       "</style>\n",
       "<table border=\"1\" class=\"dataframe\">\n",
       "  <thead>\n",
       "    <tr style=\"text-align: right;\">\n",
       "      <th></th>\n",
       "      <th>id</th>\n",
       "      <th>year</th>\n",
       "      <th>brand</th>\n",
       "      <th>color</th>\n",
       "      <th>model</th>\n",
       "      <th>category</th>\n",
       "      <th>category_group</th>\n",
       "      <th>transport_id</th>\n",
       "      <th>datetime</th>\n",
       "      <th>year_dtp</th>\n",
       "    </tr>\n",
       "  </thead>\n",
       "  <tbody>\n",
       "    <tr>\n",
       "      <th>0</th>\n",
       "      <td>2705425</td>\n",
       "      <td>2005.0</td>\n",
       "      <td>ВАЗ</td>\n",
       "      <td>Иные цвета</td>\n",
       "      <td>ВАЗ 2115 и модификации</td>\n",
       "      <td>С-класс (малый средний, компактный) до 4,3 м</td>\n",
       "      <td>Легковые автомобили</td>\n",
       "      <td>1</td>\n",
       "      <td>2022-06-10 16:00:00</td>\n",
       "      <td>2022</td>\n",
       "    </tr>\n",
       "    <tr>\n",
       "      <th>1</th>\n",
       "      <td>2705425</td>\n",
       "      <td>2006.0</td>\n",
       "      <td>КАМАЗ</td>\n",
       "      <td>Желтый</td>\n",
       "      <td>5460</td>\n",
       "      <td>Самосвалы</td>\n",
       "      <td>Грузовые автомобили</td>\n",
       "      <td>2</td>\n",
       "      <td>2022-06-10 16:00:00</td>\n",
       "      <td>2022</td>\n",
       "    </tr>\n",
       "    <tr>\n",
       "      <th>2</th>\n",
       "      <td>2705910</td>\n",
       "      <td>1993.0</td>\n",
       "      <td>MERCEDES</td>\n",
       "      <td>Синий</td>\n",
       "      <td>C-класс</td>\n",
       "      <td>С-класс (малый средний, компактный) до 4,3 м</td>\n",
       "      <td>Легковые автомобили</td>\n",
       "      <td>1</td>\n",
       "      <td>2022-05-23 13:05:00</td>\n",
       "      <td>2022</td>\n",
       "    </tr>\n",
       "    <tr>\n",
       "      <th>3</th>\n",
       "      <td>2705936</td>\n",
       "      <td>2005.0</td>\n",
       "      <td>TOYOTA</td>\n",
       "      <td>Коричневый</td>\n",
       "      <td>Avensis</td>\n",
       "      <td>С-класс (малый средний, компактный) до 4,3 м</td>\n",
       "      <td>Легковые автомобили</td>\n",
       "      <td>1</td>\n",
       "      <td>2022-05-09 04:00:00</td>\n",
       "      <td>2022</td>\n",
       "    </tr>\n",
       "    <tr>\n",
       "      <th>4</th>\n",
       "      <td>2705936</td>\n",
       "      <td>2021.0</td>\n",
       "      <td>ВАЗ</td>\n",
       "      <td>Синий</td>\n",
       "      <td>Granta (Гранта)</td>\n",
       "      <td>В-класс (малый) до 3,9 м</td>\n",
       "      <td>Легковые автомобили</td>\n",
       "      <td>2</td>\n",
       "      <td>2022-05-09 04:00:00</td>\n",
       "      <td>2022</td>\n",
       "    </tr>\n",
       "  </tbody>\n",
       "</table>\n",
       "</div>"
      ],
      "text/plain": [
       "        id    year     brand       color                   model  \\\n",
       "0  2705425  2005.0       ВАЗ  Иные цвета  ВАЗ 2115 и модификации   \n",
       "1  2705425  2006.0     КАМАЗ      Желтый                    5460   \n",
       "2  2705910  1993.0  MERCEDES       Синий                 C-класс   \n",
       "3  2705936  2005.0    TOYOTA  Коричневый                 Avensis   \n",
       "4  2705936  2021.0       ВАЗ       Синий         Granta (Гранта)   \n",
       "\n",
       "                                       category       category_group  \\\n",
       "0  С-класс (малый средний, компактный) до 4,3 м  Легковые автомобили   \n",
       "1                                     Самосвалы  Грузовые автомобили   \n",
       "2  С-класс (малый средний, компактный) до 4,3 м  Легковые автомобили   \n",
       "3  С-класс (малый средний, компактный) до 4,3 м  Легковые автомобили   \n",
       "4                      В-класс (малый) до 3,9 м  Легковые автомобили   \n",
       "\n",
       "   transport_id            datetime  year_dtp  \n",
       "0             1 2022-06-10 16:00:00      2022  \n",
       "1             2 2022-06-10 16:00:00      2022  \n",
       "2             1 2022-05-23 13:05:00      2022  \n",
       "3             1 2022-05-09 04:00:00      2022  \n",
       "4             2 2022-05-09 04:00:00      2022  "
      ]
     },
     "execution_count": 96,
     "metadata": {},
     "output_type": "execute_result"
    }
   ],
   "source": [
    "df_year.head()"
   ]
  },
  {
   "cell_type": "code",
   "execution_count": 97,
   "id": "26d75bd5",
   "metadata": {},
   "outputs": [
    {
     "data": {
      "text/plain": [
       "id                     0\n",
       "year              101037\n",
       "brand                  0\n",
       "color                  0\n",
       "model                  0\n",
       "category               0\n",
       "category_group         0\n",
       "transport_id           0\n",
       "datetime               0\n",
       "year_dtp               0\n",
       "dtype: int64"
      ]
     },
     "execution_count": 97,
     "metadata": {},
     "output_type": "execute_result"
    }
   ],
   "source": [
    "df_year.isna().sum()"
   ]
  },
  {
   "cell_type": "code",
   "execution_count": 98,
   "id": "86883b16",
   "metadata": {},
   "outputs": [],
   "source": [
    "df_year['car_age'] = df_year['year_dtp']-df_year['year']"
   ]
  },
  {
   "cell_type": "raw",
   "id": "6cb4b7d1",
   "metadata": {},
   "source": [
    "df_year['car_age'] = df_year['year_dtp'] - df_year['year']\n",
    "df_year['car_age'] = np.where(df_year['year'] < 1970, \"np.nan\",df_year['car_age'])"
   ]
  },
  {
   "cell_type": "code",
   "execution_count": 99,
   "id": "576f3275",
   "metadata": {},
   "outputs": [
    {
     "data": {
      "text/plain": [
       "car_age\n",
       "8.0       121678\n",
       "9.0       121099\n",
       "10.0      117681\n",
       "4.0       117506\n",
       "5.0       116116\n",
       "7.0       115679\n",
       "3.0       115108\n",
       "2.0       111486\n",
       "11.0      110107\n",
       "6.0       108988\n",
       "1.0       100804\n",
       "12.0       99158\n",
       "13.0       89908\n",
       "14.0       82908\n",
       "15.0       78655\n",
       "16.0       67320\n",
       "17.0       56914\n",
       "18.0       49671\n",
       "19.0       43395\n",
       "20.0       37224\n",
       "0.0        34767\n",
       "21.0       31846\n",
       "22.0       27156\n",
       "23.0       23860\n",
       "24.0       20589\n",
       "25.0       18475\n",
       "26.0       16107\n",
       "27.0       14393\n",
       "28.0       12878\n",
       "29.0       11271\n",
       "30.0       10228\n",
       "31.0        8744\n",
       "32.0        7280\n",
       "33.0        6221\n",
       "34.0        5037\n",
       "35.0        4165\n",
       "36.0        3338\n",
       "37.0        2666\n",
       "38.0        2173\n",
       "39.0        1760\n",
       "40.0        1346\n",
       "41.0        1057\n",
       "42.0         915\n",
       "43.0         714\n",
       "44.0         549\n",
       "45.0         431\n",
       "46.0         342\n",
       "2014.0       319\n",
       "47.0         247\n",
       "48.0         214\n",
       "49.0         165\n",
       "50.0         113\n",
       "51.0          94\n",
       "53.0          69\n",
       "52.0          66\n",
       "54.0          51\n",
       "55.0          51\n",
       "108.0         47\n",
       "56.0          41\n",
       "58.0          40\n",
       "Name: count, dtype: int64"
      ]
     },
     "execution_count": 99,
     "metadata": {},
     "output_type": "execute_result"
    }
   ],
   "source": [
    "df_year['car_age'].value_counts().head(60)"
   ]
  },
  {
   "cell_type": "code",
   "execution_count": 100,
   "id": "43fddda6",
   "metadata": {},
   "outputs": [
    {
     "data": {
      "text/plain": [
       "count    2.131626e+06\n",
       "mean     1.115422e+01\n",
       "std      2.570239e+01\n",
       "min      0.000000e+00\n",
       "25%      5.000000e+00\n",
       "50%      1.000000e+01\n",
       "75%      1.500000e+01\n",
       "max      2.014000e+03\n",
       "Name: car_age, dtype: float64"
      ]
     },
     "execution_count": 100,
     "metadata": {},
     "output_type": "execute_result"
    }
   ],
   "source": [
    "df_year['car_age'].describe()"
   ]
  },
  {
   "cell_type": "code",
   "execution_count": 101,
   "id": "fe3a2a40",
   "metadata": {},
   "outputs": [
    {
     "data": {
      "text/html": [
       "<div>\n",
       "<style scoped>\n",
       "    .dataframe tbody tr th:only-of-type {\n",
       "        vertical-align: middle;\n",
       "    }\n",
       "\n",
       "    .dataframe tbody tr th {\n",
       "        vertical-align: top;\n",
       "    }\n",
       "\n",
       "    .dataframe thead th {\n",
       "        text-align: right;\n",
       "    }\n",
       "</style>\n",
       "<table border=\"1\" class=\"dataframe\">\n",
       "  <thead>\n",
       "    <tr style=\"text-align: right;\">\n",
       "      <th></th>\n",
       "      <th>car_age</th>\n",
       "      <th>id</th>\n",
       "      <th>%</th>\n",
       "    </tr>\n",
       "  </thead>\n",
       "  <tbody>\n",
       "    <tr>\n",
       "      <th>0</th>\n",
       "      <td>8.0</td>\n",
       "      <td>118065</td>\n",
       "      <td>5.7</td>\n",
       "    </tr>\n",
       "    <tr>\n",
       "      <th>1</th>\n",
       "      <td>9.0</td>\n",
       "      <td>117668</td>\n",
       "      <td>5.7</td>\n",
       "    </tr>\n",
       "    <tr>\n",
       "      <th>2</th>\n",
       "      <td>10.0</td>\n",
       "      <td>114534</td>\n",
       "      <td>5.5</td>\n",
       "    </tr>\n",
       "    <tr>\n",
       "      <th>3</th>\n",
       "      <td>4.0</td>\n",
       "      <td>113951</td>\n",
       "      <td>5.5</td>\n",
       "    </tr>\n",
       "    <tr>\n",
       "      <th>4</th>\n",
       "      <td>5.0</td>\n",
       "      <td>112622</td>\n",
       "      <td>5.4</td>\n",
       "    </tr>\n",
       "    <tr>\n",
       "      <th>5</th>\n",
       "      <td>7.0</td>\n",
       "      <td>112314</td>\n",
       "      <td>5.4</td>\n",
       "    </tr>\n",
       "    <tr>\n",
       "      <th>6</th>\n",
       "      <td>3.0</td>\n",
       "      <td>111596</td>\n",
       "      <td>5.4</td>\n",
       "    </tr>\n",
       "    <tr>\n",
       "      <th>7</th>\n",
       "      <td>2.0</td>\n",
       "      <td>108072</td>\n",
       "      <td>5.2</td>\n",
       "    </tr>\n",
       "    <tr>\n",
       "      <th>8</th>\n",
       "      <td>11.0</td>\n",
       "      <td>107265</td>\n",
       "      <td>5.2</td>\n",
       "    </tr>\n",
       "    <tr>\n",
       "      <th>9</th>\n",
       "      <td>6.0</td>\n",
       "      <td>105949</td>\n",
       "      <td>5.1</td>\n",
       "    </tr>\n",
       "    <tr>\n",
       "      <th>10</th>\n",
       "      <td>1.0</td>\n",
       "      <td>97998</td>\n",
       "      <td>4.7</td>\n",
       "    </tr>\n",
       "    <tr>\n",
       "      <th>11</th>\n",
       "      <td>12.0</td>\n",
       "      <td>96938</td>\n",
       "      <td>4.7</td>\n",
       "    </tr>\n",
       "    <tr>\n",
       "      <th>12</th>\n",
       "      <td>13.0</td>\n",
       "      <td>88064</td>\n",
       "      <td>4.2</td>\n",
       "    </tr>\n",
       "    <tr>\n",
       "      <th>13</th>\n",
       "      <td>14.0</td>\n",
       "      <td>81355</td>\n",
       "      <td>3.9</td>\n",
       "    </tr>\n",
       "    <tr>\n",
       "      <th>14</th>\n",
       "      <td>15.0</td>\n",
       "      <td>77209</td>\n",
       "      <td>3.7</td>\n",
       "    </tr>\n",
       "    <tr>\n",
       "      <th>15</th>\n",
       "      <td>16.0</td>\n",
       "      <td>66273</td>\n",
       "      <td>3.2</td>\n",
       "    </tr>\n",
       "    <tr>\n",
       "      <th>16</th>\n",
       "      <td>17.0</td>\n",
       "      <td>56201</td>\n",
       "      <td>2.7</td>\n",
       "    </tr>\n",
       "    <tr>\n",
       "      <th>17</th>\n",
       "      <td>18.0</td>\n",
       "      <td>49078</td>\n",
       "      <td>2.4</td>\n",
       "    </tr>\n",
       "    <tr>\n",
       "      <th>18</th>\n",
       "      <td>19.0</td>\n",
       "      <td>42917</td>\n",
       "      <td>2.1</td>\n",
       "    </tr>\n",
       "    <tr>\n",
       "      <th>19</th>\n",
       "      <td>20.0</td>\n",
       "      <td>36881</td>\n",
       "      <td>1.8</td>\n",
       "    </tr>\n",
       "    <tr>\n",
       "      <th>20</th>\n",
       "      <td>0.0</td>\n",
       "      <td>34236</td>\n",
       "      <td>1.6</td>\n",
       "    </tr>\n",
       "    <tr>\n",
       "      <th>21</th>\n",
       "      <td>21.0</td>\n",
       "      <td>31574</td>\n",
       "      <td>1.5</td>\n",
       "    </tr>\n",
       "    <tr>\n",
       "      <th>22</th>\n",
       "      <td>22.0</td>\n",
       "      <td>26942</td>\n",
       "      <td>1.3</td>\n",
       "    </tr>\n",
       "    <tr>\n",
       "      <th>23</th>\n",
       "      <td>23.0</td>\n",
       "      <td>23696</td>\n",
       "      <td>1.1</td>\n",
       "    </tr>\n",
       "    <tr>\n",
       "      <th>24</th>\n",
       "      <td>24.0</td>\n",
       "      <td>20475</td>\n",
       "      <td>1.0</td>\n",
       "    </tr>\n",
       "    <tr>\n",
       "      <th>25</th>\n",
       "      <td>25.0</td>\n",
       "      <td>18365</td>\n",
       "      <td>0.9</td>\n",
       "    </tr>\n",
       "    <tr>\n",
       "      <th>26</th>\n",
       "      <td>26.0</td>\n",
       "      <td>16018</td>\n",
       "      <td>0.8</td>\n",
       "    </tr>\n",
       "    <tr>\n",
       "      <th>27</th>\n",
       "      <td>27.0</td>\n",
       "      <td>14339</td>\n",
       "      <td>0.7</td>\n",
       "    </tr>\n",
       "    <tr>\n",
       "      <th>28</th>\n",
       "      <td>28.0</td>\n",
       "      <td>12823</td>\n",
       "      <td>0.6</td>\n",
       "    </tr>\n",
       "    <tr>\n",
       "      <th>29</th>\n",
       "      <td>29.0</td>\n",
       "      <td>11221</td>\n",
       "      <td>0.5</td>\n",
       "    </tr>\n",
       "    <tr>\n",
       "      <th>30</th>\n",
       "      <td>30.0</td>\n",
       "      <td>10195</td>\n",
       "      <td>0.5</td>\n",
       "    </tr>\n",
       "    <tr>\n",
       "      <th>31</th>\n",
       "      <td>31.0</td>\n",
       "      <td>8710</td>\n",
       "      <td>0.4</td>\n",
       "    </tr>\n",
       "    <tr>\n",
       "      <th>32</th>\n",
       "      <td>32.0</td>\n",
       "      <td>7253</td>\n",
       "      <td>0.3</td>\n",
       "    </tr>\n",
       "    <tr>\n",
       "      <th>33</th>\n",
       "      <td>33.0</td>\n",
       "      <td>6199</td>\n",
       "      <td>0.3</td>\n",
       "    </tr>\n",
       "    <tr>\n",
       "      <th>34</th>\n",
       "      <td>34.0</td>\n",
       "      <td>5022</td>\n",
       "      <td>0.2</td>\n",
       "    </tr>\n",
       "    <tr>\n",
       "      <th>35</th>\n",
       "      <td>35.0</td>\n",
       "      <td>4154</td>\n",
       "      <td>0.2</td>\n",
       "    </tr>\n",
       "    <tr>\n",
       "      <th>36</th>\n",
       "      <td>36.0</td>\n",
       "      <td>3326</td>\n",
       "      <td>0.2</td>\n",
       "    </tr>\n",
       "    <tr>\n",
       "      <th>37</th>\n",
       "      <td>37.0</td>\n",
       "      <td>2664</td>\n",
       "      <td>0.1</td>\n",
       "    </tr>\n",
       "    <tr>\n",
       "      <th>38</th>\n",
       "      <td>38.0</td>\n",
       "      <td>2169</td>\n",
       "      <td>0.1</td>\n",
       "    </tr>\n",
       "    <tr>\n",
       "      <th>39</th>\n",
       "      <td>39.0</td>\n",
       "      <td>1754</td>\n",
       "      <td>0.1</td>\n",
       "    </tr>\n",
       "    <tr>\n",
       "      <th>40</th>\n",
       "      <td>40.0</td>\n",
       "      <td>1346</td>\n",
       "      <td>0.1</td>\n",
       "    </tr>\n",
       "    <tr>\n",
       "      <th>41</th>\n",
       "      <td>41.0</td>\n",
       "      <td>1057</td>\n",
       "      <td>0.1</td>\n",
       "    </tr>\n",
       "    <tr>\n",
       "      <th>42</th>\n",
       "      <td>42.0</td>\n",
       "      <td>915</td>\n",
       "      <td>0.0</td>\n",
       "    </tr>\n",
       "    <tr>\n",
       "      <th>43</th>\n",
       "      <td>43.0</td>\n",
       "      <td>712</td>\n",
       "      <td>0.0</td>\n",
       "    </tr>\n",
       "    <tr>\n",
       "      <th>44</th>\n",
       "      <td>44.0</td>\n",
       "      <td>548</td>\n",
       "      <td>0.0</td>\n",
       "    </tr>\n",
       "    <tr>\n",
       "      <th>45</th>\n",
       "      <td>45.0</td>\n",
       "      <td>430</td>\n",
       "      <td>0.0</td>\n",
       "    </tr>\n",
       "    <tr>\n",
       "      <th>46</th>\n",
       "      <td>46.0</td>\n",
       "      <td>331</td>\n",
       "      <td>0.0</td>\n",
       "    </tr>\n",
       "    <tr>\n",
       "      <th>47</th>\n",
       "      <td>47.0</td>\n",
       "      <td>221</td>\n",
       "      <td>0.0</td>\n",
       "    </tr>\n",
       "    <tr>\n",
       "      <th>48</th>\n",
       "      <td>48.0</td>\n",
       "      <td>173</td>\n",
       "      <td>0.0</td>\n",
       "    </tr>\n",
       "    <tr>\n",
       "      <th>49</th>\n",
       "      <td>49.0</td>\n",
       "      <td>126</td>\n",
       "      <td>0.0</td>\n",
       "    </tr>\n",
       "    <tr>\n",
       "      <th>50</th>\n",
       "      <td>50.0</td>\n",
       "      <td>70</td>\n",
       "      <td>0.0</td>\n",
       "    </tr>\n",
       "    <tr>\n",
       "      <th>51</th>\n",
       "      <td>51.0</td>\n",
       "      <td>52</td>\n",
       "      <td>0.0</td>\n",
       "    </tr>\n",
       "    <tr>\n",
       "      <th>52</th>\n",
       "      <td>52.0</td>\n",
       "      <td>24</td>\n",
       "      <td>0.0</td>\n",
       "    </tr>\n",
       "    <tr>\n",
       "      <th>53</th>\n",
       "      <td>53.0</td>\n",
       "      <td>12</td>\n",
       "      <td>0.0</td>\n",
       "    </tr>\n",
       "    <tr>\n",
       "      <th>54</th>\n",
       "      <td>54.0</td>\n",
       "      <td>1</td>\n",
       "      <td>0.0</td>\n",
       "    </tr>\n",
       "  </tbody>\n",
       "</table>\n",
       "</div>"
      ],
      "text/plain": [
       "    car_age      id    %\n",
       "0       8.0  118065  5.7\n",
       "1       9.0  117668  5.7\n",
       "2      10.0  114534  5.5\n",
       "3       4.0  113951  5.5\n",
       "4       5.0  112622  5.4\n",
       "5       7.0  112314  5.4\n",
       "6       3.0  111596  5.4\n",
       "7       2.0  108072  5.2\n",
       "8      11.0  107265  5.2\n",
       "9       6.0  105949  5.1\n",
       "10      1.0   97998  4.7\n",
       "11     12.0   96938  4.7\n",
       "12     13.0   88064  4.2\n",
       "13     14.0   81355  3.9\n",
       "14     15.0   77209  3.7\n",
       "15     16.0   66273  3.2\n",
       "16     17.0   56201  2.7\n",
       "17     18.0   49078  2.4\n",
       "18     19.0   42917  2.1\n",
       "19     20.0   36881  1.8\n",
       "20      0.0   34236  1.6\n",
       "21     21.0   31574  1.5\n",
       "22     22.0   26942  1.3\n",
       "23     23.0   23696  1.1\n",
       "24     24.0   20475  1.0\n",
       "25     25.0   18365  0.9\n",
       "26     26.0   16018  0.8\n",
       "27     27.0   14339  0.7\n",
       "28     28.0   12823  0.6\n",
       "29     29.0   11221  0.5\n",
       "30     30.0   10195  0.5\n",
       "31     31.0    8710  0.4\n",
       "32     32.0    7253  0.3\n",
       "33     33.0    6199  0.3\n",
       "34     34.0    5022  0.2\n",
       "35     35.0    4154  0.2\n",
       "36     36.0    3326  0.2\n",
       "37     37.0    2664  0.1\n",
       "38     38.0    2169  0.1\n",
       "39     39.0    1754  0.1\n",
       "40     40.0    1346  0.1\n",
       "41     41.0    1057  0.1\n",
       "42     42.0     915  0.0\n",
       "43     43.0     712  0.0\n",
       "44     44.0     548  0.0\n",
       "45     45.0     430  0.0\n",
       "46     46.0     331  0.0\n",
       "47     47.0     221  0.0\n",
       "48     48.0     173  0.0\n",
       "49     49.0     126  0.0\n",
       "50     50.0      70  0.0\n",
       "51     51.0      52  0.0\n",
       "52     52.0      24  0.0\n",
       "53     53.0      12  0.0\n",
       "54     54.0       1  0.0"
      ]
     },
     "execution_count": 101,
     "metadata": {},
     "output_type": "execute_result"
    }
   ],
   "source": [
    "df_y = df_year.loc[df_year['year'] >= 1970].groupby(['car_age'], as_index=False)['id'].agg('nunique') \\\n",
    "    .sort_values(by='id', ascending=False).reset_index(drop=True)\n",
    "df_y['%'] = (df_y['id']/df_y['id'].sum() * 100).round(1)\n",
    "df_y"
   ]
  },
  {
   "cell_type": "code",
   "execution_count": 198,
   "id": "e4c5543a",
   "metadata": {},
   "outputs": [
    {
     "data": {
      "image/png": "[encoded data removed]",
      "text/plain": [
       "<Figure size 1200x600 with 1 Axes>"
      ]
     },
     "metadata": {},
     "output_type": "display_data"
    }
   ],
   "source": [
    "plt.figure(figsize=(12, 6))\n",
    "\n",
    "sns.barplot(x='car_age', y='id', data=df_y)\n",
    "\n",
    "plt.title('Количество ТС попавших в ДТП в зависимости от возраста', fontsize=16)\n",
    "plt.xlabel('Возраст тс на момент ДТП', fontsize=15)\n",
    "plt.ylabel('Количество ДТП', fontsize=12)\n",
    "plt.xticks(rotation=45, fontsize=10)\n",
    "plt.yticks(fontsize=10)\n",
    "plt.show()"
   ]
  },
  {
   "cell_type": "code",
   "execution_count": 102,
   "id": "fd8be8a0",
   "metadata": {},
   "outputs": [
    {
     "data": {
      "text/html": [
       "<div>\n",
       "<style scoped>\n",
       "    .dataframe tbody tr th:only-of-type {\n",
       "        vertical-align: middle;\n",
       "    }\n",
       "\n",
       "    .dataframe tbody tr th {\n",
       "        vertical-align: top;\n",
       "    }\n",
       "\n",
       "    .dataframe thead th {\n",
       "        text-align: right;\n",
       "    }\n",
       "</style>\n",
       "<table border=\"1\" class=\"dataframe\">\n",
       "  <thead>\n",
       "    <tr style=\"text-align: right;\">\n",
       "      <th></th>\n",
       "      <th>id</th>\n",
       "      <th>year</th>\n",
       "      <th>brand</th>\n",
       "      <th>color</th>\n",
       "      <th>model</th>\n",
       "      <th>category</th>\n",
       "      <th>category_group</th>\n",
       "      <th>transport_id</th>\n",
       "      <th>datetime</th>\n",
       "      <th>year_dtp</th>\n",
       "      <th>car_age</th>\n",
       "      <th>car_cat</th>\n",
       "    </tr>\n",
       "  </thead>\n",
       "  <tbody>\n",
       "    <tr>\n",
       "      <th>0</th>\n",
       "      <td>2705425</td>\n",
       "      <td>2005.0</td>\n",
       "      <td>ВАЗ</td>\n",
       "      <td>Иные цвета</td>\n",
       "      <td>ВАЗ 2115 и модификации</td>\n",
       "      <td>С-класс (малый средний, компактный) до 4,3 м</td>\n",
       "      <td>Легковые автомобили</td>\n",
       "      <td>1</td>\n",
       "      <td>2022-06-10 16:00:00</td>\n",
       "      <td>2022</td>\n",
       "      <td>17.0</td>\n",
       "      <td>Старые</td>\n",
       "    </tr>\n",
       "    <tr>\n",
       "      <th>1</th>\n",
       "      <td>2705425</td>\n",
       "      <td>2006.0</td>\n",
       "      <td>КАМАЗ</td>\n",
       "      <td>Желтый</td>\n",
       "      <td>5460</td>\n",
       "      <td>Самосвалы</td>\n",
       "      <td>Грузовые автомобили</td>\n",
       "      <td>2</td>\n",
       "      <td>2022-06-10 16:00:00</td>\n",
       "      <td>2022</td>\n",
       "      <td>16.0</td>\n",
       "      <td>Старые</td>\n",
       "    </tr>\n",
       "    <tr>\n",
       "      <th>2</th>\n",
       "      <td>2705910</td>\n",
       "      <td>1993.0</td>\n",
       "      <td>MERCEDES</td>\n",
       "      <td>Синий</td>\n",
       "      <td>C-класс</td>\n",
       "      <td>С-класс (малый средний, компактный) до 4,3 м</td>\n",
       "      <td>Легковые автомобили</td>\n",
       "      <td>1</td>\n",
       "      <td>2022-05-23 13:05:00</td>\n",
       "      <td>2022</td>\n",
       "      <td>29.0</td>\n",
       "      <td>Раритетные</td>\n",
       "    </tr>\n",
       "    <tr>\n",
       "      <th>3</th>\n",
       "      <td>2705936</td>\n",
       "      <td>2005.0</td>\n",
       "      <td>TOYOTA</td>\n",
       "      <td>Коричневый</td>\n",
       "      <td>Avensis</td>\n",
       "      <td>С-класс (малый средний, компактный) до 4,3 м</td>\n",
       "      <td>Легковые автомобили</td>\n",
       "      <td>1</td>\n",
       "      <td>2022-05-09 04:00:00</td>\n",
       "      <td>2022</td>\n",
       "      <td>17.0</td>\n",
       "      <td>Старые</td>\n",
       "    </tr>\n",
       "    <tr>\n",
       "      <th>4</th>\n",
       "      <td>2705936</td>\n",
       "      <td>2021.0</td>\n",
       "      <td>ВАЗ</td>\n",
       "      <td>Синий</td>\n",
       "      <td>Granta (Гранта)</td>\n",
       "      <td>В-класс (малый) до 3,9 м</td>\n",
       "      <td>Легковые автомобили</td>\n",
       "      <td>2</td>\n",
       "      <td>2022-05-09 04:00:00</td>\n",
       "      <td>2022</td>\n",
       "      <td>1.0</td>\n",
       "      <td>Новые</td>\n",
       "    </tr>\n",
       "  </tbody>\n",
       "</table>\n",
       "</div>"
      ],
      "text/plain": [
       "        id    year     brand       color                   model  \\\n",
       "0  2705425  2005.0       ВАЗ  Иные цвета  ВАЗ 2115 и модификации   \n",
       "1  2705425  2006.0     КАМАЗ      Желтый                    5460   \n",
       "2  2705910  1993.0  MERCEDES       Синий                 C-класс   \n",
       "3  2705936  2005.0    TOYOTA  Коричневый                 Avensis   \n",
       "4  2705936  2021.0       ВАЗ       Синий         Granta (Гранта)   \n",
       "\n",
       "                                       category       category_group  \\\n",
       "0  С-класс (малый средний, компактный) до 4,3 м  Легковые автомобили   \n",
       "1                                     Самосвалы  Грузовые автомобили   \n",
       "2  С-класс (малый средний, компактный) до 4,3 м  Легковые автомобили   \n",
       "3  С-класс (малый средний, компактный) до 4,3 м  Легковые автомобили   \n",
       "4                      В-класс (малый) до 3,9 м  Легковые автомобили   \n",
       "\n",
       "   transport_id            datetime  year_dtp  car_age     car_cat  \n",
       "0             1 2022-06-10 16:00:00      2022     17.0      Старые  \n",
       "1             2 2022-06-10 16:00:00      2022     16.0      Старые  \n",
       "2             1 2022-05-23 13:05:00      2022     29.0  Раритетные  \n",
       "3             1 2022-05-09 04:00:00      2022     17.0      Старые  \n",
       "4             2 2022-05-09 04:00:00      2022      1.0       Новые  "
      ]
     },
     "execution_count": 102,
     "metadata": {},
     "output_type": "execute_result"
    }
   ],
   "source": [
    "\n",
    "# Создаем категории на основе возраста автомобиля\n",
    "bins = [-1,3, 10, 25, float('inf')]  # Границы категорий\n",
    "labels = ['Новые', 'Средние', 'Старые', 'Раритетные']  # Названия категорий\n",
    "df_year['car_cat'] = pd.cut(df_year['car_age'], bins=bins, labels=labels)\n",
    "\n",
    "# Выводим DataFrame с добавленным столбцом категории возраста\n",
    "df_year.head()\n",
    "\n"
   ]
  },
  {
   "cell_type": "code",
   "execution_count": 103,
   "id": "372188c6",
   "metadata": {},
   "outputs": [
    {
     "data": {
      "text/plain": [
       "['Старые', 'Раритетные', 'Новые', 'Средние', nan]"
      ]
     },
     "execution_count": 103,
     "metadata": {},
     "output_type": "execute_result"
    }
   ],
   "source": [
    "my_list = list(df_year['car_cat'].unique())\n",
    "\n",
    "my_list"
   ]
  },
  {
   "cell_type": "raw",
   "id": "50b51969",
   "metadata": {},
   "source": [
    "df_year['car_cat'].fillna('не указано', inplace=True)"
   ]
  },
  {
   "cell_type": "raw",
   "id": "7a327414",
   "metadata": {},
   "source": [
    "# df_year['car_cat'] .replace({NaN: 'не указано'}, inplace=True)"
   ]
  },
  {
   "cell_type": "code",
   "execution_count": 104,
   "id": "c226897a",
   "metadata": {},
   "outputs": [
    {
     "data": {
      "text/plain": [
       "['Старые', 'Раритетные', 'Новые', 'Средние', NaN]\n",
       "Categories (4, object): ['Новые' < 'Средние' < 'Старые' < 'Раритетные']"
      ]
     },
     "execution_count": 104,
     "metadata": {},
     "output_type": "execute_result"
    }
   ],
   "source": [
    "df_year['car_cat'].unique()"
   ]
  },
  {
   "cell_type": "code",
   "execution_count": 105,
   "id": "d03e457e",
   "metadata": {},
   "outputs": [],
   "source": [
    "dummies = pd.get_dummies(df_year['car_cat']).astype(int)\n"
   ]
  },
  {
   "cell_type": "code",
   "execution_count": 106,
   "id": "c65e9588",
   "metadata": {},
   "outputs": [],
   "source": [
    "df_year = pd.concat([df_year, dummies], axis=1)"
   ]
  },
  {
   "cell_type": "code",
   "execution_count": 107,
   "id": "9352176d",
   "metadata": {},
   "outputs": [
    {
     "data": {
      "text/html": [
       "<div>\n",
       "<style scoped>\n",
       "    .dataframe tbody tr th:only-of-type {\n",
       "        vertical-align: middle;\n",
       "    }\n",
       "\n",
       "    .dataframe tbody tr th {\n",
       "        vertical-align: top;\n",
       "    }\n",
       "\n",
       "    .dataframe thead th {\n",
       "        text-align: right;\n",
       "    }\n",
       "</style>\n",
       "<table border=\"1\" class=\"dataframe\">\n",
       "  <thead>\n",
       "    <tr style=\"text-align: right;\">\n",
       "      <th></th>\n",
       "      <th>id</th>\n",
       "      <th>year</th>\n",
       "      <th>brand</th>\n",
       "      <th>color</th>\n",
       "      <th>model</th>\n",
       "      <th>category</th>\n",
       "      <th>category_group</th>\n",
       "      <th>transport_id</th>\n",
       "      <th>datetime</th>\n",
       "      <th>year_dtp</th>\n",
       "      <th>car_age</th>\n",
       "      <th>car_cat</th>\n",
       "      <th>Новые</th>\n",
       "      <th>Средние</th>\n",
       "      <th>Старые</th>\n",
       "      <th>Раритетные</th>\n",
       "    </tr>\n",
       "  </thead>\n",
       "  <tbody>\n",
       "    <tr>\n",
       "      <th>0</th>\n",
       "      <td>2705425</td>\n",
       "      <td>2005.0</td>\n",
       "      <td>ВАЗ</td>\n",
       "      <td>Иные цвета</td>\n",
       "      <td>ВАЗ 2115 и модификации</td>\n",
       "      <td>С-класс (малый средний, компактный) до 4,3 м</td>\n",
       "      <td>Легковые автомобили</td>\n",
       "      <td>1</td>\n",
       "      <td>2022-06-10 16:00:00</td>\n",
       "      <td>2022</td>\n",
       "      <td>17.0</td>\n",
       "      <td>Старые</td>\n",
       "      <td>0</td>\n",
       "      <td>0</td>\n",
       "      <td>1</td>\n",
       "      <td>0</td>\n",
       "    </tr>\n",
       "    <tr>\n",
       "      <th>1</th>\n",
       "      <td>2705425</td>\n",
       "      <td>2006.0</td>\n",
       "      <td>КАМАЗ</td>\n",
       "      <td>Желтый</td>\n",
       "      <td>5460</td>\n",
       "      <td>Самосвалы</td>\n",
       "      <td>Грузовые автомобили</td>\n",
       "      <td>2</td>\n",
       "      <td>2022-06-10 16:00:00</td>\n",
       "      <td>2022</td>\n",
       "      <td>16.0</td>\n",
       "      <td>Старые</td>\n",
       "      <td>0</td>\n",
       "      <td>0</td>\n",
       "      <td>1</td>\n",
       "      <td>0</td>\n",
       "    </tr>\n",
       "    <tr>\n",
       "      <th>2</th>\n",
       "      <td>2705910</td>\n",
       "      <td>1993.0</td>\n",
       "      <td>MERCEDES</td>\n",
       "      <td>Синий</td>\n",
       "      <td>C-класс</td>\n",
       "      <td>С-класс (малый средний, компактный) до 4,3 м</td>\n",
       "      <td>Легковые автомобили</td>\n",
       "      <td>1</td>\n",
       "      <td>2022-05-23 13:05:00</td>\n",
       "      <td>2022</td>\n",
       "      <td>29.0</td>\n",
       "      <td>Раритетные</td>\n",
       "      <td>0</td>\n",
       "      <td>0</td>\n",
       "      <td>0</td>\n",
       "      <td>1</td>\n",
       "    </tr>\n",
       "    <tr>\n",
       "      <th>3</th>\n",
       "      <td>2705936</td>\n",
       "      <td>2005.0</td>\n",
       "      <td>TOYOTA</td>\n",
       "      <td>Коричневый</td>\n",
       "      <td>Avensis</td>\n",
       "      <td>С-класс (малый средний, компактный) до 4,3 м</td>\n",
       "      <td>Легковые автомобили</td>\n",
       "      <td>1</td>\n",
       "      <td>2022-05-09 04:00:00</td>\n",
       "      <td>2022</td>\n",
       "      <td>17.0</td>\n",
       "      <td>Старые</td>\n",
       "      <td>0</td>\n",
       "      <td>0</td>\n",
       "      <td>1</td>\n",
       "      <td>0</td>\n",
       "    </tr>\n",
       "    <tr>\n",
       "      <th>4</th>\n",
       "      <td>2705936</td>\n",
       "      <td>2021.0</td>\n",
       "      <td>ВАЗ</td>\n",
       "      <td>Синий</td>\n",
       "      <td>Granta (Гранта)</td>\n",
       "      <td>В-класс (малый) до 3,9 м</td>\n",
       "      <td>Легковые автомобили</td>\n",
       "      <td>2</td>\n",
       "      <td>2022-05-09 04:00:00</td>\n",
       "      <td>2022</td>\n",
       "      <td>1.0</td>\n",
       "      <td>Новые</td>\n",
       "      <td>1</td>\n",
       "      <td>0</td>\n",
       "      <td>0</td>\n",
       "      <td>0</td>\n",
       "    </tr>\n",
       "  </tbody>\n",
       "</table>\n",
       "</div>"
      ],
      "text/plain": [
       "        id    year     brand       color                   model  \\\n",
       "0  2705425  2005.0       ВАЗ  Иные цвета  ВАЗ 2115 и модификации   \n",
       "1  2705425  2006.0     КАМАЗ      Желтый                    5460   \n",
       "2  2705910  1993.0  MERCEDES       Синий                 C-класс   \n",
       "3  2705936  2005.0    TOYOTA  Коричневый                 Avensis   \n",
       "4  2705936  2021.0       ВАЗ       Синий         Granta (Гранта)   \n",
       "\n",
       "                                       category       category_group  \\\n",
       "0  С-класс (малый средний, компактный) до 4,3 м  Легковые автомобили   \n",
       "1                                     Самосвалы  Грузовые автомобили   \n",
       "2  С-класс (малый средний, компактный) до 4,3 м  Легковые автомобили   \n",
       "3  С-класс (малый средний, компактный) до 4,3 м  Легковые автомобили   \n",
       "4                      В-класс (малый) до 3,9 м  Легковые автомобили   \n",
       "\n",
       "   transport_id            datetime  year_dtp  car_age     car_cat  Новые  \\\n",
       "0             1 2022-06-10 16:00:00      2022     17.0      Старые      0   \n",
       "1             2 2022-06-10 16:00:00      2022     16.0      Старые      0   \n",
       "2             1 2022-05-23 13:05:00      2022     29.0  Раритетные      0   \n",
       "3             1 2022-05-09 04:00:00      2022     17.0      Старые      0   \n",
       "4             2 2022-05-09 04:00:00      2022      1.0       Новые      1   \n",
       "\n",
       "   Средние  Старые  Раритетные  \n",
       "0        0       1           0  \n",
       "1        0       1           0  \n",
       "2        0       0           1  \n",
       "3        0       1           0  \n",
       "4        0       0           0  "
      ]
     },
     "execution_count": 107,
     "metadata": {},
     "output_type": "execute_result"
    }
   ],
   "source": [
    "df_year.head()"
   ]
  },
  {
   "cell_type": "code",
   "execution_count": 108,
   "id": "f071fbe0",
   "metadata": {
    "scrolled": true
   },
   "outputs": [
    {
     "data": {
      "text/plain": [
       "Index                  132\n",
       "id                17861304\n",
       "year              17861304\n",
       "brand             17861304\n",
       "color             17861304\n",
       "model             17861304\n",
       "category          17861304\n",
       "category_group    17861304\n",
       "transport_id      17861304\n",
       "datetime          17861304\n",
       "year_dtp           8930652\n",
       "car_age           17861304\n",
       "car_cat            2232867\n",
       "Новые              8930652\n",
       "Средние            8930652\n",
       "Старые             8930652\n",
       "Раритетные         8930652\n",
       "dtype: int64"
      ]
     },
     "execution_count": 108,
     "metadata": {},
     "output_type": "execute_result"
    }
   ],
   "source": [
    "df_year.memory_usage()"
   ]
  },
  {
   "cell_type": "code",
   "execution_count": 109,
   "id": "a874a999",
   "metadata": {},
   "outputs": [
    {
     "data": {
      "text/plain": [
       "car_cat\n",
       "Старые        0.392745\n",
       "Средние       0.384095\n",
       "Новые         0.169901\n",
       "Раритетные    0.053259\n",
       "Name: proportion, dtype: float64"
      ]
     },
     "execution_count": 109,
     "metadata": {},
     "output_type": "execute_result"
    }
   ],
   "source": [
    "df_year['car_cat'].value_counts(normalize=True)"
   ]
  },
  {
   "cell_type": "code",
   "execution_count": 110,
   "id": "87767002",
   "metadata": {},
   "outputs": [
    {
     "data": {
      "text/html": [
       "<div>\n",
       "<style scoped>\n",
       "    .dataframe tbody tr th:only-of-type {\n",
       "        vertical-align: middle;\n",
       "    }\n",
       "\n",
       "    .dataframe tbody tr th {\n",
       "        vertical-align: top;\n",
       "    }\n",
       "\n",
       "    .dataframe thead th {\n",
       "        text-align: right;\n",
       "    }\n",
       "</style>\n",
       "<table border=\"1\" class=\"dataframe\">\n",
       "  <thead>\n",
       "    <tr style=\"text-align: right;\">\n",
       "      <th></th>\n",
       "      <th>car_cat</th>\n",
       "      <th>id</th>\n",
       "    </tr>\n",
       "  </thead>\n",
       "  <tbody>\n",
       "    <tr>\n",
       "      <th>0</th>\n",
       "      <td>Новые</td>\n",
       "      <td>362165</td>\n",
       "    </tr>\n",
       "    <tr>\n",
       "      <th>1</th>\n",
       "      <td>Средние</td>\n",
       "      <td>818747</td>\n",
       "    </tr>\n",
       "    <tr>\n",
       "      <th>2</th>\n",
       "      <td>Старые</td>\n",
       "      <td>837186</td>\n",
       "    </tr>\n",
       "    <tr>\n",
       "      <th>3</th>\n",
       "      <td>Раритетные</td>\n",
       "      <td>113528</td>\n",
       "    </tr>\n",
       "  </tbody>\n",
       "</table>\n",
       "</div>"
      ],
      "text/plain": [
       "      car_cat      id\n",
       "0       Новые  362165\n",
       "1     Средние  818747\n",
       "2      Старые  837186\n",
       "3  Раритетные  113528"
      ]
     },
     "execution_count": 110,
     "metadata": {},
     "output_type": "execute_result"
    }
   ],
   "source": [
    "a =df_year.groupby('car_cat')['id'].count().reset_index()\n",
    "a"
   ]
  },
  {
   "cell_type": "code",
   "execution_count": 216,
   "id": "c325dde5",
   "metadata": {},
   "outputs": [
    {
     "data": {
      "text/plain": [
       "<matplotlib.legend.Legend at 0x258d8937750>"
      ]
     },
     "execution_count": 216,
     "metadata": {},
     "output_type": "execute_result"
    },
    {
     "data": {
      "image/png": "[encoded data removed]",
      "text/plain": [
       "<Figure size 600x600 with 1 Axes>"
      ]
     },
     "metadata": {},
     "output_type": "display_data"
    }
   ],
   "source": [
    "colors = sns.color_palette('pastel')[ 0:4 ]\n",
    "a.plot(kind='pie',figsize=(6,6), y= 'id', labels=a.car_cat,autopct='%1.1f%%',fontsize = 15,colors=colors)\n",
    "\n",
    "plt.title(\"Распределение ТС по возрасту\",fontsize= 16)\n",
    "plt.legend(bbox_to_anchor=(1, 1), loc='upper left')"
   ]
  },
  {
   "cell_type": "markdown",
   "id": "2a508e50",
   "metadata": {},
   "source": [
    "Действительно,автомобили новые(1-3 года) попадают в аварию в 17%  отмеченных случаях.Но надо понимать еще, что и доля новых автомобилей значительно меньше.И средний возраст автомобилей в России на 2023 год состалял 15 лет.Да и возраст  не всегда отражет точно состояние ТС.На это оказывают влияние еще множество факторов."
   ]
  },
  {
   "cell_type": "markdown",
   "id": "4ed35757",
   "metadata": {},
   "source": [
    "В дальнейшем можно посмотреть долю смертельных случаев по этим категориям.Это проще будет показать на дашборде."
   ]
  },
  {
   "cell_type": "markdown",
   "id": "42eea831",
   "metadata": {},
   "source": [
    "### Наблюдается ли сезонность в ДТП?"
   ]
  },
  {
   "cell_type": "code",
   "execution_count": 111,
   "id": "2b65fa09",
   "metadata": {},
   "outputs": [
    {
     "data": {
      "image/png": "[encoded data removed]",
      "text/plain": [
       "<Figure size 2000x1000 with 1 Axes>"
      ]
     },
     "metadata": {},
     "output_type": "display_data"
    }
   ],
   "source": [
    "# Посмотрим число ДТП по месяцам.\n",
    "\n",
    "base_plot = df_base3['datetime'].dt.to_period(\"M\").sort_values().value_counts(\n",
    "    sort=False)\n",
    "base_plot.plot(kind='bar', grid=True, figsize=[20, 10],color = 'green')\n",
    "plt.title('Динамика ДТП по России за 2015-2024 гг.')\n",
    "plt.xlabel('Месяц, год')\n",
    "plt.ylabel('Число ДТП');"
   ]
  },
  {
   "cell_type": "markdown",
   "id": "b95b1c5e",
   "metadata": {},
   "source": [
    "Да, явно видно что больше ДТП происходит в летние месяцы.И заметим, что есть тенденция к снижению ДТП с каждым годом.А самое низкое похоже набдюдалось в апреле 2020г(локдаун во время начала пандемии)"
   ]
  },
  {
   "cell_type": "markdown",
   "id": "dd69c060",
   "metadata": {},
   "source": [
    "### В последнее время участились случаи ДТП с участием персональных электрических средств передвижения малой мощности(электросамокатов и т.п.)?"
   ]
  },
  {
   "cell_type": "code",
   "execution_count": 113,
   "id": "3f59d592",
   "metadata": {},
   "outputs": [],
   "source": [
    "df_el = df_year.loc[df_year['category_group'] == 'Электросамокаты+']"
   ]
  },
  {
   "cell_type": "code",
   "execution_count": 114,
   "id": "ef80d5e4",
   "metadata": {},
   "outputs": [
    {
     "data": {
      "text/html": [
       "<div>\n",
       "<style scoped>\n",
       "    .dataframe tbody tr th:only-of-type {\n",
       "        vertical-align: middle;\n",
       "    }\n",
       "\n",
       "    .dataframe tbody tr th {\n",
       "        vertical-align: top;\n",
       "    }\n",
       "\n",
       "    .dataframe thead th {\n",
       "        text-align: right;\n",
       "    }\n",
       "</style>\n",
       "<table border=\"1\" class=\"dataframe\">\n",
       "  <thead>\n",
       "    <tr style=\"text-align: right;\">\n",
       "      <th></th>\n",
       "      <th>id</th>\n",
       "      <th>year</th>\n",
       "      <th>brand</th>\n",
       "      <th>color</th>\n",
       "      <th>model</th>\n",
       "      <th>category</th>\n",
       "      <th>category_group</th>\n",
       "      <th>transport_id</th>\n",
       "      <th>datetime</th>\n",
       "      <th>year_dtp</th>\n",
       "      <th>car_age</th>\n",
       "      <th>car_cat</th>\n",
       "      <th>Новые</th>\n",
       "      <th>Средние</th>\n",
       "      <th>Старые</th>\n",
       "      <th>Раритетные</th>\n",
       "    </tr>\n",
       "  </thead>\n",
       "  <tbody>\n",
       "    <tr>\n",
       "      <th>283</th>\n",
       "      <td>2616228</td>\n",
       "      <td>NaN</td>\n",
       "      <td>не указано</td>\n",
       "      <td>Черный</td>\n",
       "      <td>не указано</td>\n",
       "      <td>Персональное электрическое средство передвижен...</td>\n",
       "      <td>Электросамокаты+</td>\n",
       "      <td>1</td>\n",
       "      <td>2021-06-19 06:00:00</td>\n",
       "      <td>2021</td>\n",
       "      <td>NaN</td>\n",
       "      <td>NaN</td>\n",
       "      <td>0</td>\n",
       "      <td>0</td>\n",
       "      <td>0</td>\n",
       "      <td>0</td>\n",
       "    </tr>\n",
       "    <tr>\n",
       "      <th>8145</th>\n",
       "      <td>2826044</td>\n",
       "      <td>NaN</td>\n",
       "      <td>не указано</td>\n",
       "      <td>Черный</td>\n",
       "      <td>не указано</td>\n",
       "      <td>Персональное электрическое средство передвижен...</td>\n",
       "      <td>Электросамокаты+</td>\n",
       "      <td>1</td>\n",
       "      <td>2023-03-16 18:00:00</td>\n",
       "      <td>2023</td>\n",
       "      <td>NaN</td>\n",
       "      <td>NaN</td>\n",
       "      <td>0</td>\n",
       "      <td>0</td>\n",
       "      <td>0</td>\n",
       "      <td>0</td>\n",
       "    </tr>\n",
       "    <tr>\n",
       "      <th>15642</th>\n",
       "      <td>2204852</td>\n",
       "      <td>NaN</td>\n",
       "      <td>не указано</td>\n",
       "      <td>Черный</td>\n",
       "      <td>не указано</td>\n",
       "      <td>Персональное электрическое средство передвижен...</td>\n",
       "      <td>Электросамокаты+</td>\n",
       "      <td>1</td>\n",
       "      <td>2020-07-24 15:05:00</td>\n",
       "      <td>2020</td>\n",
       "      <td>NaN</td>\n",
       "      <td>NaN</td>\n",
       "      <td>0</td>\n",
       "      <td>0</td>\n",
       "      <td>0</td>\n",
       "      <td>0</td>\n",
       "    </tr>\n",
       "    <tr>\n",
       "      <th>18735</th>\n",
       "      <td>2705410</td>\n",
       "      <td>NaN</td>\n",
       "      <td>не указано</td>\n",
       "      <td>Черный</td>\n",
       "      <td>не указано</td>\n",
       "      <td>Персональное электрическое средство передвижен...</td>\n",
       "      <td>Электросамокаты+</td>\n",
       "      <td>1</td>\n",
       "      <td>2022-06-21 18:05:00</td>\n",
       "      <td>2022</td>\n",
       "      <td>NaN</td>\n",
       "      <td>NaN</td>\n",
       "      <td>0</td>\n",
       "      <td>0</td>\n",
       "      <td>0</td>\n",
       "      <td>0</td>\n",
       "    </tr>\n",
       "    <tr>\n",
       "      <th>26170</th>\n",
       "      <td>2879031</td>\n",
       "      <td>NaN</td>\n",
       "      <td>не указано</td>\n",
       "      <td>Черный</td>\n",
       "      <td>не указано</td>\n",
       "      <td>Персональное электрическое средство передвижен...</td>\n",
       "      <td>Электросамокаты+</td>\n",
       "      <td>2</td>\n",
       "      <td>2023-08-16 15:35:00</td>\n",
       "      <td>2023</td>\n",
       "      <td>NaN</td>\n",
       "      <td>NaN</td>\n",
       "      <td>0</td>\n",
       "      <td>0</td>\n",
       "      <td>0</td>\n",
       "      <td>0</td>\n",
       "    </tr>\n",
       "    <tr>\n",
       "      <th>...</th>\n",
       "      <td>...</td>\n",
       "      <td>...</td>\n",
       "      <td>...</td>\n",
       "      <td>...</td>\n",
       "      <td>...</td>\n",
       "      <td>...</td>\n",
       "      <td>...</td>\n",
       "      <td>...</td>\n",
       "      <td>...</td>\n",
       "      <td>...</td>\n",
       "      <td>...</td>\n",
       "      <td>...</td>\n",
       "      <td>...</td>\n",
       "      <td>...</td>\n",
       "      <td>...</td>\n",
       "      <td>...</td>\n",
       "    </tr>\n",
       "    <tr>\n",
       "      <th>2202164</th>\n",
       "      <td>2488504</td>\n",
       "      <td>NaN</td>\n",
       "      <td>не указано</td>\n",
       "      <td>Черный</td>\n",
       "      <td>не указано</td>\n",
       "      <td>Персональное электрическое средство передвижен...</td>\n",
       "      <td>Электросамокаты+</td>\n",
       "      <td>2</td>\n",
       "      <td>2020-09-13 13:45:00</td>\n",
       "      <td>2020</td>\n",
       "      <td>NaN</td>\n",
       "      <td>NaN</td>\n",
       "      <td>0</td>\n",
       "      <td>0</td>\n",
       "      <td>0</td>\n",
       "      <td>0</td>\n",
       "    </tr>\n",
       "    <tr>\n",
       "      <th>2202224</th>\n",
       "      <td>2253949</td>\n",
       "      <td>NaN</td>\n",
       "      <td>не указано</td>\n",
       "      <td>Черный</td>\n",
       "      <td>не указано</td>\n",
       "      <td>Персональное электрическое средство передвижен...</td>\n",
       "      <td>Электросамокаты+</td>\n",
       "      <td>1</td>\n",
       "      <td>2020-07-18 17:10:00</td>\n",
       "      <td>2020</td>\n",
       "      <td>NaN</td>\n",
       "      <td>NaN</td>\n",
       "      <td>0</td>\n",
       "      <td>0</td>\n",
       "      <td>0</td>\n",
       "      <td>0</td>\n",
       "    </tr>\n",
       "    <tr>\n",
       "      <th>2221168</th>\n",
       "      <td>2758223</td>\n",
       "      <td>NaN</td>\n",
       "      <td>не указано</td>\n",
       "      <td>Многоцветный</td>\n",
       "      <td>не указано</td>\n",
       "      <td>Персональное электрическое средство передвижен...</td>\n",
       "      <td>Электросамокаты+</td>\n",
       "      <td>1</td>\n",
       "      <td>2022-09-26 13:40:00</td>\n",
       "      <td>2022</td>\n",
       "      <td>NaN</td>\n",
       "      <td>NaN</td>\n",
       "      <td>0</td>\n",
       "      <td>0</td>\n",
       "      <td>0</td>\n",
       "      <td>0</td>\n",
       "    </tr>\n",
       "    <tr>\n",
       "      <th>2221188</th>\n",
       "      <td>2758230</td>\n",
       "      <td>NaN</td>\n",
       "      <td>не указано</td>\n",
       "      <td>Черный</td>\n",
       "      <td>не указано</td>\n",
       "      <td>Персональное электрическое средство передвижен...</td>\n",
       "      <td>Электросамокаты+</td>\n",
       "      <td>2</td>\n",
       "      <td>2022-09-18 14:55:00</td>\n",
       "      <td>2022</td>\n",
       "      <td>NaN</td>\n",
       "      <td>NaN</td>\n",
       "      <td>0</td>\n",
       "      <td>0</td>\n",
       "      <td>0</td>\n",
       "      <td>0</td>\n",
       "    </tr>\n",
       "    <tr>\n",
       "      <th>2221623</th>\n",
       "      <td>2758254</td>\n",
       "      <td>NaN</td>\n",
       "      <td>не указано</td>\n",
       "      <td>Многоцветный</td>\n",
       "      <td>не указано</td>\n",
       "      <td>Персональное электрическое средство передвижен...</td>\n",
       "      <td>Электросамокаты+</td>\n",
       "      <td>2</td>\n",
       "      <td>2022-09-11 12:30:00</td>\n",
       "      <td>2022</td>\n",
       "      <td>NaN</td>\n",
       "      <td>NaN</td>\n",
       "      <td>0</td>\n",
       "      <td>0</td>\n",
       "      <td>0</td>\n",
       "      <td>0</td>\n",
       "    </tr>\n",
       "  </tbody>\n",
       "</table>\n",
       "<p>1701 rows × 16 columns</p>\n",
       "</div>"
      ],
      "text/plain": [
       "              id  year       brand         color       model  \\\n",
       "283      2616228   NaN  не указано        Черный  не указано   \n",
       "8145     2826044   NaN  не указано        Черный  не указано   \n",
       "15642    2204852   NaN  не указано        Черный  не указано   \n",
       "18735    2705410   NaN  не указано        Черный  не указано   \n",
       "26170    2879031   NaN  не указано        Черный  не указано   \n",
       "...          ...   ...         ...           ...         ...   \n",
       "2202164  2488504   NaN  не указано        Черный  не указано   \n",
       "2202224  2253949   NaN  не указано        Черный  не указано   \n",
       "2221168  2758223   NaN  не указано  Многоцветный  не указано   \n",
       "2221188  2758230   NaN  не указано        Черный  не указано   \n",
       "2221623  2758254   NaN  не указано  Многоцветный  не указано   \n",
       "\n",
       "                                                  category    category_group  \\\n",
       "283      Персональное электрическое средство передвижен...  Электросамокаты+   \n",
       "8145     Персональное электрическое средство передвижен...  Электросамокаты+   \n",
       "15642    Персональное электрическое средство передвижен...  Электросамокаты+   \n",
       "18735    Персональное электрическое средство передвижен...  Электросамокаты+   \n",
       "26170    Персональное электрическое средство передвижен...  Электросамокаты+   \n",
       "...                                                    ...               ...   \n",
       "2202164  Персональное электрическое средство передвижен...  Электросамокаты+   \n",
       "2202224  Персональное электрическое средство передвижен...  Электросамокаты+   \n",
       "2221168  Персональное электрическое средство передвижен...  Электросамокаты+   \n",
       "2221188  Персональное электрическое средство передвижен...  Электросамокаты+   \n",
       "2221623  Персональное электрическое средство передвижен...  Электросамокаты+   \n",
       "\n",
       "         transport_id            datetime  year_dtp  car_age car_cat  Новые  \\\n",
       "283                 1 2021-06-19 06:00:00      2021      NaN     NaN      0   \n",
       "8145                1 2023-03-16 18:00:00      2023      NaN     NaN      0   \n",
       "15642               1 2020-07-24 15:05:00      2020      NaN     NaN      0   \n",
       "18735               1 2022-06-21 18:05:00      2022      NaN     NaN      0   \n",
       "26170               2 2023-08-16 15:35:00      2023      NaN     NaN      0   \n",
       "...               ...                 ...       ...      ...     ...    ...   \n",
       "2202164             2 2020-09-13 13:45:00      2020      NaN     NaN      0   \n",
       "2202224             1 2020-07-18 17:10:00      2020      NaN     NaN      0   \n",
       "2221168             1 2022-09-26 13:40:00      2022      NaN     NaN      0   \n",
       "2221188             2 2022-09-18 14:55:00      2022      NaN     NaN      0   \n",
       "2221623             2 2022-09-11 12:30:00      2022      NaN     NaN      0   \n",
       "\n",
       "         Средние  Старые  Раритетные  \n",
       "283            0       0           0  \n",
       "8145           0       0           0  \n",
       "15642          0       0           0  \n",
       "18735          0       0           0  \n",
       "26170          0       0           0  \n",
       "...          ...     ...         ...  \n",
       "2202164        0       0           0  \n",
       "2202224        0       0           0  \n",
       "2221168        0       0           0  \n",
       "2221188        0       0           0  \n",
       "2221623        0       0           0  \n",
       "\n",
       "[1701 rows x 16 columns]"
      ]
     },
     "execution_count": 114,
     "metadata": {},
     "output_type": "execute_result"
    }
   ],
   "source": [
    "df_el"
   ]
  },
  {
   "cell_type": "code",
   "execution_count": 115,
   "id": "cacfcda1",
   "metadata": {},
   "outputs": [
    {
     "data": {
      "image/png": "[encoded data removed]",
      "text/plain": [
       "<Figure size 2000x1000 with 1 Axes>"
      ]
     },
     "metadata": {},
     "output_type": "display_data"
    }
   ],
   "source": [
    "# Посмотрим число ДТП по месяцам.\n",
    "\n",
    "el_plot = df_el['datetime'].dt.to_period(\"M\").sort_values().value_counts(\n",
    "    sort=False)\n",
    "el_plot.plot(kind='bar', grid=True, figsize=[20, 10],color = 'green')\n",
    "plt.title('Динамика ДТП по России за 2015-2024 гг.c участием персональных электрических средств передвижения малой мощности')\n",
    "plt.xlabel('Месяц, год')\n",
    "plt.ylabel('Число ДТП');"
   ]
  },
  {
   "cell_type": "code",
   "execution_count": 116,
   "id": "b0c6b1b9",
   "metadata": {},
   "outputs": [],
   "source": [
    "df_base4 = pd.read_csv('base_31.csv',usecols= ['id','datetime','severity','Велосипедисты','Все участники','Дети','Мотоциклисты','Общ. транспорт','Пешеходы']).reset_index(drop = True)"
   ]
  },
  {
   "cell_type": "code",
   "execution_count": 117,
   "id": "99e4069d",
   "metadata": {},
   "outputs": [],
   "source": [
    "df_el_1 =df_el[['id','category_group','year_dtp']]"
   ]
  },
  {
   "cell_type": "code",
   "execution_count": 118,
   "id": "566ce43b",
   "metadata": {},
   "outputs": [
    {
     "data": {
      "text/html": [
       "<div>\n",
       "<style scoped>\n",
       "    .dataframe tbody tr th:only-of-type {\n",
       "        vertical-align: middle;\n",
       "    }\n",
       "\n",
       "    .dataframe tbody tr th {\n",
       "        vertical-align: top;\n",
       "    }\n",
       "\n",
       "    .dataframe thead th {\n",
       "        text-align: right;\n",
       "    }\n",
       "</style>\n",
       "<table border=\"1\" class=\"dataframe\">\n",
       "  <thead>\n",
       "    <tr style=\"text-align: right;\">\n",
       "      <th></th>\n",
       "      <th>id</th>\n",
       "      <th>datetime</th>\n",
       "      <th>severity</th>\n",
       "      <th>Велосипедисты</th>\n",
       "      <th>Все участники</th>\n",
       "      <th>Дети</th>\n",
       "      <th>Мотоциклисты</th>\n",
       "      <th>Общ. транспорт</th>\n",
       "      <th>Пешеходы</th>\n",
       "      <th>category_group</th>\n",
       "      <th>year_dtp</th>\n",
       "    </tr>\n",
       "  </thead>\n",
       "  <tbody>\n",
       "    <tr>\n",
       "      <th>0</th>\n",
       "      <td>2616228</td>\n",
       "      <td>2021-06-19 06:00:00</td>\n",
       "      <td>Легкий</td>\n",
       "      <td>0</td>\n",
       "      <td>1</td>\n",
       "      <td>0</td>\n",
       "      <td>0</td>\n",
       "      <td>0</td>\n",
       "      <td>1</td>\n",
       "      <td>Электросамокаты+</td>\n",
       "      <td>2021</td>\n",
       "    </tr>\n",
       "    <tr>\n",
       "      <th>1</th>\n",
       "      <td>2826044</td>\n",
       "      <td>2023-03-16 18:00:00</td>\n",
       "      <td>Тяжёлый</td>\n",
       "      <td>0</td>\n",
       "      <td>1</td>\n",
       "      <td>0</td>\n",
       "      <td>0</td>\n",
       "      <td>0</td>\n",
       "      <td>1</td>\n",
       "      <td>Электросамокаты+</td>\n",
       "      <td>2023</td>\n",
       "    </tr>\n",
       "    <tr>\n",
       "      <th>2</th>\n",
       "      <td>2204852</td>\n",
       "      <td>2020-07-24 15:05:00</td>\n",
       "      <td>Тяжёлый</td>\n",
       "      <td>0</td>\n",
       "      <td>1</td>\n",
       "      <td>0</td>\n",
       "      <td>0</td>\n",
       "      <td>0</td>\n",
       "      <td>1</td>\n",
       "      <td>Электросамокаты+</td>\n",
       "      <td>2020</td>\n",
       "    </tr>\n",
       "    <tr>\n",
       "      <th>3</th>\n",
       "      <td>2705410</td>\n",
       "      <td>2022-06-21 18:05:00</td>\n",
       "      <td>Тяжёлый</td>\n",
       "      <td>0</td>\n",
       "      <td>1</td>\n",
       "      <td>0</td>\n",
       "      <td>0</td>\n",
       "      <td>0</td>\n",
       "      <td>1</td>\n",
       "      <td>Электросамокаты+</td>\n",
       "      <td>2022</td>\n",
       "    </tr>\n",
       "    <tr>\n",
       "      <th>4</th>\n",
       "      <td>2879031</td>\n",
       "      <td>2023-08-16 15:35:00</td>\n",
       "      <td>Тяжёлый</td>\n",
       "      <td>0</td>\n",
       "      <td>1</td>\n",
       "      <td>0</td>\n",
       "      <td>0</td>\n",
       "      <td>0</td>\n",
       "      <td>1</td>\n",
       "      <td>Электросамокаты+</td>\n",
       "      <td>2023</td>\n",
       "    </tr>\n",
       "    <tr>\n",
       "      <th>...</th>\n",
       "      <td>...</td>\n",
       "      <td>...</td>\n",
       "      <td>...</td>\n",
       "      <td>...</td>\n",
       "      <td>...</td>\n",
       "      <td>...</td>\n",
       "      <td>...</td>\n",
       "      <td>...</td>\n",
       "      <td>...</td>\n",
       "      <td>...</td>\n",
       "      <td>...</td>\n",
       "    </tr>\n",
       "    <tr>\n",
       "      <th>1696</th>\n",
       "      <td>2488504</td>\n",
       "      <td>2020-09-13 13:45:00</td>\n",
       "      <td>Легкий</td>\n",
       "      <td>0</td>\n",
       "      <td>1</td>\n",
       "      <td>1</td>\n",
       "      <td>0</td>\n",
       "      <td>0</td>\n",
       "      <td>1</td>\n",
       "      <td>Электросамокаты+</td>\n",
       "      <td>2020</td>\n",
       "    </tr>\n",
       "    <tr>\n",
       "      <th>1697</th>\n",
       "      <td>2253949</td>\n",
       "      <td>2020-07-18 17:10:00</td>\n",
       "      <td>Легкий</td>\n",
       "      <td>0</td>\n",
       "      <td>1</td>\n",
       "      <td>0</td>\n",
       "      <td>0</td>\n",
       "      <td>0</td>\n",
       "      <td>1</td>\n",
       "      <td>Электросамокаты+</td>\n",
       "      <td>2020</td>\n",
       "    </tr>\n",
       "    <tr>\n",
       "      <th>1698</th>\n",
       "      <td>2758223</td>\n",
       "      <td>2022-09-26 13:40:00</td>\n",
       "      <td>Тяжёлый</td>\n",
       "      <td>0</td>\n",
       "      <td>1</td>\n",
       "      <td>0</td>\n",
       "      <td>0</td>\n",
       "      <td>0</td>\n",
       "      <td>1</td>\n",
       "      <td>Электросамокаты+</td>\n",
       "      <td>2022</td>\n",
       "    </tr>\n",
       "    <tr>\n",
       "      <th>1699</th>\n",
       "      <td>2758230</td>\n",
       "      <td>2022-09-18 14:55:00</td>\n",
       "      <td>Легкий</td>\n",
       "      <td>0</td>\n",
       "      <td>1</td>\n",
       "      <td>0</td>\n",
       "      <td>0</td>\n",
       "      <td>0</td>\n",
       "      <td>1</td>\n",
       "      <td>Электросамокаты+</td>\n",
       "      <td>2022</td>\n",
       "    </tr>\n",
       "    <tr>\n",
       "      <th>1700</th>\n",
       "      <td>2758254</td>\n",
       "      <td>2022-09-11 12:30:00</td>\n",
       "      <td>Легкий</td>\n",
       "      <td>0</td>\n",
       "      <td>1</td>\n",
       "      <td>0</td>\n",
       "      <td>0</td>\n",
       "      <td>0</td>\n",
       "      <td>1</td>\n",
       "      <td>Электросамокаты+</td>\n",
       "      <td>2022</td>\n",
       "    </tr>\n",
       "  </tbody>\n",
       "</table>\n",
       "<p>1701 rows × 11 columns</p>\n",
       "</div>"
      ],
      "text/plain": [
       "           id             datetime severity  Велосипедисты  Все участники  \\\n",
       "0     2616228  2021-06-19 06:00:00   Легкий              0              1   \n",
       "1     2826044  2023-03-16 18:00:00  Тяжёлый              0              1   \n",
       "2     2204852  2020-07-24 15:05:00  Тяжёлый              0              1   \n",
       "3     2705410  2022-06-21 18:05:00  Тяжёлый              0              1   \n",
       "4     2879031  2023-08-16 15:35:00  Тяжёлый              0              1   \n",
       "...       ...                  ...      ...            ...            ...   \n",
       "1696  2488504  2020-09-13 13:45:00   Легкий              0              1   \n",
       "1697  2253949  2020-07-18 17:10:00   Легкий              0              1   \n",
       "1698  2758223  2022-09-26 13:40:00  Тяжёлый              0              1   \n",
       "1699  2758230  2022-09-18 14:55:00   Легкий              0              1   \n",
       "1700  2758254  2022-09-11 12:30:00   Легкий              0              1   \n",
       "\n",
       "      Дети  Мотоциклисты  Общ. транспорт  Пешеходы    category_group  year_dtp  \n",
       "0        0             0               0         1  Электросамокаты+      2021  \n",
       "1        0             0               0         1  Электросамокаты+      2023  \n",
       "2        0             0               0         1  Электросамокаты+      2020  \n",
       "3        0             0               0         1  Электросамокаты+      2022  \n",
       "4        0             0               0         1  Электросамокаты+      2023  \n",
       "...    ...           ...             ...       ...               ...       ...  \n",
       "1696     1             0               0         1  Электросамокаты+      2020  \n",
       "1697     0             0               0         1  Электросамокаты+      2020  \n",
       "1698     0             0               0         1  Электросамокаты+      2022  \n",
       "1699     0             0               0         1  Электросамокаты+      2022  \n",
       "1700     0             0               0         1  Электросамокаты+      2022  \n",
       "\n",
       "[1701 rows x 11 columns]"
      ]
     },
     "execution_count": 118,
     "metadata": {},
     "output_type": "execute_result"
    }
   ],
   "source": [
    "df_m = pd.merge(df_base4,df_el_1, on='id')\n",
    "df_m"
   ]
  },
  {
   "cell_type": "code",
   "execution_count": 119,
   "id": "c05fbba3",
   "metadata": {},
   "outputs": [
    {
     "data": {
      "text/plain": [
       "1411646"
      ]
     },
     "execution_count": 119,
     "metadata": {},
     "output_type": "execute_result"
    }
   ],
   "source": [
    "len(df_base4)"
   ]
  },
  {
   "cell_type": "code",
   "execution_count": 120,
   "id": "86041e82",
   "metadata": {},
   "outputs": [
    {
     "data": {
      "text/plain": [
       "1700"
      ]
     },
     "execution_count": 120,
     "metadata": {},
     "output_type": "execute_result"
    }
   ],
   "source": [
    "len(df_m.id.unique())"
   ]
  },
  {
   "cell_type": "code",
   "execution_count": 121,
   "id": "7bec6526",
   "metadata": {},
   "outputs": [
    {
     "data": {
      "text/plain": [
       "0.1204976318425441"
      ]
     },
     "execution_count": 121,
     "metadata": {},
     "output_type": "execute_result"
    }
   ],
   "source": [
    "(len(df_m)/len(df_base4))*100"
   ]
  },
  {
   "cell_type": "markdown",
   "id": "b953d6bd",
   "metadata": {},
   "source": [
    "Доля таких происшетвий 0,12% от общего числа ДТП"
   ]
  },
  {
   "cell_type": "code",
   "execution_count": 122,
   "id": "b312b751",
   "metadata": {},
   "outputs": [
    {
     "data": {
      "image/png": "[encoded data removed]",
      "text/plain": [
       "<Figure size 800x600 with 1 Axes>"
      ]
     },
     "metadata": {},
     "output_type": "display_data"
    }
   ],
   "source": [
    "plt.figure(figsize=(8, 6))\n",
    "ax =sns.countplot(x='severity', data=df_m, palette='pastel')\n",
    "for bar in ax.patches:\n",
    "    ax.annotate(format(bar.get_height(), '.1f'),\n",
    "                (bar.get_x() + bar.get_width() / 2, bar.get_height()),\n",
    "                ha='center', va='bottom',\n",
    "                size=12, xytext=(0, 5),\n",
    "                textcoords='offset points')\n",
    "\n",
    "plt.title('Количество происшествий участием персональных электрических средств передвижения малой мощности')\n",
    "plt.xlabel('Категория ДТП')\n",
    "plt.ylabel('Количество происшествий')\n",
    "plt.show()"
   ]
  },
  {
   "cell_type": "code",
   "execution_count": 123,
   "id": "826a4564",
   "metadata": {},
   "outputs": [
    {
     "data": {
      "text/html": [
       "<div>\n",
       "<style scoped>\n",
       "    .dataframe tbody tr th:only-of-type {\n",
       "        vertical-align: middle;\n",
       "    }\n",
       "\n",
       "    .dataframe tbody tr th {\n",
       "        vertical-align: top;\n",
       "    }\n",
       "\n",
       "    .dataframe thead th {\n",
       "        text-align: right;\n",
       "    }\n",
       "</style>\n",
       "<table border=\"1\" class=\"dataframe\">\n",
       "  <thead>\n",
       "    <tr style=\"text-align: right;\">\n",
       "      <th></th>\n",
       "      <th>severity</th>\n",
       "      <th>year_dtp</th>\n",
       "      <th>id</th>\n",
       "    </tr>\n",
       "  </thead>\n",
       "  <tbody>\n",
       "    <tr>\n",
       "      <th>5</th>\n",
       "      <td>Легкий</td>\n",
       "      <td>2022</td>\n",
       "      <td>419</td>\n",
       "    </tr>\n",
       "    <tr>\n",
       "      <th>6</th>\n",
       "      <td>Легкий</td>\n",
       "      <td>2023</td>\n",
       "      <td>328</td>\n",
       "    </tr>\n",
       "    <tr>\n",
       "      <th>4</th>\n",
       "      <td>Легкий</td>\n",
       "      <td>2021</td>\n",
       "      <td>264</td>\n",
       "    </tr>\n",
       "    <tr>\n",
       "      <th>3</th>\n",
       "      <td>Легкий</td>\n",
       "      <td>2020</td>\n",
       "      <td>165</td>\n",
       "    </tr>\n",
       "    <tr>\n",
       "      <th>19</th>\n",
       "      <td>Тяжёлый</td>\n",
       "      <td>2022</td>\n",
       "      <td>120</td>\n",
       "    </tr>\n",
       "  </tbody>\n",
       "</table>\n",
       "</div>"
      ],
      "text/plain": [
       "   severity  year_dtp   id\n",
       "5    Легкий      2022  419\n",
       "6    Легкий      2023  328\n",
       "4    Легкий      2021  264\n",
       "3    Легкий      2020  165\n",
       "19  Тяжёлый      2022  120"
      ]
     },
     "execution_count": 123,
     "metadata": {},
     "output_type": "execute_result"
    }
   ],
   "source": [
    "df_m1 = df_m.pivot_table(index=['severity', 'year_dtp'], values='id', aggfunc={'id': 'nunique'}).reset_index().sort_values(by='id', ascending=False)\n",
    "df_m1.head()"
   ]
  },
  {
   "cell_type": "code",
   "execution_count": 124,
   "id": "f4c6b86f",
   "metadata": {},
   "outputs": [
    {
     "data": {
      "image/png": "[encoded data removed]",
      "text/plain": [
       "<Figure size 1800x1000 with 1 Axes>"
      ]
     },
     "metadata": {},
     "output_type": "display_data"
    }
   ],
   "source": [
    "plt.subplots(figsize = (18,10))\n",
    "sns.lineplot(x='year_dtp', y='id', hue = 'severity', data = df_m1,marker='o',linewidth=4,palette='rainbow_r')\n",
    "plt.legend(title='Сегмент', loc='upper left')\n",
    "plt.title('Количество происшествий с участием персональных электрических средств передвижения малой мощности',fontsize=20)\n",
    "plt.ylabel('Количество ДТП',fontsize=20)\n",
    "plt.xlabel('Дата',fontsize=20)\n",
    "# Добавляем текстовую подпись над каждой точкой\n",
    "for index, row in df_m1.iterrows():\n",
    "    plt.annotate(f\"{int(row['id'])}\", (row['year_dtp'], row['id']), xytext=(0, 10),\n",
    "                 textcoords='offset points', ha='center', fontsize=10)\n",
    "plt.show()"
   ]
  },
  {
   "cell_type": "code",
   "execution_count": 125,
   "id": "1035ea89",
   "metadata": {},
   "outputs": [
    {
     "data": {
      "image/png": "[encoded data removed]",
      "text/plain": [
       "<Figure size 900x900 with 1 Axes>"
      ]
     },
     "metadata": {},
     "output_type": "display_data"
    }
   ],
   "source": [
    "plt.figure(figsize=(9, 9))\n",
    "df_m[['Велосипедисты', 'Все участники', 'Дети', 'Мотоциклисты', 'Общ. транспорт', 'Пешеходы']].sum().plot(kind='pie', autopct='%1.1f%%', colors=['lightcoral', 'lightskyblue', 'lightgreen', 'lightpink', 'gold', 'lightcyan'])\n",
    "plt.title('Распределение по группам пострадавших с участием персональных электрических средств передвижения малой мощности')\n",
    "plt.show()"
   ]
  },
  {
   "cell_type": "markdown",
   "id": "90c928f4",
   "metadata": {},
   "source": [
    "Доля ДТП с участием персональных электрических средств передвижения малой мощности действительно растет с годами.Что обусловлено ростом их числа и популярности.Однако в 2023 году наметилось снижения роста числа ДТП в этой группе.Что обусловлено скорее всего влиянием закона от 1 марта 2023 года ограничивающего скорость,регламентирующего и разъясняющего права, обязанности и ответственность при пользовании этими видами ТС."
   ]
  },
  {
   "cell_type": "markdown",
   "id": "5267fc5d",
   "metadata": {},
   "source": [
    "### Выгрузка датасетов об автомобилях ."
   ]
  },
  {
   "cell_type": "code",
   "execution_count": 126,
   "id": "f5de9f63",
   "metadata": {},
   "outputs": [],
   "source": [
    "df_veh_new = df_year"
   ]
  },
  {
   "cell_type": "code",
   "execution_count": 127,
   "id": "ff1bf366",
   "metadata": {},
   "outputs": [
    {
     "data": {
      "text/html": [
       "<div>\n",
       "<style scoped>\n",
       "    .dataframe tbody tr th:only-of-type {\n",
       "        vertical-align: middle;\n",
       "    }\n",
       "\n",
       "    .dataframe tbody tr th {\n",
       "        vertical-align: top;\n",
       "    }\n",
       "\n",
       "    .dataframe thead th {\n",
       "        text-align: right;\n",
       "    }\n",
       "</style>\n",
       "<table border=\"1\" class=\"dataframe\">\n",
       "  <thead>\n",
       "    <tr style=\"text-align: right;\">\n",
       "      <th></th>\n",
       "      <th>id</th>\n",
       "      <th>year</th>\n",
       "      <th>brand</th>\n",
       "      <th>color</th>\n",
       "      <th>model</th>\n",
       "      <th>category</th>\n",
       "      <th>category_group</th>\n",
       "      <th>transport_id</th>\n",
       "      <th>datetime</th>\n",
       "      <th>year_dtp</th>\n",
       "      <th>car_age</th>\n",
       "      <th>car_cat</th>\n",
       "      <th>Новые</th>\n",
       "      <th>Средние</th>\n",
       "      <th>Старые</th>\n",
       "      <th>Раритетные</th>\n",
       "    </tr>\n",
       "  </thead>\n",
       "  <tbody>\n",
       "    <tr>\n",
       "      <th>0</th>\n",
       "      <td>2705425</td>\n",
       "      <td>2005.0</td>\n",
       "      <td>ВАЗ</td>\n",
       "      <td>Иные цвета</td>\n",
       "      <td>ВАЗ 2115 и модификации</td>\n",
       "      <td>С-класс (малый средний, компактный) до 4,3 м</td>\n",
       "      <td>Легковые автомобили</td>\n",
       "      <td>1</td>\n",
       "      <td>2022-06-10 16:00:00</td>\n",
       "      <td>2022</td>\n",
       "      <td>17.0</td>\n",
       "      <td>Старые</td>\n",
       "      <td>0</td>\n",
       "      <td>0</td>\n",
       "      <td>1</td>\n",
       "      <td>0</td>\n",
       "    </tr>\n",
       "    <tr>\n",
       "      <th>1</th>\n",
       "      <td>2705425</td>\n",
       "      <td>2006.0</td>\n",
       "      <td>КАМАЗ</td>\n",
       "      <td>Желтый</td>\n",
       "      <td>5460</td>\n",
       "      <td>Самосвалы</td>\n",
       "      <td>Грузовые автомобили</td>\n",
       "      <td>2</td>\n",
       "      <td>2022-06-10 16:00:00</td>\n",
       "      <td>2022</td>\n",
       "      <td>16.0</td>\n",
       "      <td>Старые</td>\n",
       "      <td>0</td>\n",
       "      <td>0</td>\n",
       "      <td>1</td>\n",
       "      <td>0</td>\n",
       "    </tr>\n",
       "    <tr>\n",
       "      <th>2</th>\n",
       "      <td>2705910</td>\n",
       "      <td>1993.0</td>\n",
       "      <td>MERCEDES</td>\n",
       "      <td>Синий</td>\n",
       "      <td>C-класс</td>\n",
       "      <td>С-класс (малый средний, компактный) до 4,3 м</td>\n",
       "      <td>Легковые автомобили</td>\n",
       "      <td>1</td>\n",
       "      <td>2022-05-23 13:05:00</td>\n",
       "      <td>2022</td>\n",
       "      <td>29.0</td>\n",
       "      <td>Раритетные</td>\n",
       "      <td>0</td>\n",
       "      <td>0</td>\n",
       "      <td>0</td>\n",
       "      <td>1</td>\n",
       "    </tr>\n",
       "    <tr>\n",
       "      <th>3</th>\n",
       "      <td>2705936</td>\n",
       "      <td>2005.0</td>\n",
       "      <td>TOYOTA</td>\n",
       "      <td>Коричневый</td>\n",
       "      <td>Avensis</td>\n",
       "      <td>С-класс (малый средний, компактный) до 4,3 м</td>\n",
       "      <td>Легковые автомобили</td>\n",
       "      <td>1</td>\n",
       "      <td>2022-05-09 04:00:00</td>\n",
       "      <td>2022</td>\n",
       "      <td>17.0</td>\n",
       "      <td>Старые</td>\n",
       "      <td>0</td>\n",
       "      <td>0</td>\n",
       "      <td>1</td>\n",
       "      <td>0</td>\n",
       "    </tr>\n",
       "    <tr>\n",
       "      <th>4</th>\n",
       "      <td>2705936</td>\n",
       "      <td>2021.0</td>\n",
       "      <td>ВАЗ</td>\n",
       "      <td>Синий</td>\n",
       "      <td>Granta (Гранта)</td>\n",
       "      <td>В-класс (малый) до 3,9 м</td>\n",
       "      <td>Легковые автомобили</td>\n",
       "      <td>2</td>\n",
       "      <td>2022-05-09 04:00:00</td>\n",
       "      <td>2022</td>\n",
       "      <td>1.0</td>\n",
       "      <td>Новые</td>\n",
       "      <td>1</td>\n",
       "      <td>0</td>\n",
       "      <td>0</td>\n",
       "      <td>0</td>\n",
       "    </tr>\n",
       "  </tbody>\n",
       "</table>\n",
       "</div>"
      ],
      "text/plain": [
       "        id    year     brand       color                   model  \\\n",
       "0  2705425  2005.0       ВАЗ  Иные цвета  ВАЗ 2115 и модификации   \n",
       "1  2705425  2006.0     КАМАЗ      Желтый                    5460   \n",
       "2  2705910  1993.0  MERCEDES       Синий                 C-класс   \n",
       "3  2705936  2005.0    TOYOTA  Коричневый                 Avensis   \n",
       "4  2705936  2021.0       ВАЗ       Синий         Granta (Гранта)   \n",
       "\n",
       "                                       category       category_group  \\\n",
       "0  С-класс (малый средний, компактный) до 4,3 м  Легковые автомобили   \n",
       "1                                     Самосвалы  Грузовые автомобили   \n",
       "2  С-класс (малый средний, компактный) до 4,3 м  Легковые автомобили   \n",
       "3  С-класс (малый средний, компактный) до 4,3 м  Легковые автомобили   \n",
       "4                      В-класс (малый) до 3,9 м  Легковые автомобили   \n",
       "\n",
       "   transport_id            datetime  year_dtp  car_age     car_cat  Новые  \\\n",
       "0             1 2022-06-10 16:00:00      2022     17.0      Старые      0   \n",
       "1             2 2022-06-10 16:00:00      2022     16.0      Старые      0   \n",
       "2             1 2022-05-23 13:05:00      2022     29.0  Раритетные      0   \n",
       "3             1 2022-05-09 04:00:00      2022     17.0      Старые      0   \n",
       "4             2 2022-05-09 04:00:00      2022      1.0       Новые      1   \n",
       "\n",
       "   Средние  Старые  Раритетные  \n",
       "0        0       1           0  \n",
       "1        0       1           0  \n",
       "2        0       0           1  \n",
       "3        0       1           0  \n",
       "4        0       0           0  "
      ]
     },
     "metadata": {},
     "output_type": "display_data"
    },
    {
     "name": "stdout",
     "output_type": "stream",
     "text": [
      "Колонки\n",
      "Index(['id', 'year', 'brand', 'color', 'model', 'category', 'category_group',\n",
      "       'transport_id', 'datetime', 'year_dtp', 'car_age', 'car_cat', 'Новые',\n",
      "       'Средние', 'Старые', 'Раритетные'],\n",
      "      dtype='object')\n",
      "--------------------------------------------------\n",
      "Содержимое колонок\n",
      "********************\n",
      "id\n",
      "[2705425 2705910 2705936 ... 2290797 2290545 2290298]\n",
      "1411646\n",
      "********************\n",
      "year\n",
      "[2.005e+03 2.006e+03 1.993e+03 2.021e+03 2.008e+03 1.984e+03 1.998e+03\n",
      " 2.011e+03 2.001e+03 2.010e+03 2.013e+03 2.019e+03 2.007e+03 1.987e+03\n",
      " 2.003e+03 1.999e+03 2.004e+03 2.012e+03 2.015e+03 2.017e+03 2.018e+03\n",
      " 2.020e+03 2.009e+03 2.016e+03 2.000e+03       nan 1.997e+03 1.992e+03\n",
      " 1.988e+03 2.014e+03 1.990e+03 2.002e+03 1.991e+03 1.989e+03 1.995e+03\n",
      " 1.994e+03 1.979e+03 1.986e+03 1.996e+03 2.022e+03 2.023e+03 1.983e+03\n",
      " 1.985e+03 1.981e+03 1.960e+03 1.971e+03 1.973e+03 1.974e+03 1.977e+03\n",
      " 1.975e+03 1.982e+03 1.980e+03 1.972e+03 1.978e+03 1.000e+00 1.976e+03\n",
      " 1.961e+03 1.919e+03 1.970e+03 1.968e+03 1.963e+03 2.024e+03 1.966e+03\n",
      " 1.920e+03 1.959e+03 1.957e+03 1.964e+03 1.962e+03 1.952e+03 1.965e+03\n",
      " 1.900e+03 1.969e+03 1.950e+03 1.958e+03 1.901e+03 1.967e+03 1.956e+03\n",
      " 1.910e+03 1.954e+03 1.934e+03 1.907e+03 1.949e+03 1.911e+03 1.953e+03\n",
      " 1.936e+03 1.955e+03 1.941e+03 1.937e+03 1.942e+03 1.946e+03 1.923e+03\n",
      " 1.951e+03 1.948e+03 1.928e+03 1.909e+03 1.918e+03]\n",
      "95\n",
      "********************\n",
      "brand\n",
      "['ВАЗ' 'КАМАЗ' 'MERCEDES' 'TOYOTA' 'SUZUKI' 'FORD' 'LIFAN' 'CHERY' 'ГАЗ'\n",
      " 'RENAULT' 'VOLKSWAGEN' 'УАЗ' 'MITSUBISHI' 'PEUGEOT' 'KIA' 'DAEWOO'\n",
      " 'HYUNDAI' 'Прочие марки ТС' 'HONDA' 'CHEVROLET' 'VOLVO' 'не указано'\n",
      " 'GEELY' 'OPEL' 'BMW' 'LEXUS' 'Datsun' 'MAZDA' 'YAMAHA' 'DAIMLER'\n",
      " 'FREIGHTLINER' 'LAND ROVER' 'MAN' 'ЗАЗ' 'NISSAN' 'PUCH' 'FIAT' 'SKODA'\n",
      " 'MOTOTRANS' 'SCANIA' 'FAW' 'DONG FENG' 'AUDI' 'DAF' 'SUBARU' 'ПАЗ'\n",
      " 'HUMMER' 'SSANGYONG' 'RAVON' 'ИЖ' 'KTM' 'DUCATI' 'HOWO' 'ЛУИДОР' 'МАЗ'\n",
      " 'FOTON' 'ЗИЛ' 'Прочие марки мотоциклов' 'МАЗ-МАН' 'HAIMA' 'CITROEN'\n",
      " 'ТАГАЗ (TAGAZ)' 'GREAT WALL' 'УРАЛ' 'BSA' 'MARUTI'\n",
      " 'Прочие марки строительной техники' 'SHAANXI' 'ISUZU' 'ВИС' 'DAIHATSU'\n",
      " 'ACURA' 'MINI' 'KAWASAKI' 'IVECO' 'INFINITI' 'SAAB' 'HARLEY-DAVIDSON'\n",
      " 'JEEP' 'МОСКВИЧ' 'Прочие марки седельных тягачей' 'HIGER' 'КРАЗ' 'DODGE'\n",
      " 'TRIUMPH' 'MTT' 'ЛИАЗ' 'Прочие марки грузовых ТС' 'VOR' 'DNEPR' 'RONART'\n",
      " 'AC' 'Прочие марки легковых ТС' 'ВОСХОД' 'BYD' 'CHANGAN' 'DONINVEST'\n",
      " 'PORSCHE' 'JIANGHUAI' 'HOLDEN' 'IRISBUS' 'SRECTRE' 'КАВЗ' 'APRILIA'\n",
      " 'DERBI' 'ЗИД' 'MOTOLEVO' 'PLYMOUTH' 'NEOPLAN' 'BIMOTA' 'DERWAYS'\n",
      " 'VICTORY' 'SETRA' 'LANCIA' 'JAWA' 'LINCOLN' 'CHRYSLER' 'BAW' 'CADILLAC'\n",
      " 'BENELLI' 'SHACMAN' 'ZX' 'KING LONG' 'JAGUAR' 'CHANG-JIANG' 'BETA'\n",
      " 'ZOTYE' 'HYOSUNG' 'DACIA' 'НефАЗ' 'ROVER' 'INVICTA' 'MINSK' 'YUTONG'\n",
      " 'KOENIGSEGG' 'BEDFORD' 'MOTO GUZZI' 'HAVAL' 'BEIJING' 'VOXAN' 'БОГДАН'\n",
      " 'SEAZ' 'Прочие марки автобусов' 'PETERBILT' 'JAC' 'TOMOTO' 'KENWORTH'\n",
      " 'DONGHAI' 'MM' 'GOLDEN DRAGON' 'JAWA-CZ' 'HINDUSTAN' 'PONTIAC' 'KANGDA'\n",
      " 'STERLING' 'JIANGLING' 'GAS GAS' 'TULA' 'DE TOMASO' 'KYMCO' 'SHEN LONG'\n",
      " 'IKARUS' 'BEIFAN' 'HONLING' 'ALPINA' 'MAICO' 'ГОЛАЗ' 'KINLON MOTORS'\n",
      " 'SEAT' 'BUICK' 'REIEJU' 'HOREX' 'LDV' 'ASTRA' 'KANUNI' 'MORRIS' 'HAFEI'\n",
      " 'SVM' 'VAN VEEN' 'RELIANT' 'SYM' 'ABM' 'JIANSHE-YAMAHA' 'ZONDA' 'CCM'\n",
      " 'Прочие марки легких коммерческих ТС' 'MAHINDRA' 'LOTUS' 'MERCURY' 'CZ'\n",
      " 'IKCO' 'БАЗ' 'BENTLEY' 'SMART' 'MARCOS' 'VESPA' 'GMC' 'REGAL RAPTOR'\n",
      " 'MOTOBI' 'NORTON' 'DUCAR' 'FORSAGE' 'FANTIC' 'BRILLIANCE' 'YANGTZE'\n",
      " 'TOMOS' 'ALFER' 'KEEWAY' 'SPYKER' 'FOSTI' 'VAUXHALL'\n",
      " 'Прочие марки автокранов' 'WESTFIELD' 'CONFEDERATE' 'DADI' 'PAYKAN' 'ЛАЗ'\n",
      " 'MG' 'ATK' 'AJP' 'SHUANGHUAN' 'TROLL' 'ALFA ROMEO' 'ASIA' 'BAJAJ'\n",
      " 'ZASTAVA' 'ROLLS-ROYCE' 'DEFIANT' 'CHANG FENG' 'HUSQVARNA' 'RAJDOOT'\n",
      " 'TATA' 'MALAGUTI' 'BUELL' 'BM' 'MV AGUSTA' 'SCION' 'TOFAS' 'CPI'\n",
      " 'LIEBHERR' 'ASTON MARTIN' 'OLDSMOBILE' 'GEO' 'MEGA' 'SACHS' 'XINGFU'\n",
      " 'VECTOR' 'WARTBURG' 'MOTO MORINI' 'OSSA' 'SHUCHI' 'ITALJET' 'MONDIAL'\n",
      " 'TESLA' 'TATRA' 'COGGIOLA' 'MUDAN' 'SATURN' 'YUEJIN' 'SIAMOTO' 'JINBEI'\n",
      " 'VW-PORSCHE' 'HIGHLAND' 'PAGANI' 'VENTURI' 'CATERHAM' 'DKW' 'INNOCENTI'\n",
      " 'ADMIRAL' 'LTI' 'INDIAN' 'BARKAS' 'TIANMA' 'HARTFORD' 'BOVA' 'TERBERG'\n",
      " 'MINI (P)' 'PANOZ' 'BLONELL' 'LAVERDA' 'SOLO' 'G&G' 'XIN KAI' 'FUQI'\n",
      " 'PANONIA' 'GILERA' 'KRAMIT' 'ALPINE' 'HUABEI' 'MBK' 'PGO' 'LAMBORGHINI'\n",
      " 'MZ' 'MBS' 'SANGLAS' 'SIMSON' 'BORILE' 'MOTORHISPANIA' 'FERRARI'\n",
      " 'BERTONE' 'TITAN' 'ROXON' 'ENFIELD' 'TVR' 'MASERATI' 'NOBLE' 'KREIDLER'\n",
      " 'JINCHENG' 'BMC' 'SALEEN' 'AERMACCHI' 'SCEO' 'MALANCA' 'MAGNI' 'SAMSUNG'\n",
      " 'ZWEIRAD-UNION' 'VERTEMATI' 'СимАЗ' 'WIESMANN' 'MCC' 'MUZ' 'ISDERA' 'ARO'\n",
      " 'ZUNDAPP' 'PROTON' 'MIDUAL' 'FSO' 'MINELLI' 'MONTESA' 'DAELIM' 'CAGIVA'\n",
      " 'TRABANT' 'HERCULES' 'QVALE' 'BULTACO' 'DE LOREAN' 'SOUEAST' 'MORGAN'\n",
      " 'FACTIRY BIKE' 'DONKERVOORT' 'CIZETA' 'EAGLE' 'TONGGONG' 'HUSABERG'\n",
      " 'BRISTOL' 'PRAGA' 'AMAZONAS' 'PREMIER' 'MITSUOKA' 'DALLAS' 'METROCAB'\n",
      " 'MC LAREN' 'DANDY' 'AUTOBIANCHI' 'PUMA' 'BOSS HOSS' 'SHERCO' 'MUNCH'\n",
      " 'AUSTIN' 'PERODUA' 'TIANYE' 'TALBOT' 'IRMSCHER' 'AURUS' 'BITTER'\n",
      " 'MAYBACH' 'CALLAWAY' 'MATCHLESS' 'CARBODIES']\n",
      "369\n",
      "********************\n",
      "color\n",
      "['Иные цвета' 'Желтый' 'Синий' 'Коричневый' 'Черный' 'Зеленый' 'Белый'\n",
      " 'Красный' 'Серый' 'Не заполнено' 'Оранжевый' 'Фиолетовый' 'Многоцветный']\n",
      "13\n",
      "********************\n",
      "model\n",
      "['ВАЗ 2115 и модификации' '5460' 'C-класс' ... 'Прочие модели BEDFORD'\n",
      " '1310' 'Topkick']\n",
      "2780\n",
      "********************\n",
      "category\n",
      "['С-класс (малый средний, компактный) до 4,3 м' 'Самосвалы'\n",
      " 'В-класс (малый) до 3,9 м' 'Бортовые' 'Бортовые грузовые автомобили'\n",
      " 'Фургоны' 'Минивэны и универсалы повышенной вместимости'\n",
      " 'Седельные тягачи' 'D-класс (средний) до 4,6 м'\n",
      " 'А-класс (особо малый) до 3,5 м' 'Велосипеды' 'Мотоциклы'\n",
      " 'Одноэтажные длиной от 5 до 8 м'\n",
      " 'Мопеды с двигателем внутреннего сгорания менее 50 см. куб.'\n",
      " 'Прочая спецтехника' 'Е-класс (высший средний, бизнес-класс) до 4,9 м'\n",
      " 'Иные ТС' 'Тракторы' 'Прочие самоходные машины и механизмы' 'Цистерны'\n",
      " 'Мопеды с двигателем внутреннего сгорания более 50 см. куб.'\n",
      " 'Прочие легковые автомобили' 'Прочие грузовые автомобили'\n",
      " 'Персональное электрическое средство передвижения малой мощности'\n",
      " 'Одноэтажные длиной не более 5 м' 'Иные мототранспортные средства'\n",
      " 'Автоэвакуаторы' 'Автомобили скорой медицинской помощи'\n",
      " 'Гужевой транспорт' 'Рефрижераторы'\n",
      " 'S-класс (высший, представительский класс) более 4,9 м' 'Квадроциклы'\n",
      " 'Фронтальные погрузчики'\n",
      " 'Медицинские комплексы на шасси транспортных средств'\n",
      " 'Автокраны и транспортные средства, оснащенные кранами-манипуляторами'\n",
      " 'не указано' 'Прочие одноэтажные' 'Шасси' 'Мотороллеры'\n",
      " 'Одноэтажные длиной от 8 до 12 м' 'Экскаваторы' 'Прочие'\n",
      " 'Специализированная техника военного назначения' 'Прочие одноярусные'\n",
      " 'Оснащённые специализированным оборудованием  автотранспортные средства для коммунального хозяйства и  содержания дорог'\n",
      " 'Одноэтажные, сочлененные длиной более 12 м' 'Автобетононасосы'\n",
      " 'Самоходные машины и механизмы сельскохозяйственного назначения'\n",
      " 'Транспортные средства для перевозки пищевых жидкостей'\n",
      " 'Легковые автомобили (без типа)'\n",
      " 'Транспортные средства оперативно-служебные для перевозки лиц, находящихся под стражей'\n",
      " 'Боевая техника' 'Самоходные мотоблоки' 'Подвижной состав ж/д'\n",
      " 'Квадрициклы' 'Мотовелосипеды'\n",
      " 'Транспортные средства для перевозки денежной выручки и ценных грузов'\n",
      " 'Автобетоносмесители'\n",
      " 'Иные дорожно-строительные и дорожно-эксплуатационные машины и механизмы'\n",
      " 'Пожарные автомобили' 'Спортивные (гоночные)' 'Тягачи'\n",
      " 'Специализированная техника МВД' 'Грузовые автомобили (без типа)'\n",
      " 'Мотоколяски' 'Мопеды с электродвигателем менее 4 кВт'\n",
      " 'Специализированная техника аварийно-спасательного назначения'\n",
      " 'Двухэтажные' 'Мототранспорт (без типа)' 'Автогрейдеры'\n",
      " 'Оснащённые специализированным оборудованием автотранспортные средства аварийно-спасательных служб и полиции'\n",
      " 'Прочие Типы ТС (без типа)' 'Школьные автобусы' 'Спецтехника (без типа)'\n",
      " 'Транспортные средства для перевозки нефтепродуктов'\n",
      " 'Транспортные средства, оснащенные подъемниками с рабочими платформами'\n",
      " 'Трициклы' 'Троллейбусы' 'Автобусы (без типа)' 'Автогудронаторы'\n",
      " 'Карьерные самосвалы' 'Трамваи' 'Не установлено (без типа)' 'Снегоходы'\n",
      " 'Транспортные средства для обслуживания нефтяных и  газовых скважин'\n",
      " 'Транспортные средства для перевозки сжиженных углеводородных газов на давление до 1,8 Мпа'\n",
      " 'Специализированная снегоуборочная техника' 'Автоцементовозы'\n",
      " 'Автолесовозы' 'Бульдозеры' 'Прицепы тракторные' 'Не установлено'\n",
      " 'Электробусы' 'Двухярусные' 'Транспортные средства для перевозки детей'\n",
      " 'Транспортные средства для перевозки длинномерных грузов' 'Автодома'\n",
      " 'Прицепы прочие' 'Полуприцепы прочие' 'Полуприцепы-фургоны'\n",
      " 'Мотонарты, аэросани' 'Прицепы к легковым автомобилям']\n"
     ]
    },
    {
     "name": "stdout",
     "output_type": "stream",
     "text": [
      "102\n",
      "********************\n",
      "category_group\n",
      "['Легковые автомобили' 'Грузовые автомобили' 'Велосипеды' 'Мототранспорт'\n",
      " 'Автобусы' 'Специализированная техника' 'Прочие ТС'\n",
      " 'Специальный транспрот' 'Электросамокаты+' 'Гужевой транспорт'\n",
      " 'не указано' 'Подвижной состав ж/д' 'Городской электротранспорт'\n",
      " 'Трамваи' 'Не установлено']\n",
      "15\n",
      "********************\n",
      "transport_id\n",
      "[ 1  2  3  4  5  6  7  8  9 10 11 12 13 14 15 16 17 18 19 20 21 22 23 24\n",
      " 25 26]\n",
      "26\n",
      "********************\n",
      "datetime\n",
      "<DatetimeArray>\n",
      "['2022-06-10 16:00:00', '2022-05-23 13:05:00', '2022-05-09 04:00:00',\n",
      " '2015-05-10 14:15:00', '2016-08-08 20:10:00', '2023-01-25 20:10:00',\n",
      " '2017-10-06 12:40:00', '2020-07-28 03:10:00', '2018-07-30 19:20:00',\n",
      " '2023-02-07 09:00:00',\n",
      " ...\n",
      " '2022-05-24 17:25:00', '2023-03-24 09:55:00', '2023-06-21 10:25:00',\n",
      " '2023-09-13 23:30:00', '2023-06-11 06:20:00', '2016-09-25 20:05:00',\n",
      " '2016-06-14 07:25:00', '2018-07-17 16:43:00', '2020-02-20 17:05:00',\n",
      " '2021-02-08 20:25:00']\n",
      "Length: 726057, dtype: datetime64[ns]\n",
      "726057\n",
      "********************\n",
      "year_dtp\n",
      "[2022 2015 2016 2023 2017 2020 2018 2021 2019 2024]\n",
      "10\n",
      "********************\n",
      "car_age\n",
      "[1.700e+01 1.600e+01 2.900e+01 1.000e+00 7.000e+00 3.200e+01 2.500e+01\n",
      " 1.200e+01 1.000e+01 1.300e+01 4.000e+00 2.200e+01 3.600e+01 2.000e+01\n",
      " 2.400e+01 8.000e+00 1.500e+01 1.800e+01 5.000e+00 1.100e+01 1.400e+01\n",
      " 3.000e+00 3.500e+01 2.000e+00 6.000e+00 9.000e+00 0.000e+00 1.900e+01\n",
      "       nan 2.600e+01 3.100e+01 2.100e+01 3.000e+01 2.700e+01 2.300e+01\n",
      " 4.200e+01 3.400e+01 3.700e+01 2.800e+01 3.300e+01 4.100e+01 4.400e+01\n",
      " 5.600e+01 3.800e+01 4.300e+01 4.600e+01 3.900e+01 4.000e+01 4.800e+01\n",
      " 2.014e+03 4.500e+01 5.800e+01 9.600e+01 5.200e+01 4.700e+01 5.000e+01\n",
      " 5.500e+01 4.900e+01 1.000e+02 9.500e+01 6.400e+01 5.900e+01 9.800e+01\n",
      " 5.100e+01 5.300e+01 5.400e+01 5.700e+01 6.900e+01 1.200e+02 1.210e+02\n",
      " 6.200e+01 6.800e+01 6.100e+01 1.160e+02 6.500e+01 1.130e+02 1.110e+02\n",
      " 6.300e+01 6.000e+01 1.080e+02 6.700e+01 1.090e+02 8.100e+01 1.100e+02\n",
      " 7.200e+01 1.060e+02 1.070e+02 1.230e+02 8.700e+01 9.900e+01 1.120e+02\n",
      " 8.200e+01 1.010e+02 7.100e+01 1.220e+02 7.600e+01 1.190e+02 6.600e+01\n",
      " 7.400e+01 9.300e+01 1.140e+02 9.700e+01 1.030e+02 7.000e+01]\n",
      "103\n",
      "********************\n",
      "car_cat\n",
      "['Старые', 'Раритетные', 'Новые', 'Средние', NaN]\n",
      "Categories (4, object): ['Новые' < 'Средние' < 'Старые' < 'Раритетные']\n",
      "4\n",
      "********************\n",
      "Новые\n",
      "[0 1]\n",
      "2\n",
      "********************\n",
      "Средние\n",
      "[0 1]\n",
      "2\n",
      "********************\n",
      "Старые\n",
      "[1 0]\n",
      "2\n",
      "********************\n",
      "Раритетные\n",
      "[0 1]\n",
      "2\n",
      "********************\n",
      "Общая информация\n",
      "<class 'pandas.core.frame.DataFrame'>\n",
      "RangeIndex: 2232663 entries, 0 to 2232662\n",
      "Data columns (total 16 columns):\n",
      " #   Column          Dtype         \n",
      "---  ------          -----         \n",
      " 0   id              int64         \n",
      " 1   year            float64       \n",
      " 2   brand           object        \n",
      " 3   color           object        \n",
      " 4   model           object        \n",
      " 5   category        object        \n",
      " 6   category_group  object        \n",
      " 7   transport_id    int64         \n",
      " 8   datetime        datetime64[ns]\n",
      " 9   year_dtp        int32         \n",
      " 10  car_age         float64       \n",
      " 11  car_cat         category      \n",
      " 12  Новые           int32         \n",
      " 13  Средние         int32         \n",
      " 14  Старые          int32         \n",
      " 15  Раритетные      int32         \n",
      "dtypes: category(1), datetime64[ns](1), float64(2), int32(5), int64(2), object(5)\n",
      "memory usage: 215.1+ MB\n",
      "None\n",
      "--------------------------------------------------\n",
      "Пропуски\n",
      "id                     0\n",
      "year              101037\n",
      "brand                  0\n",
      "color                  0\n",
      "model                  0\n",
      "category               0\n",
      "category_group         0\n",
      "transport_id           0\n",
      "datetime               0\n",
      "year_dtp               0\n",
      "car_age           101037\n",
      "car_cat           101037\n",
      "Новые                  0\n",
      "Средние                0\n",
      "Старые                 0\n",
      "Раритетные             0\n",
      "dtype: int64\n",
      "--------------------------------------------------\n"
     ]
    }
   ],
   "source": [
    "inform(df_veh_new)"
   ]
  },
  {
   "cell_type": "markdown",
   "id": "9e6ae89e",
   "metadata": {},
   "source": [
    "Уменьшим размерность, где это возможно."
   ]
  },
  {
   "cell_type": "code",
   "execution_count": 128,
   "id": "499c1014",
   "metadata": {},
   "outputs": [],
   "source": [
    "df_veh_new[['transport_id','Новые','Средние','Старые','Раритетные']] = df_veh_new[['transport_id','Новые','Средние','Старые','Раритетные']].astype('int8')"
   ]
  },
  {
   "cell_type": "code",
   "execution_count": 129,
   "id": "157e2a16",
   "metadata": {},
   "outputs": [],
   "source": [
    "df_veh_new['id']=df_veh_new['id'].astype('int32')\n"
   ]
  },
  {
   "cell_type": "code",
   "execution_count": 130,
   "id": "31b0ee57",
   "metadata": {},
   "outputs": [],
   "source": [
    "df_veh_new['car_age']=df_veh_new['car_age'].astype('float32')"
   ]
  },
  {
   "cell_type": "markdown",
   "id": "124fb1df",
   "metadata": {},
   "source": [
    "И разделим на части.Иначе файлы не удастся выгрузить в Даталенс."
   ]
  },
  {
   "cell_type": "code",
   "execution_count": 131,
   "id": "bd0a8b06",
   "metadata": {},
   "outputs": [],
   "source": [
    "df_veh_new1 = df_veh_new[['id','transport_id','brand','color','model','car_age','car_cat']].reset_index(drop = True)"
   ]
  },
  {
   "cell_type": "code",
   "execution_count": 132,
   "id": "d98e0223",
   "metadata": {},
   "outputs": [
    {
     "name": "stdout",
     "output_type": "stream",
     "text": [
      "<class 'pandas.core.frame.DataFrame'>\n",
      "RangeIndex: 2232663 entries, 0 to 2232662\n",
      "Data columns (total 7 columns):\n",
      " #   Column        Dtype   \n",
      "---  ------        -----   \n",
      " 0   id            int32   \n",
      " 1   transport_id  int8    \n",
      " 2   brand         object  \n",
      " 3   color         object  \n",
      " 4   model         object  \n",
      " 5   car_age       float32 \n",
      " 6   car_cat       category\n",
      "dtypes: category(1), float32(1), int32(1), int8(1), object(3)\n",
      "memory usage: 72.4+ MB\n"
     ]
    }
   ],
   "source": [
    "df_veh_new1.info()"
   ]
  },
  {
   "cell_type": "code",
   "execution_count": 133,
   "id": "5b71b044",
   "metadata": {},
   "outputs": [],
   "source": [
    "df_veh_new1.to_csv('veh_1.csv', index=False)"
   ]
  },
  {
   "cell_type": "code",
   "execution_count": 134,
   "id": "1b767088",
   "metadata": {},
   "outputs": [],
   "source": [
    "del df_veh_new1"
   ]
  },
  {
   "cell_type": "code",
   "execution_count": 135,
   "id": "86cd0343",
   "metadata": {},
   "outputs": [],
   "source": [
    "df_veh_new2 = df_veh_new[['id','transport_id','datetime','category_group']].reset_index(drop = True)"
   ]
  },
  {
   "cell_type": "code",
   "execution_count": 136,
   "id": "e9c82fbe",
   "metadata": {},
   "outputs": [
    {
     "name": "stdout",
     "output_type": "stream",
     "text": [
      "<class 'pandas.core.frame.DataFrame'>\n",
      "RangeIndex: 2232663 entries, 0 to 2232662\n",
      "Data columns (total 4 columns):\n",
      " #   Column          Dtype         \n",
      "---  ------          -----         \n",
      " 0   id              int32         \n",
      " 1   transport_id    int8          \n",
      " 2   datetime        datetime64[ns]\n",
      " 3   category_group  object        \n",
      "dtypes: datetime64[ns](1), int32(1), int8(1), object(1)\n",
      "memory usage: 44.7+ MB\n"
     ]
    }
   ],
   "source": [
    "df_veh_new2.info()"
   ]
  },
  {
   "cell_type": "code",
   "execution_count": 137,
   "id": "0b1b073a",
   "metadata": {},
   "outputs": [],
   "source": [
    "df_veh_new2.to_csv('veh_2.csv', index=False)"
   ]
  },
  {
   "cell_type": "code",
   "execution_count": 138,
   "id": "e42038e7",
   "metadata": {},
   "outputs": [],
   "source": [
    "del df_veh_new2"
   ]
  },
  {
   "cell_type": "code",
   "execution_count": 139,
   "id": "303b65bf",
   "metadata": {},
   "outputs": [],
   "source": [
    "df_veh_new3 = df_veh_new[['id','transport_id','category']].reset_index(drop = True)"
   ]
  },
  {
   "cell_type": "code",
   "execution_count": 140,
   "id": "cb159bd7",
   "metadata": {},
   "outputs": [
    {
     "name": "stdout",
     "output_type": "stream",
     "text": [
      "<class 'pandas.core.frame.DataFrame'>\n",
      "RangeIndex: 2232663 entries, 0 to 2232662\n",
      "Data columns (total 3 columns):\n",
      " #   Column        Dtype \n",
      "---  ------        ----- \n",
      " 0   id            int32 \n",
      " 1   transport_id  int8  \n",
      " 2   category      object\n",
      "dtypes: int32(1), int8(1), object(1)\n",
      "memory usage: 27.7+ MB\n"
     ]
    }
   ],
   "source": [
    "df_veh_new3.info()"
   ]
  },
  {
   "cell_type": "code",
   "execution_count": 141,
   "id": "fb119b04",
   "metadata": {},
   "outputs": [],
   "source": [
    "df_veh_new3.to_csv('veh_3.csv', index=False)"
   ]
  },
  {
   "cell_type": "code",
   "execution_count": 142,
   "id": "c8d971a4",
   "metadata": {},
   "outputs": [],
   "source": [
    "del df_veh_new3"
   ]
  },
  {
   "cell_type": "markdown",
   "id": "73bc33f5",
   "metadata": {},
   "source": [
    "Итого у нас сейчас в Даталенс выгружено в одном подключении 10 файлов."
   ]
  },
  {
   "cell_type": "markdown",
   "id": "77eba224",
   "metadata": {},
   "source": [
    "### Построения дашборда"
   ]
  },
  {
   "cell_type": "markdown",
   "id": "834d5389",
   "metadata": {},
   "source": [
    "Другие гипотезы предположения, которые рассмотрим на этапе построения дашборда."
   ]
  },
  {
   "cell_type": "markdown",
   "id": "15b1a2ee",
   "metadata": {},
   "source": [
    "Ссылка на дашборд <https://datalens.yandex/v3hxfpc9vr8aj>"
   ]
  },
  {
   "cell_type": "markdown",
   "id": "17576f95",
   "metadata": {},
   "source": [
    "## Выводы"
   ]
  },
  {
   "cell_type": "code",
   "execution_count": null,
   "id": "d578db68",
   "metadata": {},
   "outputs": [],
   "source": []
  }
 ],
 "metadata": {
  "kernelspec": {
   "display_name": "Python 3 (ipykernel)",
   "language": "python",
   "name": "python3"
  },
  "language_info": {
   "codemirror_mode": {
    "name": "ipython",
    "version": 3
   },
   "file_extension": ".py",
   "mimetype": "text/x-python",
   "name": "python",
   "nbconvert_exporter": "python",
   "pygments_lexer": "ipython3",
   "version": "3.11.5"
  },
  "toc": {
   "base_numbering": 1,
   "nav_menu": {
    "height": "48.9725px",
    "width": "171.291px"
   },
   "number_sections": true,
   "sideBar": true,
   "skip_h1_title": false,
   "title_cell": "Table of Contents",
   "title_sidebar": "Contents",
   "toc_cell": true,
   "toc_position": {
    "height": "calc(100% - 180px)",
    "left": "10px",
    "top": "150px",
    "width": "164.982px"
   },
   "toc_section_display": true,
   "toc_window_display": false
  }
 },
 "nbformat": 4,
 "nbformat_minor": 5
}
